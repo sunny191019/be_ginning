{
 "cells": [
  {
   "cell_type": "code",
   "execution_count": 19,
   "id": "71e46f95",
   "metadata": {},
   "outputs": [
    {
     "data": {
      "text/plain": [
       "[['1', '2', '1', '2', '2'],\n",
       " ['1', '3', '2', '3', '2'],\n",
       " ['1', '4', '3', '3', '3'],\n",
       " ['2', '5', '4', '4', '4'],\n",
       " ['2', '5', '6', '2', '5'],\n",
       " ['3', '6', '4', '2', '5'],\n",
       " ['3', '5', '4', '1', '6'],\n",
       " ['3', '5', '5', '1', '3']]"
      ]
     },
     "execution_count": 19,
     "metadata": {},
     "output_type": "execute_result"
    }
   ],
   "source": [
    "import os, usecsv\n",
    "import numpy as np\n",
    "import csv, re\n",
    "os.chdir(r'C:\\Users\\sunny\\Desktop\\python\\do-it-python-master\\05')\n",
    "'''\n",
    "설문조사 항목에 1점부터 5점까지 줌. 그러나 6점도 보임.\n",
    "'''\n",
    "data = usecsv.opencsv('quest.csv')\n",
    "data"
   ]
  },
  {
   "cell_type": "code",
   "execution_count": 20,
   "id": "1d1ac177",
   "metadata": {},
   "outputs": [],
   "source": [
    "#ghrtl tntwk tkdldp dlTdmf ','전처리 함수 연습\n",
    "def switch(listname):\n",
    "    for i in listname:\n",
    "        for j in i:\n",
    "            try:\n",
    "                i[i.index(j)] = float(re.sub(',','',j))\n",
    "            except:\n",
    "                pass\n",
    "    return listname\n",
    "                    "
   ]
  },
  {
   "cell_type": "code",
   "execution_count": 22,
   "id": "a6f15f8d",
   "metadata": {},
   "outputs": [
    {
     "data": {
      "text/plain": [
       "[[1.0, 2.0, 1.0, 2.0, 2.0],\n",
       " [1.0, 3.0, 2.0, 3.0, 2.0],\n",
       " [1.0, 4.0, 3.0, 3.0, 3.0],\n",
       " [2.0, 5.0, 4.0, 4.0, 4.0],\n",
       " [2.0, 5.0, 6.0, 2.0, 5.0],\n",
       " [3.0, 6.0, 4.0, 2.0, 5.0],\n",
       " [3.0, 5.0, 4.0, 1.0, 6.0],\n",
       " [3.0, 5.0, 5.0, 1.0, 3.0]]"
      ]
     },
     "execution_count": 22,
     "metadata": {},
     "output_type": "execute_result"
    }
   ],
   "source": [
    "switch(data)"
   ]
  },
  {
   "cell_type": "code",
   "execution_count": 23,
   "id": "ad00afc9",
   "metadata": {},
   "outputs": [
    {
     "data": {
      "text/plain": [
       "array([[1., 2., 1., 2., 2.],\n",
       "       [1., 3., 2., 3., 2.],\n",
       "       [1., 4., 3., 3., 3.],\n",
       "       [2., 5., 4., 4., 4.],\n",
       "       [2., 5., 6., 2., 5.],\n",
       "       [3., 6., 4., 2., 5.],\n",
       "       [3., 5., 4., 1., 6.],\n",
       "       [3., 5., 5., 1., 3.]])"
      ]
     },
     "execution_count": 23,
     "metadata": {},
     "output_type": "execute_result"
    }
   ],
   "source": [
    "quest = np.array(data) #usecsv.switch\n",
    "quest"
   ]
  },
  {
   "cell_type": "code",
   "execution_count": 24,
   "id": "6c0e3c4f",
   "metadata": {},
   "outputs": [
    {
     "data": {
      "text/plain": [
       "array([[False, False, False, False, False],\n",
       "       [False, False, False, False, False],\n",
       "       [False, False, False, False, False],\n",
       "       [False, False, False, False, False],\n",
       "       [False, False,  True, False, False],\n",
       "       [False,  True, False, False, False],\n",
       "       [False, False, False, False,  True],\n",
       "       [False, False, False, False, False]])"
      ]
     },
     "execution_count": 24,
     "metadata": {},
     "output_type": "execute_result"
    }
   ],
   "source": [
    "quest >5"
   ]
  },
  {
   "cell_type": "code",
   "execution_count": 25,
   "id": "2679b512",
   "metadata": {},
   "outputs": [
    {
     "data": {
      "text/plain": [
       "array([6., 6., 6.])"
      ]
     },
     "execution_count": 25,
     "metadata": {},
     "output_type": "execute_result"
    }
   ],
   "source": [
    "quest[quest >5]"
   ]
  },
  {
   "cell_type": "code",
   "execution_count": 26,
   "id": "053aac70",
   "metadata": {},
   "outputs": [],
   "source": [
    "quest[quest >5] = 5"
   ]
  },
  {
   "cell_type": "code",
   "execution_count": 27,
   "id": "17e59f0b",
   "metadata": {},
   "outputs": [
    {
     "data": {
      "text/plain": [
       "array([[False, False, False, False, False],\n",
       "       [False, False, False, False, False],\n",
       "       [False, False, False, False, False],\n",
       "       [False, False, False, False, False],\n",
       "       [False, False, False, False, False],\n",
       "       [False, False, False, False, False],\n",
       "       [False, False, False, False, False],\n",
       "       [False, False, False, False, False]])"
      ]
     },
     "execution_count": 27,
     "metadata": {},
     "output_type": "execute_result"
    }
   ],
   "source": [
    "quest >5"
   ]
  },
  {
   "cell_type": "code",
   "execution_count": 28,
   "id": "b8fe0b2c",
   "metadata": {},
   "outputs": [
    {
     "data": {
      "text/plain": [
       "array([[1., 2., 1., 2., 2.],\n",
       "       [1., 3., 2., 3., 2.],\n",
       "       [1., 4., 3., 3., 3.],\n",
       "       [2., 5., 4., 4., 4.],\n",
       "       [2., 5., 5., 2., 5.],\n",
       "       [3., 5., 4., 2., 5.],\n",
       "       [3., 5., 4., 1., 5.],\n",
       "       [3., 5., 5., 1., 3.]])"
      ]
     },
     "execution_count": 28,
     "metadata": {},
     "output_type": "execute_result"
    }
   ],
   "source": [
    "quest"
   ]
  },
  {
   "cell_type": "code",
   "execution_count": 29,
   "id": "cea7bb87",
   "metadata": {},
   "outputs": [],
   "source": [
    "usecsv.writecsv('resultcsv.csv', list(quest))"
   ]
  },
  {
   "cell_type": "code",
   "execution_count": null,
   "id": "e680ee7f",
   "metadata": {},
   "outputs": [],
   "source": []
  }
 ],
 "metadata": {
  "kernelspec": {
   "display_name": "Python 3",
   "language": "python",
   "name": "python3"
  },
  "language_info": {
   "codemirror_mode": {
    "name": "ipython",
    "version": 3
   },
   "file_extension": ".py",
   "mimetype": "text/x-python",
   "name": "python",
   "nbconvert_exporter": "python",
   "pygments_lexer": "ipython3",
   "version": "3.8.8"
  }
 },
 "nbformat": 4,
 "nbformat_minor": 5
}
