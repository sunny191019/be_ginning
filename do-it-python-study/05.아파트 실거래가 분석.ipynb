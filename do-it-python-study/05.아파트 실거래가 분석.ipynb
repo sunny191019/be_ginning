{
 "cells": [
  {
   "cell_type": "code",
   "execution_count": 4,
   "id": "70f4938a",
   "metadata": {},
   "outputs": [
    {
     "data": {
      "text/plain": [
       "[['시군구',\n",
       "  '번지',\n",
       "  '본번',\n",
       "  '부번',\n",
       "  '단지명',\n",
       "  '면적',\n",
       "  '계약년월',\n",
       "  '계약일',\n",
       "  '가격',\n",
       "  '층',\n",
       "  '건축년도',\n",
       "  '도로명'],\n",
       " ['강원도 강릉시 견소동',\n",
       "  202.0,\n",
       "  202.0,\n",
       "  0.0,\n",
       "  '송정한신',\n",
       "  59.8,\n",
       "  201910.0,\n",
       "  4.0,\n",
       "  10900.0,\n",
       "  5.0,\n",
       "  1997.0,\n",
       "  '경강로2539번길 8'],\n",
       " ['강원도 강릉시 견소동',\n",
       "  202.0,\n",
       "  202.0,\n",
       "  0.0,\n",
       "  '송정한신',\n",
       "  116.175,\n",
       "  201910.0,\n",
       "  31.0,\n",
       "  18500.0,\n",
       "  10.0,\n",
       "  1997.0,\n",
       "  '경강로2539번길 8']]"
      ]
     },
     "execution_count": 4,
     "metadata": {},
     "output_type": "execute_result"
    }
   ],
   "source": [
    "import os, re, usecsv\n",
    "os.chdir(r'C:\\Users\\sunny\\Desktop\\python\\do-it-python-master\\04')\n",
    "apt = usecsv.switch(usecsv.opencsv('apt_201910.csv'))\n",
    "apt[:3]"
   ]
  },
  {
   "cell_type": "code",
   "execution_count": 5,
   "id": "265c004e",
   "metadata": {},
   "outputs": [
    {
     "data": {
      "text/plain": [
       "42759"
      ]
     },
     "execution_count": 5,
     "metadata": {},
     "output_type": "execute_result"
    }
   ],
   "source": [
    "len(apt)"
   ]
  },
  {
   "cell_type": "code",
   "execution_count": 7,
   "id": "87a00cfa",
   "metadata": {},
   "outputs": [
    {
     "name": "stdout",
     "output_type": "stream",
     "text": [
      "시군구 단지명 가격\n",
      "강원도 강릉시 견소동 송정한신 10900.0\n",
      "강원도 강릉시 견소동 송정한신 18500.0\n",
      "강원도 강릉시 견소동 송정해변신도브래뉴아파트 25000.0\n",
      "강원도 강릉시 견소동 송정해변신도브래뉴아파트 20600.0\n",
      "강원도 강릉시 견소동 송정해변신도브래뉴아파트 20500.0\n",
      "강원도 강릉시 교동 강릉 교동 풍림아이원 아파트 29200.0\n",
      "강원도 강릉시 교동 강릉교동롯데캐슬1단지 34300.0\n",
      "강원도 강릉시 교동 강릉교동롯데캐슬2단지 32500.0\n",
      "강원도 강릉시 교동 교동1주공 16200.0\n"
     ]
    }
   ],
   "source": [
    "for i in apt[:10]:\n",
    "    print(i[0],i[4],i[8])"
   ]
  },
  {
   "cell_type": "code",
   "execution_count": 10,
   "id": "a374a88e",
   "metadata": {},
   "outputs": [
    {
     "name": "stdout",
     "output_type": "stream",
     "text": [
      "강원도 강릉시 교동 강릉교동롯데캐슬1단지 34300.0\n",
      "강원도 강릉시 교동 교동이-편한세상 32500.0\n",
      "강원도 원주시 무실동 무실e-편한세상 37000.0\n",
      "강원도 원주시 무실동 무실e-편한세상 44600.0\n",
      "강원도 원주시 반곡동 원주반곡아이파크 40700.0\n",
      "강원도 원주시 판부면 서곡리 원주더샾아파트 34000.0\n",
      "강원도 춘천시 석사동 현진에버빌2차 35500.0\n",
      "강원도 춘천시 석사동 현진에버빌2차 31200.0\n",
      "강원도 춘천시 우두동 롯데인벤스 36500.0\n",
      "강원도 춘천시 퇴계동 휴먼시아남춘천1단지 34000.0\n",
      "강원도 춘천시 후평동 춘천더샵 30900.0\n"
     ]
    }
   ],
   "source": [
    "# 강원도의 전용면적 120m이상 거래가 3억원 이상 아파트 추출\n",
    "\n",
    "for i in apt:\n",
    "    try:\n",
    "        if i[5] >120 and i[8] >30000 and re.match('강원', i[0]):\n",
    "            print(i[0],i[4],i[8])\n",
    "    except:\n",
    "        pass"
   ]
  },
  {
   "cell_type": "code",
   "execution_count": 15,
   "id": "12ec5e23",
   "metadata": {},
   "outputs": [],
   "source": [
    "gangwon_apt = []\n",
    "for i in apt:\n",
    "    try:\n",
    "        if i[5] >120 and i[8] >30000 and re.match('강원', i[0]):\n",
    "            gangwon_apt.append([i[0],i[4],i[8]])\n",
    "    except:\n",
    "        pass"
   ]
  },
  {
   "cell_type": "code",
   "execution_count": 16,
   "id": "f2553fd0",
   "metadata": {},
   "outputs": [
    {
     "name": "stdout",
     "output_type": "stream",
     "text": [
      "[['강원도 강릉시 교동', '강릉교동롯데캐슬1단지', 34300.0], ['강원도 강릉시 교동', '교동이-편한세상', 32500.0], ['강원도 원주시 무실동', '무실e-편한세상', 37000.0], ['강원도 원주시 무실동', '무실e-편한세상', 44600.0], ['강원도 원주시 반곡동', '원주반곡아이파크', 40700.0], ['강원도 원주시 판부면 서곡리', '원주더샾아파트', 34000.0], ['강원도 춘천시 석사동', '현진에버빌2차', 35500.0], ['강원도 춘천시 석사동', '현진에버빌2차', 31200.0], ['강원도 춘천시 우두동', '롯데인벤스', 36500.0], ['강원도 춘천시 퇴계동', '휴먼시아남춘천1단지', 34000.0], ['강원도 춘천시 후평동', '춘천더샵', 30900.0]]\n"
     ]
    }
   ],
   "source": [
    "print(gangwon_apt)"
   ]
  },
  {
   "cell_type": "code",
   "execution_count": 17,
   "id": "9ab7965a",
   "metadata": {},
   "outputs": [],
   "source": [
    "usecsv.writecsv('apt_gangwon_30000.csv',gangwon_apt )"
   ]
  },
  {
   "cell_type": "code",
   "execution_count": 18,
   "id": "4e3d29f9",
   "metadata": {},
   "outputs": [
    {
     "data": {
      "text/plain": [
       "[['강원도 강릉시 교동', '강릉교동롯데캐슬1단지', '34300.0'],\n",
       " ['강원도 강릉시 교동', '교동이-편한세상', '32500.0'],\n",
       " ['강원도 원주시 무실동', '무실e-편한세상', '37000.0'],\n",
       " ['강원도 원주시 무실동', '무실e-편한세상', '44600.0'],\n",
       " ['강원도 원주시 반곡동', '원주반곡아이파크', '40700.0'],\n",
       " ['강원도 원주시 판부면 서곡리', '원주더샾아파트', '34000.0'],\n",
       " ['강원도 춘천시 석사동', '현진에버빌2차', '35500.0'],\n",
       " ['강원도 춘천시 석사동', '현진에버빌2차', '31200.0'],\n",
       " ['강원도 춘천시 우두동', '롯데인벤스', '36500.0'],\n",
       " ['강원도 춘천시 퇴계동', '휴먼시아남춘천1단지', '34000.0'],\n",
       " ['강원도 춘천시 후평동', '춘천더샵', '30900.0']]"
      ]
     },
     "execution_count": 18,
     "metadata": {},
     "output_type": "execute_result"
    }
   ],
   "source": [
    "usecsv.opencsv('apt_gangwon_30000.csv')"
   ]
  },
  {
   "cell_type": "code",
   "execution_count": null,
   "id": "7a98243f",
   "metadata": {},
   "outputs": [],
   "source": []
  }
 ],
 "metadata": {
  "kernelspec": {
   "display_name": "Python 3",
   "language": "python",
   "name": "python3"
  },
  "language_info": {
   "codemirror_mode": {
    "name": "ipython",
    "version": 3
   },
   "file_extension": ".py",
   "mimetype": "text/x-python",
   "name": "python",
   "nbconvert_exporter": "python",
   "pygments_lexer": "ipython3",
   "version": "3.8.8"
  }
 },
 "nbformat": 4,
 "nbformat_minor": 5
}
