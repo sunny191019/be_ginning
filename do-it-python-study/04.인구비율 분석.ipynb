{
 "cells": [
  {
   "cell_type": "code",
   "execution_count": 16,
   "id": "859822fe",
   "metadata": {},
   "outputs": [
    {
     "name": "stdout",
     "output_type": "stream",
     "text": [
      "27\n"
     ]
    }
   ],
   "source": [
    "import re, os\n",
    "import usecsv\n",
    "os.chdir(r'C:\\Users\\sunny\\Desktop\\python\\do-it-python-master\\04')\n",
    "total = usecsv.opencsv('popSeoul.csv')\n",
    "print(len(total))"
   ]
  },
  {
   "cell_type": "code",
   "execution_count": 24,
   "id": "c0d590e6",
   "metadata": {},
   "outputs": [
    {
     "name": "stdout",
     "output_type": "stream",
     "text": [
      "['Gu', 'Korean', 'Foreigner', 'Senior', 'Total', 9740398.0, 285529.0, 1468146.0, 'Jongrogu', 151767.0, 11093.0, 27394.0, 'Jongru', 126409.0, 10254.0, 23025.0, 'Yongsangu', 228830.0, 16159.0, 38531.0, 'Seongdonggu', 303158.0, 8132.0, 43662.0, 'Kwangjingu', 352692.0, 15645.0, 47347.0, 'Dongdaemoongu', 346551.0, 17228.0, 58764.0, 'Jungranggu', 398812.0, 4964.0, 64449.0, 'Seongbukgu', 441590.0, 12524.0, 70204.0, 'Gangbukgu', 314090.0, 3785.0, 59808.0, 'Dobonggu', 335280.0, 2314.0, 58070.0, 'Nowonggu', 535282.0, 4547.0, 79968.0, 'Eunpyonggu', 481663.0, 4496.0, 79957.0, 'Seodaemungu', 310069.0, 14020.0, 51708.0, 'Mapogu', 373629.0, 11976.0, 51961.0, 'Yangcheongu', 459849.0, 4082.0, 60487.0, 'Gangseogu', 593708.0, 6532.0, 82937.0, 'Gurogu', 406748.0, 33102.0, 64952.0, 'Guemcheongu', 233371.0, 19497.0, 37191.0, 'Youngdeungpogu', 368402.0, 34076.0, 57350.0, 'Dongjakgu', 397618.0, 12869.0, 61607.0, 'Kwanakgu', 502117.0, 17836.0, 74518.0, 'Seoucheogu', 431027.0, 4231.0, 56455.0, 'Gangnamgu', 544028.0, 5015.0, 70029.0, 'Songpagu', 677489.0, 6849.0, 86062.0, 'Gangdonggu', 426219.0, 4303.0, 61710.0]\n"
     ]
    }
   ],
   "source": [
    "# data = []\n",
    "# for i in total:\n",
    "#     for j in i:\n",
    "#         if re.search('\\d', j):\n",
    "#             data.append(float(re.sub(',', '', j)))\n",
    "#         else:\n",
    "#              data.append(j)\n",
    "# print(data)"
   ]
  },
  {
   "cell_type": "code",
   "execution_count": 13,
   "id": "2918a118",
   "metadata": {},
   "outputs": [
    {
     "name": "stdout",
     "output_type": "stream",
     "text": [
      "['Gu', 'Korean', 'Foreigner', 'Senior', 'Total', 9740398.0, 285529.0, 1468146.0, 'Jongrogu', 151767.0, 11093.0, 27394.0, 'Jongru', 126409.0, 10254.0, 23025.0, 'Yongsangu', 228830.0, 16159.0, 38531.0, 'Seongdonggu', 303158.0, 8132.0, 43662.0, 'Kwangjingu', 352692.0, 15645.0, 47347.0, 'Dongdaemoongu', 346551.0, 17228.0, 58764.0, 'Jungranggu', 398812.0, 4964.0, 64449.0, 'Seongbukgu', 441590.0, 12524.0, 70204.0, 'Gangbukgu', 314090.0, 3785.0, 59808.0, 'Dobonggu', 335280.0, 2314.0, 58070.0, 'Nowonggu', 535282.0, 4547.0, 79968.0, 'Eunpyonggu', 481663.0, 4496.0, 79957.0, 'Seodaemungu', 310069.0, 14020.0, 51708.0, 'Mapogu', 373629.0, 11976.0, 51961.0, 'Yangcheongu', 459849.0, 4082.0, 60487.0, 'Gangseogu', 593708.0, 6532.0, 82937.0, 'Gurogu', 406748.0, 33102.0, 64952.0, 'Guemcheongu', 233371.0, 19497.0, 37191.0, 'Youngdeungpogu', 368402.0, 34076.0, 57350.0, 'Dongjakgu', 397618.0, 12869.0, 61607.0, 'Kwanakgu', 502117.0, 17836.0, 74518.0, 'Seoucheogu', 431027.0, 4231.0, 56455.0, 'Gangnamgu', 544028.0, 5015.0, 70029.0, 'Songpagu', 677489.0, 6849.0, 86062.0, 'Gangdonggu', 426219.0, 4303.0, 61710.0]\n"
     ]
    }
   ],
   "source": [
    "# # 또는 한 단계 더 업그레이드된 필터\n",
    "# data = []\n",
    "# for i in total:\n",
    "#     for j in i:\n",
    "#         if re.search('[a-z가-힣!]', j): #문자와 특수문자'!'를 찾음\n",
    "#             data.append(j)\n",
    "#         else:\n",
    "#             data.append(float(re.sub(',', '', j)))\n",
    "            \n",
    "# print(data)       "
   ]
  },
  {
   "cell_type": "code",
   "execution_count": 27,
   "id": "4d2dd553",
   "metadata": {},
   "outputs": [
    {
     "data": {
      "text/plain": [
       "[['Gu', 'Korean', 'Foreigner', 'Senior'],\n",
       " ['Total', 9740398.0, 285529.0, 1468146.0],\n",
       " ['Jongrogu', 151767.0, 11093.0, 27394.0],\n",
       " ['Jongru', 126409.0, 10254.0, 23025.0],\n",
       " ['Yongsangu', 228830.0, 16159.0, 38531.0],\n",
       " ['Seongdonggu', 303158.0, 8132.0, 43662.0],\n",
       " ['Kwangjingu', 352692.0, 15645.0, 47347.0],\n",
       " ['Dongdaemoongu', 346551.0, 17228.0, 58764.0],\n",
       " ['Jungranggu', 398812.0, 4964.0, 64449.0],\n",
       " ['Seongbukgu', 441590.0, 12524.0, 70204.0],\n",
       " ['Gangbukgu', 314090.0, 3785.0, 59808.0],\n",
       " ['Dobonggu', 335280.0, 2314.0, 58070.0],\n",
       " ['Nowonggu', 535282.0, 4547.0, 79968.0],\n",
       " ['Eunpyonggu', 481663.0, 4496.0, 79957.0],\n",
       " ['Seodaemungu', 310069.0, 14020.0, 51708.0],\n",
       " ['Mapogu', 373629.0, 11976.0, 51961.0],\n",
       " ['Yangcheongu', 459849.0, 4082.0, 60487.0],\n",
       " ['Gangseogu', 593708.0, 6532.0, 82937.0],\n",
       " ['Gurogu', 406748.0, 33102.0, 64952.0],\n",
       " ['Guemcheongu', 233371.0, 19497.0, 37191.0],\n",
       " ['Youngdeungpogu', 368402.0, 34076.0, 57350.0],\n",
       " ['Dongjakgu', 397618.0, 12869.0, 61607.0],\n",
       " ['Kwanakgu', 502117.0, 17836.0, 74518.0],\n",
       " ['Seoucheogu', 431027.0, 4231.0, 56455.0],\n",
       " ['Gangnamgu', 544028.0, 5015.0, 70029.0],\n",
       " ['Songpagu', 677489.0, 6849.0, 86062.0],\n",
       " ['Gangdonggu', 426219.0, 4303.0, 61710.0]]"
      ]
     },
     "execution_count": 27,
     "metadata": {},
     "output_type": "execute_result"
    }
   ],
   "source": [
    "# 예외처리를 해 준 최종\n",
    "\n",
    "for i in total:\n",
    "    for j in i:\n",
    "        try:\n",
    "            i[i.index(j)] = float(re.sub(',','',j))\n",
    "        except:\n",
    "            pass\n",
    "total"
   ]
  },
  {
   "cell_type": "code",
   "execution_count": 33,
   "id": "663b865f",
   "metadata": {},
   "outputs": [
    {
     "data": {
      "text/plain": [
       "0"
      ]
     },
     "execution_count": 33,
     "metadata": {},
     "output_type": "execute_result"
    }
   ],
   "source": [
    "a = ['123!!', '123,234','11,090','234,345']\n",
    "a.index('123!!')"
   ]
  },
  {
   "cell_type": "code",
   "execution_count": 39,
   "id": "c59800df",
   "metadata": {},
   "outputs": [
    {
     "data": {
      "text/plain": [
       "['123', '123,234', '11,090', '234,345']"
      ]
     },
     "execution_count": 39,
     "metadata": {},
     "output_type": "execute_result"
    }
   ],
   "source": [
    "a[a.index('123!!')]= '123'\n",
    "a"
   ]
  },
  {
   "cell_type": "code",
   "execution_count": 54,
   "id": "097693f7",
   "metadata": {},
   "outputs": [],
   "source": [
    "#최종 USECSV\n",
    "\n",
    "import csv, re\n",
    "\n",
    "def fileopen(file):\n",
    "    f = open(file, 'r')\n",
    "    reader = csv.reader(f)\n",
    "    output = []\n",
    "    for i in reader:\n",
    "        output.append(i)\n",
    "    return output\n",
    "\n",
    "def writefile(file, add_list):\n",
    "    with open(file, 'w', newline = '') as f:\n",
    "        a = csv.writer(f, delimiter = ',')\n",
    "        a.writerows(add_list)\n",
    "        \n",
    "def switch(listname):\n",
    "    for i in listname:\n",
    "        for j in i:\n",
    "            try:\n",
    "                i[i.index[j]] = float(re.sub(',','',j))\n",
    "            except:\n",
    "                pass\n",
    "    return listname\n"
   ]
  },
  {
   "cell_type": "markdown",
   "id": "c993fe13",
   "metadata": {},
   "source": [
    "### 외국인 등록자가 3% 를 넘는 구 추출"
   ]
  },
  {
   "cell_type": "code",
   "execution_count": 40,
   "id": "b95a4eb5",
   "metadata": {},
   "outputs": [
    {
     "data": {
      "text/plain": [
       "[['Gu', 'Korean', 'Foreigner', 'Senior'],\n",
       " ['Total', 9740398.0, 285529.0, 1468146.0],\n",
       " ['Jongrogu', 151767.0, 11093.0, 27394.0],\n",
       " ['Jongru', 126409.0, 10254.0, 23025.0]]"
      ]
     },
     "execution_count": 40,
     "metadata": {},
     "output_type": "execute_result"
    }
   ],
   "source": [
    "total[:4]"
   ]
  },
  {
   "cell_type": "code",
   "execution_count": 45,
   "id": "f9064924",
   "metadata": {},
   "outputs": [
    {
     "name": "stdout",
     "output_type": "stream",
     "text": [
      "Total 2.8 %\n",
      "Jongrogu 6.8 %\n",
      "Jongru 7.5 %\n",
      "Yongsangu 6.6 %\n",
      "Seongdonggu 2.6 %\n",
      "Kwangjingu 4.2 %\n",
      "Dongdaemoongu 4.7 %\n",
      "Jungranggu 1.2 %\n",
      "Seongbukgu 2.8 %\n",
      "Gangbukgu 1.2 %\n",
      "Dobonggu 0.7 %\n",
      "Nowonggu 0.8 %\n",
      "Eunpyonggu 0.9 %\n",
      "Seodaemungu 4.3 %\n",
      "Mapogu 3.1 %\n",
      "Yangcheongu 0.9 %\n",
      "Gangseogu 1.1 %\n",
      "Gurogu 7.5 %\n",
      "Guemcheongu 7.7 %\n",
      "Youngdeungpogu 8.5 %\n",
      "Dongjakgu 3.1 %\n",
      "Kwanakgu 3.4 %\n",
      "Seoucheogu 1.0 %\n",
      "Gangnamgu 0.9 %\n",
      "Songpagu 1.0 %\n",
      "Gangdonggu 1.0 %\n"
     ]
    }
   ],
   "source": [
    "#각 구의 외국인 비율 구허기\n",
    "\n",
    "for i in total:\n",
    "    foreign = 0\n",
    "    try:\n",
    "        foreign = round(i[2]/(i[1]+i[2])*100,1)\n",
    "        print(i[0], foreign,'%')\n",
    "    except:\n",
    "        pass"
   ]
  },
  {
   "cell_type": "code",
   "execution_count": 51,
   "id": "880d91be",
   "metadata": {},
   "outputs": [
    {
     "name": "stdout",
     "output_type": "stream",
     "text": [
      "[['Gu', 'Korean', 'Foreigner', 'Foreign'], ['Total', 9740398.0, 285529.0, 2.8], ['Jongrogu', 151767.0, 11093.0, 6.8], ['Jongru', 126409.0, 10254.0, 7.5], ['Yongsangu', 228830.0, 16159.0, 6.6], ['Seongdonggu', 303158.0, 8132.0, 2.6], ['Kwangjingu', 352692.0, 15645.0, 4.2], ['Dongdaemoongu', 346551.0, 17228.0, 4.7], ['Jungranggu', 398812.0, 4964.0, 1.2], ['Seongbukgu', 441590.0, 12524.0, 2.8], ['Gangbukgu', 314090.0, 3785.0, 1.2], ['Dobonggu', 335280.0, 2314.0, 0.7], ['Nowonggu', 535282.0, 4547.0, 0.8], ['Eunpyonggu', 481663.0, 4496.0, 0.9], ['Seodaemungu', 310069.0, 14020.0, 4.3], ['Mapogu', 373629.0, 11976.0, 3.1], ['Yangcheongu', 459849.0, 4082.0, 0.9], ['Gangseogu', 593708.0, 6532.0, 1.1], ['Gurogu', 406748.0, 33102.0, 7.5], ['Guemcheongu', 233371.0, 19497.0, 7.7], ['Youngdeungpogu', 368402.0, 34076.0, 8.5], ['Dongjakgu', 397618.0, 12869.0, 3.1], ['Kwanakgu', 502117.0, 17836.0, 3.4], ['Seoucheogu', 431027.0, 4231.0, 1.0], ['Gangnamgu', 544028.0, 5015.0, 0.9], ['Songpagu', 677489.0, 6849.0, 1.0], ['Gangdonggu', 426219.0, 4303.0, 1.0]]\n"
     ]
    }
   ],
   "source": [
    "new_list = [['Gu', 'Korean', 'Foreigner', 'Foreign']]\n",
    "for i in total[1:]:\n",
    "    foreign = 0\n",
    "    try:\n",
    "        foreign = round(i[2]/(i[1]+i[2])*100,1)\n",
    "        new_list.append([i[0], i[1],i[2],foreign])\n",
    "    except:\n",
    "        pass\n",
    "print(new_list)"
   ]
  },
  {
   "cell_type": "code",
   "execution_count": 53,
   "id": "d0ba7964",
   "metadata": {},
   "outputs": [
    {
     "name": "stdout",
     "output_type": "stream",
     "text": [
      "[['Gu', 'Korean', 'Foreigner', 'Foreign'], ['Jongrogu', 151767.0, 11093.0, 6.8], ['Jongru', 126409.0, 10254.0, 7.5], ['Yongsangu', 228830.0, 16159.0, 6.6], ['Kwangjingu', 352692.0, 15645.0, 4.2], ['Dongdaemoongu', 346551.0, 17228.0, 4.7], ['Seodaemungu', 310069.0, 14020.0, 4.3], ['Mapogu', 373629.0, 11976.0, 3.1], ['Gurogu', 406748.0, 33102.0, 7.5], ['Guemcheongu', 233371.0, 19497.0, 7.7], ['Youngdeungpogu', 368402.0, 34076.0, 8.5], ['Dongjakgu', 397618.0, 12869.0, 3.1], ['Kwanakgu', 502117.0, 17836.0, 3.4]]\n"
     ]
    }
   ],
   "source": [
    "new_list = [['Gu', 'Korean', 'Foreigner', 'Foreign']]\n",
    "for i in total[1:]:\n",
    "    foreign = 0\n",
    "    try:\n",
    "        foreign = round(i[2]/(i[1]+i[2])*100,1)\n",
    "        if foreign>=3:\n",
    "            new_list.append([i[0], i[1],i[2],foreign])\n",
    "    except:\n",
    "        pass\n",
    "print(new_list)"
   ]
  },
  {
   "cell_type": "code",
   "execution_count": 55,
   "id": "1cb6613f",
   "metadata": {},
   "outputs": [],
   "source": [
    "writefile('newPOP.csv',new_list )"
   ]
  },
  {
   "cell_type": "code",
   "execution_count": 57,
   "id": "f67d7e71",
   "metadata": {},
   "outputs": [
    {
     "data": {
      "text/plain": [
       "[['Gu', 'Korean', 'Foreigner', 'Foreign'],\n",
       " ['Jongrogu', '151767.0', '11093.0', '6.8'],\n",
       " ['Jongru', '126409.0', '10254.0', '7.5'],\n",
       " ['Yongsangu', '228830.0', '16159.0', '6.6'],\n",
       " ['Kwangjingu', '352692.0', '15645.0', '4.2'],\n",
       " ['Dongdaemoongu', '346551.0', '17228.0', '4.7'],\n",
       " ['Seodaemungu', '310069.0', '14020.0', '4.3'],\n",
       " ['Mapogu', '373629.0', '11976.0', '3.1'],\n",
       " ['Gurogu', '406748.0', '33102.0', '7.5'],\n",
       " ['Guemcheongu', '233371.0', '19497.0', '7.7'],\n",
       " ['Youngdeungpogu', '368402.0', '34076.0', '8.5'],\n",
       " ['Dongjakgu', '397618.0', '12869.0', '3.1'],\n",
       " ['Kwanakgu', '502117.0', '17836.0', '3.4']]"
      ]
     },
     "execution_count": 57,
     "metadata": {},
     "output_type": "execute_result"
    }
   ],
   "source": [
    "fileopen('newPOP.csv')"
   ]
  }
 ],
 "metadata": {
  "kernelspec": {
   "display_name": "Python 3",
   "language": "python",
   "name": "python3"
  },
  "language_info": {
   "codemirror_mode": {
    "name": "ipython",
    "version": 3
   },
   "file_extension": ".py",
   "mimetype": "text/x-python",
   "name": "python",
   "nbconvert_exporter": "python",
   "pygments_lexer": "ipython3",
   "version": "3.8.8"
  }
 },
 "nbformat": 4,
 "nbformat_minor": 5
}
