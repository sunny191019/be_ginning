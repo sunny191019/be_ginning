{
 "cells": [
  {
   "cell_type": "code",
   "execution_count": 1,
   "id": "d93e3ee9",
   "metadata": {},
   "outputs": [],
   "source": [
    "#연습: 할인률 개념을 파이썬으로 구하기\n",
    "#자본의 현재가치 구하기\n",
    "\n",
    "import numpy as np\n",
    "discount = 0.05 # 할인률\n",
    "cashflow = 100 #현금흐름 100억\n",
    "\n",
    "#현재가치 (PV)공식 : PV = CF(_k) / (1+r)**k\n",
    "\n",
    "def presentvalue(n):\n",
    "    return (cashflow/((1+discount)**n)) #n은 햇수 (1년차, 2년차...n년차)"
   ]
  },
  {
   "cell_type": "code",
   "execution_count": 4,
   "id": "e4481c5e",
   "metadata": {},
   "outputs": [
    {
     "name": "stdout",
     "output_type": "stream",
     "text": [
      "95.23809523809524\n"
     ]
    }
   ],
   "source": [
    "print(presentvalue(1)) #1년뒤 자본의 현재가치"
   ]
  },
  {
   "cell_type": "code",
   "execution_count": 5,
   "id": "d5df8348",
   "metadata": {},
   "outputs": [
    {
     "name": "stdout",
     "output_type": "stream",
     "text": [
      "90.70294784580499\n"
     ]
    }
   ],
   "source": [
    "print(presentvalue(2))"
   ]
  },
  {
   "cell_type": "code",
   "execution_count": 6,
   "id": "3c89ef54",
   "metadata": {},
   "outputs": [
    {
     "name": "stdout",
     "output_type": "stream",
     "text": [
      "100.0\n",
      "95.23809523809524\n",
      "90.70294784580499\n",
      "86.3837598531476\n",
      "82.27024747918819\n",
      "78.35261664684589\n",
      "74.62153966366274\n",
      "71.06813301301213\n",
      "67.6839362028687\n",
      "64.46089162177971\n",
      "61.39132535407592\n",
      "58.46792890864373\n",
      "55.68374181775592\n",
      "53.03213506452945\n",
      "50.506795299551854\n",
      "48.101709809096995\n",
      "45.811152199140004\n",
      "43.62966876108571\n",
      "41.5520654867483\n",
      "39.57339570166504\n"
     ]
    }
   ],
   "source": [
    "#20년동안 발생할 가치를 모두 한꺼번에 구할 수 있다.\n",
    "\n",
    "for i in range(20):\n",
    "    print(presentvalue(i))\n",
    "    "
   ]
  },
  {
   "cell_type": "markdown",
   "id": "56a05908",
   "metadata": {},
   "source": [
    "## 놀이동산 사업성분석"
   ]
  },
  {
   "cell_type": "code",
   "execution_count": 2,
   "id": "e19e911b",
   "metadata": {},
   "outputs": [
    {
     "data": {
      "text/plain": [
       "[100,\n",
       " 100,\n",
       " 100,\n",
       " 100,\n",
       " 100,\n",
       " 100,\n",
       " 100,\n",
       " 100,\n",
       " 100,\n",
       " 100,\n",
       " 100,\n",
       " 100,\n",
       " 100,\n",
       " 100,\n",
       " 100,\n",
       " 100,\n",
       " 100,\n",
       " 100]"
      ]
     },
     "execution_count": 2,
     "metadata": {},
     "output_type": "execute_result"
    }
   ],
   "source": [
    "loss = [-750, -250]\n",
    "profit = [100] *18\n",
    "profit"
   ]
  },
  {
   "cell_type": "code",
   "execution_count": 3,
   "id": "1368068d",
   "metadata": {},
   "outputs": [
    {
     "data": {
      "text/plain": [
       "[-750,\n",
       " -250,\n",
       " 100,\n",
       " 100,\n",
       " 100,\n",
       " 100,\n",
       " 100,\n",
       " 100,\n",
       " 100,\n",
       " 100,\n",
       " 100,\n",
       " 100,\n",
       " 100,\n",
       " 100,\n",
       " 100,\n",
       " 100,\n",
       " 100,\n",
       " 100,\n",
       " 100,\n",
       " 100]"
      ]
     },
     "execution_count": 3,
     "metadata": {},
     "output_type": "execute_result"
    }
   ],
   "source": [
    "cf = loss+profit\n",
    "cf"
   ]
  },
  {
   "cell_type": "code",
   "execution_count": 5,
   "id": "cd7a776d",
   "metadata": {},
   "outputs": [
    {
     "data": {
      "text/plain": [
       "array([-750, -250,  100,  100,  100,  100,  100,  100,  100,  100,  100,\n",
       "        100,  100,  100,  100,  100,  100,  100,  100,  100])"
      ]
     },
     "execution_count": 5,
     "metadata": {},
     "output_type": "execute_result"
    }
   ],
   "source": [
    "cashflow = np.array(cf)\n",
    "cashflow"
   ]
  },
  {
   "cell_type": "code",
   "execution_count": 11,
   "id": "ded30a55",
   "metadata": {},
   "outputs": [
    {
     "name": "stdout",
     "output_type": "stream",
     "text": [
      "Collecting numpy_financial\n",
      "  Downloading numpy_financial-1.0.0-py3-none-any.whl (14 kB)\n",
      "Requirement already satisfied: numpy>=1.15 in c:\\programdata\\anaconda3\\lib\\site-packages (from numpy_financial) (1.20.1)\n",
      "Installing collected packages: numpy-financial\n",
      "Successfully installed numpy-financial-1.0.0\n"
     ]
    }
   ],
   "source": [
    "!pip install numpy_financial"
   ]
  },
  {
   "cell_type": "code",
   "execution_count": 12,
   "id": "f5db6875",
   "metadata": {},
   "outputs": [
    {
     "data": {
      "text/plain": [
       "174.4011295118405"
      ]
     },
     "execution_count": 12,
     "metadata": {},
     "output_type": "execute_result"
    }
   ],
   "source": [
    "'''\n",
    "순현재가치 : np.npv(할인율, 현금흐름)\n",
    "내부수익률 : np.irr(현금 흐름)\n",
    "'''\n",
    "import numpy_financial as npf\n",
    "npv = npf.npv(0.045, cashflow) # 할인률 4.5%\n",
    "npv\n",
    "#순현재가치는 약 174억"
   ]
  },
  {
   "cell_type": "code",
   "execution_count": 14,
   "id": "deddd79b",
   "metadata": {},
   "outputs": [
    {
     "data": {
      "text/plain": [
       "0.06434936937255564"
      ]
     },
     "execution_count": 14,
     "metadata": {},
     "output_type": "execute_result"
    }
   ],
   "source": [
    "irr = npf.irr(cashflow)\n",
    "irr\n",
    "#내부수익률은 6.4%  따라서 가정한 할인률이 4.5$인데 수익률이 6.5%이므로 수익성이 있다고 해석할 수 있다. "
   ]
  },
  {
   "cell_type": "code",
   "execution_count": null,
   "id": "746f4089",
   "metadata": {},
   "outputs": [],
   "source": [
    "#하지만 이자를 10%씩 내고, 18년동안 운영한다고 했을 경우 내부수익률이 6.4% 이므로 지불해야할 이자율보다 낮습니다. 즉 현실에서는 할인률 뿐아니라 여러가지 사항을 고려해야 한다."
   ]
  }
 ],
 "metadata": {
  "kernelspec": {
   "display_name": "Python 3",
   "language": "python",
   "name": "python3"
  },
  "language_info": {
   "codemirror_mode": {
    "name": "ipython",
    "version": 3
   },
   "file_extension": ".py",
   "mimetype": "text/x-python",
   "name": "python",
   "nbconvert_exporter": "python",
   "pygments_lexer": "ipython3",
   "version": "3.8.8"
  }
 },
 "nbformat": 4,
 "nbformat_minor": 5
}
