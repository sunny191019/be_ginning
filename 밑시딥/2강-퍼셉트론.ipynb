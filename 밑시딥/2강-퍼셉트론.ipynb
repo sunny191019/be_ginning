{
 "cells": [
  {
   "cell_type": "markdown",
   "id": "0ee3af13",
   "metadata": {},
   "source": [
    "# 퍼셉트론 이란?\n",
    "\n",
    "퍼셉트론(perceptron)은 인공신경망의 한 종류로서, 1957년에 코넬 항공 연구소에서 고안되었다. 동작원리는 각 노드의 가중치와 입력치를 곱한 것을 모두 합한 값이 활성함수에 의해 판단되는데, 그 값이 임계치(보통 0)보다 크면 뉴런이 활성화되고 결과값으로 1을 출력한다. 뉴런이 활성화되지 않으면 결과값으로 -1을 출력한다. 이 후 마빈 민스키 박사에 의해 단층 퍼셉트론은 XOR 연산이 불가능하지만, 다층 퍼셉트론으로는 XOR 연산이 가능함을 보였다.\n",
    "\n",
    ">note : 가중치는 저항과 반대로 작용하지만 신호릐 흐름을 통제 한다는 면에서 같은 기능이라고 볼 수 있다. "
   ]
  },
  {
   "cell_type": "markdown",
   "id": "53a29f3e",
   "metadata": {},
   "source": [
    "## 퍼셉트론을 활용한 간단한 문제"
   ]
  },
  {
   "cell_type": "markdown",
   "id": "f4e4680f",
   "metadata": {},
   "source": [
    "### AND게이트\n",
    "* 입력이 둘 / 출력이 하나"
   ]
  },
  {
   "cell_type": "code",
   "execution_count": 8,
   "id": "7fd5a832",
   "metadata": {},
   "outputs": [
    {
     "name": "stdout",
     "output_type": "stream",
     "text": [
      "(0, 0) -> 0\n",
      "(1, 0) -> 0\n",
      "(0, 1) -> 0\n",
      "(1, 1) -> 1\n"
     ]
    }
   ],
   "source": [
    "import numpy as np\n",
    "\n",
    "#입력이 두 개인 퍼셉트론의 예\n",
    "def AND(x1, x2): #입력신호 x1, x2\n",
    "    x = np.array([x1, x2])\n",
    "    w = np.array([0.5, 0.5]) #가중치가 클수록 해당 신호가 그만큼 중요함을 뜻함\n",
    "    b = -0.7\n",
    "    tmp = np.sum(w*x) + b\n",
    "    if tmp <= 0:\n",
    "        return 0\n",
    "    else:\n",
    "        return 1\n",
    "    \n",
    "if __name__ == '__main__': # if __name__ == \"__main__\" 의 의미는 메인 함수의 선언, 시작을 의미\n",
    "    for xs in [(0, 0), (1, 0), (0, 1), (1, 1)]:\n",
    "        y = AND(xs[0], xs[1])\n",
    "        print(str(xs) + \" -> \" + str(y))"
   ]
  },
  {
   "cell_type": "code",
   "execution_count": 5,
   "id": "4ecec9f3",
   "metadata": {},
   "outputs": [
    {
     "name": "stdout",
     "output_type": "stream",
     "text": [
      "Main Function\n"
     ]
    }
   ],
   "source": [
    "def main():\n",
    "    # python 3에서는 print() 으로 사용합니다.\n",
    "    print(\"Main Function\")\n",
    "\n",
    "if __name__ == \"__main__\":\n",
    "    main()"
   ]
  },
  {
   "cell_type": "markdown",
   "id": "634cb604",
   "metadata": {},
   "source": [
    "### NAND게이트\n",
    "* Not AND : AND게이트 출력을 뒤집은 것"
   ]
  },
  {
   "cell_type": "code",
   "execution_count": 9,
   "id": "85a3743b",
   "metadata": {},
   "outputs": [
    {
     "name": "stdout",
     "output_type": "stream",
     "text": [
      "(0, 0) -> 1\n",
      "(1, 0) -> 1\n",
      "(0, 1) -> 1\n",
      "(1, 1) -> 0\n"
     ]
    }
   ],
   "source": [
    "import numpy as np\n",
    "\n",
    "\n",
    "def NAND(x1, x2):\n",
    "    x = np.array([x1, x2])\n",
    "    w = np.array([-0.5, -0.5])\n",
    "    b = 0.7\n",
    "    tmp = np.sum(w*x) + b\n",
    "    if tmp <= 0:\n",
    "        return 0\n",
    "    else:\n",
    "        return 1\n",
    "\n",
    "if __name__ == '__main__':\n",
    "    for xs in [(0, 0), (1, 0), (0, 1), (1, 1)]:\n",
    "        y = NAND(xs[0], xs[1])\n",
    "        print(str(xs) + \" -> \" + str(y))"
   ]
  },
  {
   "cell_type": "markdown",
   "id": "6ec1e9d5",
   "metadata": {},
   "source": [
    "### OR 게이트\n",
    "* 입력신호 중 하나 이상이 1이면 출력이 1이되는 논리회로"
   ]
  },
  {
   "cell_type": "code",
   "execution_count": 10,
   "id": "2484674a",
   "metadata": {},
   "outputs": [
    {
     "name": "stdout",
     "output_type": "stream",
     "text": [
      "(0, 0) -> 0\n",
      "(1, 0) -> 1\n",
      "(0, 1) -> 1\n",
      "(1, 1) -> 1\n"
     ]
    }
   ],
   "source": [
    "import numpy as np\n",
    "\n",
    "\n",
    "def OR(x1, x2):\n",
    "    x = np.array([x1, x2])   #입력\n",
    "    w = np.array([0.5, 0.5]) #가중치\n",
    "    b = -0.2                 #편향\n",
    "    tmp = np.sum(w*x) + b\n",
    "    if tmp <= 0:\n",
    "        return 0\n",
    "    else:\n",
    "        return 1\n",
    "\n",
    "if __name__ == '__main__':\n",
    "    for xs in [(0, 0), (1, 0), (0, 1), (1, 1)]:\n",
    "        y = OR(xs[0], xs[1])\n",
    "        print(str(xs) + \" -> \" + str(y))"
   ]
  },
  {
   "cell_type": "markdown",
   "id": "7bfd2779",
   "metadata": {},
   "source": [
    ">note: 편향은 뉴런의 출력(활성화) 에 영향을 주는 매개변수로 함수 구현에서 보듯이 sum(w*x)에 더해져 출력(활성화) 여부를 결정한다, 예를들어 편향이 -0.1일경우 sum(w*x)값이 0.1을 초과 해야 출력값이 발생한다. "
   ]
  },
  {
   "cell_type": "markdown",
   "id": "6d8cb12f",
   "metadata": {},
   "source": [
    "## 퍼셉트론의 한계"
   ]
  },
  {
   "cell_type": "code",
   "execution_count": 20,
   "id": "be1ed4d4",
   "metadata": {},
   "outputs": [
    {
     "data": {
      "image/png": "[encoded data removed]",
      "text/plain": [
       "<Figure size 432x288 with 1 Axes>"
      ]
     },
     "metadata": {
      "needs_background": "light"
     },
     "output_type": "display_data"
    }
   ],
   "source": [
    "%matplotlib inline \n",
    "\n",
    "import numpy as np\n",
    "import matplotlib.pyplot as plt\n",
    "import matplotlib\n",
    "\n",
    "x1 = np.arange(-1, 3, 0.1)\n",
    "x2 = -x1 + 0.5\n",
    "\n",
    "plt.axvline(x=0, color = 'b')  # draw x =0 axes\n",
    "plt.axhline(y=0, color = 'b')   # draw y =0 axes\n",
    "\n",
    "# 그래프 그리기\n",
    "plt.plot(x1, x2, label=\"or\")\n",
    "plt.xlabel(\"X1\") # x축 이름\n",
    "plt.ylabel(\"X2\") # y축 이름\n",
    "plt.legend()\n",
    "\n",
    "plt.fill_between(x1, x2, -3, color='grey', alpha= 0.5)\n",
    "\n",
    "plt.scatter([0],[0],marker='o',color='r')\n",
    "plt.scatter([1,0,1],[0,1,1],marker='^',color='r')\n",
    "plt.show()"
   ]
  },
  {
   "cell_type": "markdown",
   "id": "7141214d",
   "metadata": {},
   "source": [
    "OR 게이트는 (x1,x2)=(0,0)일 때 0을 출력(원으로 표시). (0,1),(1,0),(1,1)일 때 1을 출력(세모로 표시)\n",
    "\n",
    "XOR 게이트를 직선 하나로 0과 1을 나누는 영역을 만들 수 있을까?"
   ]
  },
  {
   "cell_type": "code",
   "execution_count": 19,
   "id": "a262a4ec",
   "metadata": {},
   "outputs": [
    {
     "data": {
      "image/png": "[encoded data removed]",
      "text/plain": [
       "<Figure size 432x288 with 1 Axes>"
      ]
     },
     "metadata": {
      "needs_background": "light"
     },
     "output_type": "display_data"
    }
   ],
   "source": [
    "x1 = np.arange(-1, 3, 0.1)\n",
    "x2 = -x1 + 0.5\n",
    "\n",
    "plt.axvline(x=0, color = 'b')  # draw x =0 axes\n",
    "plt.axhline(y=0, color = 'b')   # draw y =0 axes\n",
    "plt.xlabel(\"X1\") # x축 이름\n",
    "plt.ylabel(\"X2\") # y축 이름\n",
    "\n",
    "plt.scatter([0,1],[0,1],marker='o',color='r')\n",
    "plt.scatter([1,0],[0,1],marker='^',color='r')\n",
    "plt.show()"
   ]
  },
  {
   "cell_type": "code",
   "execution_count": 21,
   "id": "aea47e13",
   "metadata": {},
   "outputs": [
    {
     "data": {
      "image/png": "[encoded data removed]",
      "text/plain": [
       "<IPython.core.display.Image object>"
      ]
     },
     "metadata": {},
     "output_type": "display_data"
    }
   ],
   "source": [
    "from IPython.display import Image, display\n",
    "display(Image(filename='img/1_2_1.png', embed=True))"
   ]
  },
  {
   "cell_type": "markdown",
   "id": "5501cd41",
   "metadata": {},
   "source": [
    "XOR 게이트는 이와 같이 비선형의 영역으로 나뉠 수 있다."
   ]
  },
  {
   "cell_type": "markdown",
   "id": "02d64b24",
   "metadata": {},
   "source": [
    "### 기존 게이트 조합하기\n",
    "\n",
    "단층 퍼셉트론으로 표현할 수 없었던 XOR게이트를 다층 퍼셉트론으로 만들 수 있다. "
   ]
  },
  {
   "cell_type": "code",
   "execution_count": 26,
   "id": "2a0660a0",
   "metadata": {},
   "outputs": [
    {
     "data": {
      "image/png": "[encoded data removed]",
      "text/plain": [
       "<IPython.core.display.Image object>"
      ]
     },
     "metadata": {},
     "output_type": "display_data"
    }
   ],
   "source": [
    "display(Image(filename='img/1_2_2.png', embed=True))"
   ]
  },
  {
   "cell_type": "code",
   "execution_count": 27,
   "id": "d111b19f",
   "metadata": {},
   "outputs": [
    {
     "data": {
      "image/png": "[encoded data removed]",
      "text/plain": [
       "<IPython.core.display.Image object>"
      ]
     },
     "metadata": {},
     "output_type": "display_data"
    }
   ],
   "source": [
    "display(Image(filename='img/1_2_3.png', embed=True))"
   ]
  },
  {
   "cell_type": "markdown",
   "id": "5c301397",
   "metadata": {},
   "source": [
    "### XOR게이트 구현"
   ]
  },
  {
   "cell_type": "code",
   "execution_count": 24,
   "id": "47b5a523",
   "metadata": {},
   "outputs": [
    {
     "name": "stdout",
     "output_type": "stream",
     "text": [
      "(0, 0) -> 0\n",
      "(1, 0) -> 1\n",
      "(0, 1) -> 1\n",
      "(1, 1) -> 0\n"
     ]
    }
   ],
   "source": [
    "# coding: utf-8\n",
    "\n",
    "def XOR(x1, x2):\n",
    "    #위에 구현했던 게이트를 조합하기\n",
    "    s1 = NAND(x1, x2) \n",
    "    s2 = OR(x1, x2)\n",
    "    y = AND(s1, s2)\n",
    "    return y\n",
    "\n",
    "if __name__ == '__main__':\n",
    "    for xs in [(0, 0), (1, 0), (0, 1), (1, 1)]:\n",
    "        y = XOR(xs[0], xs[1])\n",
    "        print(str(xs) + \" -> \" + str(y))"
   ]
  },
  {
   "cell_type": "markdown",
   "id": "ca224fb7",
   "metadata": {},
   "source": [
    "## 정리\n",
    "\n",
    "* 퍼셉트론 = 입출력을 갖춘 알고리즘\n",
    "* 가중치와 편향을 매개변수로 설정\n",
    "* 단층 퍼셉트론은 직선형 영역만 표시, 다층 퍼셉트론은 비선형 영역도 표현가능\n",
    "* 다층 퍼셉트론의 한계를 극복한 것이 신경망"
   ]
  },
  {
   "cell_type": "markdown",
   "id": "48ad947e",
   "metadata": {},
   "source": [
    "## 참고자료\n",
    "\n",
    "* https://nbviewer.jupyter.org/github/SDRLurker/deep-learning/blob/master/2%EC%9E%A5.ipynb\n",
    "\n",
    "* https://github.com/WegraLee/deep-learning-from-scratch/tree/master/ch02"
   ]
  }
 ],
 "metadata": {
  "kernelspec": {
   "display_name": "Python 3",
   "language": "python",
   "name": "python3"
  },
  "language_info": {
   "codemirror_mode": {
    "name": "ipython",
    "version": 3
   },
   "file_extension": ".py",
   "mimetype": "text/x-python",
   "name": "python",
   "nbconvert_exporter": "python",
   "pygments_lexer": "ipython3",
   "version": "3.8.8"
  }
 },
 "nbformat": 4,
 "nbformat_minor": 5
}
