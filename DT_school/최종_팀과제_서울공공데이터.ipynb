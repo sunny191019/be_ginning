{
  "nbformat": 4,
  "nbformat_minor": 0,
  "metadata": {
    "colab": {
      "name": "210610_1팀_3주차_팀과제_서울공공데이터.ipynb",
      "provenance": [],
      "collapsed_sections": [
        "kOJgdS-yVxrW",
        "j85TDPjrXAvc",
        "dLE7VzPswfG4",
        "C4S85gWXwldW",
        "J8lwqaFYww0Y",
        "ELyoDQuOzg4j",
        "u6ZsGYv1znb0"
      ]
    },
    "kernelspec": {
      "name": "python3",
      "display_name": "Python 3"
    },
    "language_info": {
      "name": "python"
    }
  },
  "cells": [
    {
      "cell_type": "markdown",
      "metadata": {
        "id": "hArmr3u6iKy5"
      },
      "source": [
        "## 👍😎넘버원_1팀_서울공공데이터_미니공모전💯💡😊\n",
        "\n",
        "#### 1. 데이터 출처: \n",
        "* 서울열린데이터 광장: [서울특별시 공공자전거 이용정보(시간대별] http://data.seoul.go.kr/dataList/OA-15245/F/1/datasetView.do)\n",
        "* 데이터 사용 기간: 2020.9 ~ 2021.1 (5개월분 다운받음)\n",
        "\n",
        "#### 2. 데이터를 선택한 이유: \n",
        "* 실용성있는 데이터를 분석해 봄으로써 생활에 필요한 서비스를 데이를 통해서 고찰해보고 싶었습니다. \n",
        "\n",
        "#### 3. 공공 데이터 활용방안: \n",
        "* '시간대별 이용건수', '대여소별 이용건수'를 확인하여 밀집지역 정보를 확인 할 수 있었으며 이를 통해 해당지역의 자전거 도로 및 시설정비에 활용할 수 있을것으로 기대. \n",
        "* 2021년도 1월 월별 사용량과 2020년도 9월 부터 5개월간의 통합 데이터의 월별 사용량을 비교하여 특이점을 발견함. 방학기간에 출/퇴근 시간 사용량이 눈에띄게 증가하는 반면, 9월부터 12월이 토함된 데이터에는 직장인들이 출근한 10시부터 15시 시간대의 사용양리 출/퇴근 시간보다 높게 나타남. 이를 통해 따릉이의 주 사용자가 직장인보다 학생들일것으로 추정해 볼 수 있으며 학생들의 방학기간에 따릉이를 공급하는 양과 학기중에 공급하는 양을 조절해야 할 것으로 예상해 볼 수 있었다.\n"
      ]
    },
    {
      "cell_type": "code",
      "metadata": {
        "colab": {
          "base_uri": "https://localhost:8080/"
        },
        "id": "hLp4n5Cu9kN1",
        "outputId": "af3cde08-d972-49ce-e44d-26ccafe6c848"
      },
      "source": [
        "import matplotlib as mpl\n",
        "#metplotlib의 한글 폰트 코랩설치\n",
        "!apt -qq -y install fonts-nanum\n",
        "mpl.font_manager._rebuild()\n",
        "#[메뉴] - [런타임] - [런타임 다시 시작] 후 아래 셀부터 실행"
      ],
      "execution_count": null,
      "outputs": [
        {
          "output_type": "stream",
          "text": [
            "The following NEW packages will be installed:\n",
            "  fonts-nanum\n",
            "0 upgraded, 1 newly installed, 0 to remove and 39 not upgraded.\n",
            "Need to get 9,604 kB of archives.\n",
            "After this operation, 29.5 MB of additional disk space will be used.\n",
            "Selecting previously unselected package fonts-nanum.\n",
            "(Reading database ... 160772 files and directories currently installed.)\n",
            "Preparing to unpack .../fonts-nanum_20170925-1_all.deb ...\n",
            "Unpacking fonts-nanum (20170925-1) ...\n",
            "Setting up fonts-nanum (20170925-1) ...\n",
            "Processing triggers for fontconfig (2.12.6-0ubuntu2) ...\n"
          ],
          "name": "stdout"
        }
      ]
    },
    {
      "cell_type": "code",
      "metadata": {
        "id": "_hsDF_MlUOgv"
      },
      "source": [
        "import matplotlib.pyplot as plt  #https://wikidocs.net/92114\n",
        "import matplotlib as mpl\n",
        "import matplotlib.font_manager as fm\n",
        "import pandas as pd\n",
        "import numpy as np"
      ],
      "execution_count": null,
      "outputs": []
    },
    {
      "cell_type": "code",
      "metadata": {
        "id": "nG-vkayp9XDB"
      },
      "source": [
        "fontpath = '/usr/share/fonts/truetype/nanum/NanumBarunGothic.ttf'\n",
        "font = fm.FontProperties(fname=fontpath, size=9)\n",
        "plt.rc('font', family='NanumBarunGothic') \n",
        "mpl.font_manager._rebuild()"
      ],
      "execution_count": null,
      "outputs": []
    },
    {
      "cell_type": "code",
      "metadata": {
        "colab": {
          "base_uri": "https://localhost:8080/"
        },
        "id": "LJdldUoYdCEA",
        "outputId": "ebec3948-e4b8-40af-af58-7695aafabf04"
      },
      "source": [
        "from google.colab import drive\n",
        "drive.mount('/content/drive')"
      ],
      "execution_count": null,
      "outputs": [
        {
          "output_type": "stream",
          "text": [
            "Mounted at /content/drive\n"
          ],
          "name": "stdout"
        }
      ]
    },
    {
      "cell_type": "code",
      "metadata": {
        "id": "MpUt-PXpWV1b",
        "colab": {
          "base_uri": "https://localhost:8080/"
        },
        "outputId": "63bc65d1-e164-4673-da66-a96da079c23c"
      },
      "source": [
        "#드라이브 마운트\n",
        "% cd /content/drive/MyDrive"
      ],
      "execution_count": null,
      "outputs": [
        {
          "output_type": "stream",
          "text": [
            "/content/drive/MyDrive\n"
          ],
          "name": "stdout"
        }
      ]
    },
    {
      "cell_type": "markdown",
      "metadata": {
        "id": "kOJgdS-yVxrW"
      },
      "source": [
        "## 데이터 불러오기\n",
        "* 시간대별 대여 현황 2021년 1월 데이터\n",
        "* 각 column별 결측치 확인 및 데이터 시각화"
      ]
    },
    {
      "cell_type": "code",
      "metadata": {
        "id": "oVa0FtuDZcle",
        "colab": {
          "base_uri": "https://localhost:8080/",
          "height": 221
        },
        "outputId": "7b0f0946-692d-4ab3-dfef-73c7612f6977"
      },
      "source": [
        "data = pd.read_csv('/content/drive/MyDrive/bike1.csv',encoding='cp949',  engine='python', error_bad_lines=False ) #,, sep=',', quotechar='\"', , engine='python', error_bad_lines=False\n",
        "data.head()"
      ],
      "execution_count": null,
      "outputs": [
        {
          "output_type": "stream",
          "text": [
            "Skipping line 509058: unexpected end of data\n"
          ],
          "name": "stderr"
        },
        {
          "output_type": "execute_result",
          "data": {
            "text/html": [
              "<div>\n",
              "<style scoped>\n",
              "    .dataframe tbody tr th:only-of-type {\n",
              "        vertical-align: middle;\n",
              "    }\n",
              "\n",
              "    .dataframe tbody tr th {\n",
              "        vertical-align: top;\n",
              "    }\n",
              "\n",
              "    .dataframe thead th {\n",
              "        text-align: right;\n",
              "    }\n",
              "</style>\n",
              "<table border=\"1\" class=\"dataframe\">\n",
              "  <thead>\n",
              "    <tr style=\"text-align: right;\">\n",
              "      <th></th>\n",
              "      <th>대여일자</th>\n",
              "      <th>대여시간</th>\n",
              "      <th>대여소번호</th>\n",
              "      <th>대여소명</th>\n",
              "      <th>대여구분코드</th>\n",
              "      <th>성별</th>\n",
              "      <th>연령대코드</th>\n",
              "      <th>이용건수</th>\n",
              "      <th>운동량</th>\n",
              "      <th>탄소량</th>\n",
              "      <th>이동거리</th>\n",
              "      <th>사용시간</th>\n",
              "    </tr>\n",
              "  </thead>\n",
              "  <tbody>\n",
              "    <tr>\n",
              "      <th>0</th>\n",
              "      <td>2021-01-01</td>\n",
              "      <td>0</td>\n",
              "      <td>1347</td>\n",
              "      <td>1347. 길음래미안아파트817동 상가 앞</td>\n",
              "      <td>정기권</td>\n",
              "      <td>NaN</td>\n",
              "      <td>~10대</td>\n",
              "      <td>2</td>\n",
              "      <td>28.90</td>\n",
              "      <td>0.23</td>\n",
              "      <td>992.78</td>\n",
              "      <td>13</td>\n",
              "    </tr>\n",
              "    <tr>\n",
              "      <th>1</th>\n",
              "      <td>2021-01-01</td>\n",
              "      <td>0</td>\n",
              "      <td>1349</td>\n",
              "      <td>1349. 월계2교 버스정류장 앞</td>\n",
              "      <td>정기권</td>\n",
              "      <td>NaN</td>\n",
              "      <td>~10대</td>\n",
              "      <td>1</td>\n",
              "      <td>34.38</td>\n",
              "      <td>0.26</td>\n",
              "      <td>1127.50</td>\n",
              "      <td>10</td>\n",
              "    </tr>\n",
              "    <tr>\n",
              "      <th>2</th>\n",
              "      <td>2021-01-01</td>\n",
              "      <td>0</td>\n",
              "      <td>1168</td>\n",
              "      <td>1168. 마곡엠밸리10단지 앞</td>\n",
              "      <td>정기권</td>\n",
              "      <td>NaN</td>\n",
              "      <td>~10대</td>\n",
              "      <td>1</td>\n",
              "      <td>0.00</td>\n",
              "      <td>0.00</td>\n",
              "      <td>0.00</td>\n",
              "      <td>7</td>\n",
              "    </tr>\n",
              "    <tr>\n",
              "      <th>3</th>\n",
              "      <td>2021-01-01</td>\n",
              "      <td>0</td>\n",
              "      <td>2619</td>\n",
              "      <td>2619. 석촌고분역 4번출구</td>\n",
              "      <td>정기권</td>\n",
              "      <td>NaN</td>\n",
              "      <td>~10대</td>\n",
              "      <td>1</td>\n",
              "      <td>38.75</td>\n",
              "      <td>0.38</td>\n",
              "      <td>1658.34</td>\n",
              "      <td>14</td>\n",
              "    </tr>\n",
              "    <tr>\n",
              "      <th>4</th>\n",
              "      <td>2021-01-01</td>\n",
              "      <td>0</td>\n",
              "      <td>536</td>\n",
              "      <td>536. 행당역 2번출구 앞</td>\n",
              "      <td>정기권</td>\n",
              "      <td>NaN</td>\n",
              "      <td>~10대</td>\n",
              "      <td>1</td>\n",
              "      <td>12.96</td>\n",
              "      <td>0.17</td>\n",
              "      <td>743.88</td>\n",
              "      <td>5</td>\n",
              "    </tr>\n",
              "  </tbody>\n",
              "</table>\n",
              "</div>"
            ],
            "text/plain": [
              "         대여일자  대여시간  대여소번호                     대여소명  ...    운동량   탄소량     이동거리  사용시간\n",
              "0  2021-01-01     0   1347  1347. 길음래미안아파트817동 상가 앞  ...  28.90  0.23   992.78    13\n",
              "1  2021-01-01     0   1349       1349. 월계2교 버스정류장 앞  ...  34.38  0.26  1127.50    10\n",
              "2  2021-01-01     0   1168        1168. 마곡엠밸리10단지 앞  ...   0.00  0.00     0.00     7\n",
              "3  2021-01-01     0   2619         2619. 석촌고분역 4번출구  ...  38.75  0.38  1658.34    14\n",
              "4  2021-01-01     0    536          536. 행당역 2번출구 앞  ...  12.96  0.17   743.88     5\n",
              "\n",
              "[5 rows x 12 columns]"
            ]
          },
          "metadata": {
            "tags": []
          },
          "execution_count": 8
        }
      ]
    },
    {
      "cell_type": "code",
      "metadata": {
        "colab": {
          "base_uri": "https://localhost:8080/",
          "height": 308
        },
        "id": "f02zmzmMVIqd",
        "outputId": "0ecbe5e3-8c89-42b6-ac20-cc5547dcde4c"
      },
      "source": [
        "data[['대여시간']].gruopby()"
      ],
      "execution_count": null,
      "outputs": [
        {
          "output_type": "error",
          "ename": "AttributeError",
          "evalue": "ignored",
          "traceback": [
            "\u001b[0;31m---------------------------------------------------------------------------\u001b[0m",
            "\u001b[0;31mAttributeError\u001b[0m                            Traceback (most recent call last)",
            "\u001b[0;32m<ipython-input-37-112705b2cd5a>\u001b[0m in \u001b[0;36m<module>\u001b[0;34m()\u001b[0m\n\u001b[0;32m----> 1\u001b[0;31m \u001b[0mdata\u001b[0m\u001b[0;34m[\u001b[0m\u001b[0;34m[\u001b[0m\u001b[0;34m'대여시간'\u001b[0m\u001b[0;34m]\u001b[0m\u001b[0;34m]\u001b[0m\u001b[0;34m.\u001b[0m\u001b[0mgruopby\u001b[0m\u001b[0;34m(\u001b[0m\u001b[0;34m)\u001b[0m\u001b[0;34m\u001b[0m\u001b[0;34m\u001b[0m\u001b[0m\n\u001b[0m",
            "\u001b[0;32m/usr/local/lib/python3.7/dist-packages/pandas/core/generic.py\u001b[0m in \u001b[0;36m__getattr__\u001b[0;34m(self, name)\u001b[0m\n\u001b[1;32m   5139\u001b[0m             \u001b[0;32mif\u001b[0m \u001b[0mself\u001b[0m\u001b[0;34m.\u001b[0m\u001b[0m_info_axis\u001b[0m\u001b[0;34m.\u001b[0m\u001b[0m_can_hold_identifiers_and_holds_name\u001b[0m\u001b[0;34m(\u001b[0m\u001b[0mname\u001b[0m\u001b[0;34m)\u001b[0m\u001b[0;34m:\u001b[0m\u001b[0;34m\u001b[0m\u001b[0;34m\u001b[0m\u001b[0m\n\u001b[1;32m   5140\u001b[0m                 \u001b[0;32mreturn\u001b[0m \u001b[0mself\u001b[0m\u001b[0;34m[\u001b[0m\u001b[0mname\u001b[0m\u001b[0;34m]\u001b[0m\u001b[0;34m\u001b[0m\u001b[0;34m\u001b[0m\u001b[0m\n\u001b[0;32m-> 5141\u001b[0;31m             \u001b[0;32mreturn\u001b[0m \u001b[0mobject\u001b[0m\u001b[0;34m.\u001b[0m\u001b[0m__getattribute__\u001b[0m\u001b[0;34m(\u001b[0m\u001b[0mself\u001b[0m\u001b[0;34m,\u001b[0m \u001b[0mname\u001b[0m\u001b[0;34m)\u001b[0m\u001b[0;34m\u001b[0m\u001b[0;34m\u001b[0m\u001b[0m\n\u001b[0m\u001b[1;32m   5142\u001b[0m \u001b[0;34m\u001b[0m\u001b[0m\n\u001b[1;32m   5143\u001b[0m     \u001b[0;32mdef\u001b[0m \u001b[0m__setattr__\u001b[0m\u001b[0;34m(\u001b[0m\u001b[0mself\u001b[0m\u001b[0;34m,\u001b[0m \u001b[0mname\u001b[0m\u001b[0;34m:\u001b[0m \u001b[0mstr\u001b[0m\u001b[0;34m,\u001b[0m \u001b[0mvalue\u001b[0m\u001b[0;34m)\u001b[0m \u001b[0;34m->\u001b[0m \u001b[0;32mNone\u001b[0m\u001b[0;34m:\u001b[0m\u001b[0;34m\u001b[0m\u001b[0;34m\u001b[0m\u001b[0m\n",
            "\u001b[0;31mAttributeError\u001b[0m: 'DataFrame' object has no attribute 'gruopby'"
          ]
        }
      ]
    },
    {
      "cell_type": "code",
      "metadata": {
        "colab": {
          "base_uri": "https://localhost:8080/",
          "height": 202
        },
        "id": "mcfDheqYjr1O",
        "outputId": "908cfd10-e74d-400d-8998-e12817b73f23"
      },
      "source": [
        "data.tail()"
      ],
      "execution_count": null,
      "outputs": [
        {
          "output_type": "execute_result",
          "data": {
            "text/html": [
              "<div>\n",
              "<style scoped>\n",
              "    .dataframe tbody tr th:only-of-type {\n",
              "        vertical-align: middle;\n",
              "    }\n",
              "\n",
              "    .dataframe tbody tr th {\n",
              "        vertical-align: top;\n",
              "    }\n",
              "\n",
              "    .dataframe thead th {\n",
              "        text-align: right;\n",
              "    }\n",
              "</style>\n",
              "<table border=\"1\" class=\"dataframe\">\n",
              "  <thead>\n",
              "    <tr style=\"text-align: right;\">\n",
              "      <th></th>\n",
              "      <th>대여일자</th>\n",
              "      <th>대여시간</th>\n",
              "      <th>대여소번호</th>\n",
              "      <th>대여소명</th>\n",
              "      <th>대여구분코드</th>\n",
              "      <th>성별</th>\n",
              "      <th>연령대코드</th>\n",
              "      <th>이용건수</th>\n",
              "      <th>운동량</th>\n",
              "      <th>탄소량</th>\n",
              "      <th>이동거리</th>\n",
              "      <th>사용시간</th>\n",
              "    </tr>\n",
              "  </thead>\n",
              "  <tbody>\n",
              "    <tr>\n",
              "      <th>509051</th>\n",
              "      <td>2021-01-25</td>\n",
              "      <td>8</td>\n",
              "      <td>678</td>\n",
              "      <td>678.장안힐스테이트(아) 앞</td>\n",
              "      <td>정기권</td>\n",
              "      <td>NaN</td>\n",
              "      <td>40대</td>\n",
              "      <td>2</td>\n",
              "      <td>175.99</td>\n",
              "      <td>1.36</td>\n",
              "      <td>5834.76</td>\n",
              "      <td>35</td>\n",
              "    </tr>\n",
              "    <tr>\n",
              "      <th>509052</th>\n",
              "      <td>2021-01-25</td>\n",
              "      <td>8</td>\n",
              "      <td>171</td>\n",
              "      <td>171. 임광빌딩 앞</td>\n",
              "      <td>정기권</td>\n",
              "      <td>NaN</td>\n",
              "      <td>40대</td>\n",
              "      <td>1</td>\n",
              "      <td>18.68</td>\n",
              "      <td>0.14</td>\n",
              "      <td>589.53</td>\n",
              "      <td>3</td>\n",
              "    </tr>\n",
              "    <tr>\n",
              "      <th>509053</th>\n",
              "      <td>2021-01-25</td>\n",
              "      <td>8</td>\n",
              "      <td>1462</td>\n",
              "      <td>1462.동부시장 북문 앞</td>\n",
              "      <td>정기권</td>\n",
              "      <td>NaN</td>\n",
              "      <td>40대</td>\n",
              "      <td>1</td>\n",
              "      <td>151.76</td>\n",
              "      <td>1.37</td>\n",
              "      <td>5895.70</td>\n",
              "      <td>23</td>\n",
              "    </tr>\n",
              "    <tr>\n",
              "      <th>509054</th>\n",
              "      <td>2021-01-25</td>\n",
              "      <td>8</td>\n",
              "      <td>1470</td>\n",
              "      <td>1470.중화동 우리은행 앞</td>\n",
              "      <td>정기권</td>\n",
              "      <td>NaN</td>\n",
              "      <td>40대</td>\n",
              "      <td>1</td>\n",
              "      <td>118.50</td>\n",
              "      <td>0.95</td>\n",
              "      <td>4099.18</td>\n",
              "      <td>27</td>\n",
              "    </tr>\n",
              "    <tr>\n",
              "      <th>509055</th>\n",
              "      <td>2021-01-25</td>\n",
              "      <td>8</td>\n",
              "      <td>3586</td>\n",
              "      <td>3586.군자역 비채온 오피스텔</td>\n",
              "      <td>정기권</td>\n",
              "      <td>NaN</td>\n",
              "      <td>40대</td>\n",
              "      <td>1</td>\n",
              "      <td>80.10</td>\n",
              "      <td>0.45</td>\n",
              "      <td>1926.35</td>\n",
              "      <td>10</td>\n",
              "    </tr>\n",
              "  </tbody>\n",
              "</table>\n",
              "</div>"
            ],
            "text/plain": [
              "              대여일자  대여시간  대여소번호               대여소명  ...     운동량   탄소량     이동거리  사용시간\n",
              "509051  2021-01-25     8    678   678.장안힐스테이트(아) 앞  ...  175.99  1.36  5834.76    35\n",
              "509052  2021-01-25     8    171        171. 임광빌딩 앞  ...   18.68  0.14   589.53     3\n",
              "509053  2021-01-25     8   1462     1462.동부시장 북문 앞  ...  151.76  1.37  5895.70    23\n",
              "509054  2021-01-25     8   1470    1470.중화동 우리은행 앞  ...  118.50  0.95  4099.18    27\n",
              "509055  2021-01-25     8   3586  3586.군자역 비채온 오피스텔  ...   80.10  0.45  1926.35    10\n",
              "\n",
              "[5 rows x 12 columns]"
            ]
          },
          "metadata": {
            "tags": []
          },
          "execution_count": 9
        }
      ]
    },
    {
      "cell_type": "code",
      "metadata": {
        "colab": {
          "base_uri": "https://localhost:8080/"
        },
        "id": "xK4I2PnGmB-i",
        "outputId": "3b18b3d0-b03a-4bd0-8b1f-d20bc073a995"
      },
      "source": [
        "#(행, 열) : 총 12개 카테고리의 489205개의 값이 들어있다.\n",
        "data.shape"
      ],
      "execution_count": null,
      "outputs": [
        {
          "output_type": "execute_result",
          "data": {
            "text/plain": [
              "(509056, 12)"
            ]
          },
          "metadata": {
            "tags": []
          },
          "execution_count": 10
        }
      ]
    },
    {
      "cell_type": "code",
      "metadata": {
        "colab": {
          "base_uri": "https://localhost:8080/"
        },
        "id": "VTdta1fPWTTN",
        "outputId": "7c0c1fe8-0171-4f46-ceeb-693c7f1a1402"
      },
      "source": [
        "#각 항목의 자료형 확인\n",
        "data.info()"
      ],
      "execution_count": null,
      "outputs": [
        {
          "output_type": "stream",
          "text": [
            "<class 'pandas.core.frame.DataFrame'>\n",
            "RangeIndex: 509056 entries, 0 to 509055\n",
            "Data columns (total 12 columns):\n",
            " #   Column  Non-Null Count   Dtype  \n",
            "---  ------  --------------   -----  \n",
            " 0   대여일자    509056 non-null  object \n",
            " 1   대여시간    509056 non-null  int64  \n",
            " 2   대여소번호   509056 non-null  int64  \n",
            " 3   대여소명    509056 non-null  object \n",
            " 4   대여구분코드  509056 non-null  object \n",
            " 5   성별      283874 non-null  object \n",
            " 6   연령대코드   509056 non-null  object \n",
            " 7   이용건수    509056 non-null  int64  \n",
            " 8   운동량     509056 non-null  object \n",
            " 9   탄소량     509056 non-null  object \n",
            " 10  이동거리    509056 non-null  float64\n",
            " 11  사용시간    509056 non-null  int64  \n",
            "dtypes: float64(1), int64(4), object(7)\n",
            "memory usage: 46.6+ MB\n"
          ],
          "name": "stdout"
        }
      ]
    },
    {
      "cell_type": "code",
      "metadata": {
        "colab": {
          "base_uri": "https://localhost:8080/",
          "height": 294
        },
        "id": "My9PnRW2BLw4",
        "outputId": "55b8fc39-671d-4f7c-8f21-43d563481a65"
      },
      "source": [
        "#숫자형 데이터의 요약\n",
        "data.describe()"
      ],
      "execution_count": null,
      "outputs": [
        {
          "output_type": "execute_result",
          "data": {
            "text/html": [
              "<div>\n",
              "<style scoped>\n",
              "    .dataframe tbody tr th:only-of-type {\n",
              "        vertical-align: middle;\n",
              "    }\n",
              "\n",
              "    .dataframe tbody tr th {\n",
              "        vertical-align: top;\n",
              "    }\n",
              "\n",
              "    .dataframe thead th {\n",
              "        text-align: right;\n",
              "    }\n",
              "</style>\n",
              "<table border=\"1\" class=\"dataframe\">\n",
              "  <thead>\n",
              "    <tr style=\"text-align: right;\">\n",
              "      <th></th>\n",
              "      <th>대여시간</th>\n",
              "      <th>대여소번호</th>\n",
              "      <th>이용건수</th>\n",
              "      <th>이동거리</th>\n",
              "      <th>사용시간</th>\n",
              "    </tr>\n",
              "  </thead>\n",
              "  <tbody>\n",
              "    <tr>\n",
              "      <th>count</th>\n",
              "      <td>509056.000000</td>\n",
              "      <td>509056.000000</td>\n",
              "      <td>509056.000000</td>\n",
              "      <td>509056.000000</td>\n",
              "      <td>509056.000000</td>\n",
              "    </tr>\n",
              "    <tr>\n",
              "      <th>mean</th>\n",
              "      <td>14.087344</td>\n",
              "      <td>1437.619688</td>\n",
              "      <td>1.083519</td>\n",
              "      <td>2906.723364</td>\n",
              "      <td>27.841122</td>\n",
              "    </tr>\n",
              "    <tr>\n",
              "      <th>std</th>\n",
              "      <td>5.236409</td>\n",
              "      <td>1007.637013</td>\n",
              "      <td>0.329115</td>\n",
              "      <td>4183.957497</td>\n",
              "      <td>33.221854</td>\n",
              "    </tr>\n",
              "    <tr>\n",
              "      <th>min</th>\n",
              "      <td>0.000000</td>\n",
              "      <td>3.000000</td>\n",
              "      <td>1.000000</td>\n",
              "      <td>0.000000</td>\n",
              "      <td>0.000000</td>\n",
              "    </tr>\n",
              "    <tr>\n",
              "      <th>25%</th>\n",
              "      <td>11.000000</td>\n",
              "      <td>593.000000</td>\n",
              "      <td>1.000000</td>\n",
              "      <td>722.660000</td>\n",
              "      <td>8.000000</td>\n",
              "    </tr>\n",
              "    <tr>\n",
              "      <th>50%</th>\n",
              "      <td>15.000000</td>\n",
              "      <td>1222.000000</td>\n",
              "      <td>1.000000</td>\n",
              "      <td>1600.000000</td>\n",
              "      <td>16.000000</td>\n",
              "    </tr>\n",
              "    <tr>\n",
              "      <th>75%</th>\n",
              "      <td>18.000000</td>\n",
              "      <td>2108.000000</td>\n",
              "      <td>1.000000</td>\n",
              "      <td>3403.780000</td>\n",
              "      <td>36.000000</td>\n",
              "    </tr>\n",
              "    <tr>\n",
              "      <th>max</th>\n",
              "      <td>23.000000</td>\n",
              "      <td>9999.000000</td>\n",
              "      <td>14.000000</td>\n",
              "      <td>240570.000000</td>\n",
              "      <td>1753.000000</td>\n",
              "    </tr>\n",
              "  </tbody>\n",
              "</table>\n",
              "</div>"
            ],
            "text/plain": [
              "                대여시간          대여소번호  ...           이동거리           사용시간\n",
              "count  509056.000000  509056.000000  ...  509056.000000  509056.000000\n",
              "mean       14.087344    1437.619688  ...    2906.723364      27.841122\n",
              "std         5.236409    1007.637013  ...    4183.957497      33.221854\n",
              "min         0.000000       3.000000  ...       0.000000       0.000000\n",
              "25%        11.000000     593.000000  ...     722.660000       8.000000\n",
              "50%        15.000000    1222.000000  ...    1600.000000      16.000000\n",
              "75%        18.000000    2108.000000  ...    3403.780000      36.000000\n",
              "max        23.000000    9999.000000  ...  240570.000000    1753.000000\n",
              "\n",
              "[8 rows x 5 columns]"
            ]
          },
          "metadata": {
            "tags": []
          },
          "execution_count": 12
        }
      ]
    },
    {
      "cell_type": "markdown",
      "metadata": {
        "id": "j85TDPjrXAvc"
      },
      "source": [
        "## 각 항목별 결측치확인 및 metplotlib으로 시각화"
      ]
    },
    {
      "cell_type": "code",
      "metadata": {
        "colab": {
          "base_uri": "https://localhost:8080/"
        },
        "id": "la_C4rddM_tU",
        "outputId": "50c5b9b4-e122-425e-d83b-875a8f886a34"
      },
      "source": [
        "# 결측치 확인\n",
        "data.isnull().sum()\n",
        "# 성별 결측치가 확인 됨."
      ],
      "execution_count": null,
      "outputs": [
        {
          "output_type": "execute_result",
          "data": {
            "text/plain": [
              "대여일자           0\n",
              "대여시간           0\n",
              "대여소번호          0\n",
              "대여소명           0\n",
              "대여구분코드         0\n",
              "성별        215758\n",
              "연령대코드          0\n",
              "이용건수           0\n",
              "운동량            0\n",
              "탄소량            0\n",
              "이동거리           0\n",
              "사용시간           0\n",
              "dtype: int64"
            ]
          },
          "metadata": {
            "tags": []
          },
          "execution_count": 9
        }
      ]
    },
    {
      "cell_type": "markdown",
      "metadata": {
        "id": "dLE7VzPswfG4"
      },
      "source": [
        "### 성별 column"
      ]
    },
    {
      "cell_type": "code",
      "metadata": {
        "colab": {
          "base_uri": "https://localhost:8080/"
        },
        "id": "_qJ1gHrdVpJk",
        "outputId": "48237f22-ab54-4f96-a3d7-42ed3c7e7071"
      },
      "source": [
        "#성별컬럼에 몇개의 항목이 있는지 unique()값 알아보기\n",
        "data['성별'].unique()"
      ],
      "execution_count": null,
      "outputs": [
        {
          "output_type": "execute_result",
          "data": {
            "text/plain": [
              "array([nan, 'F', 'M', 'f', 'm'], dtype=object)"
            ]
          },
          "metadata": {
            "tags": []
          },
          "execution_count": 14
        }
      ]
    },
    {
      "cell_type": "code",
      "metadata": {
        "colab": {
          "base_uri": "https://localhost:8080/"
        },
        "id": "E7IYF5VgXXZy",
        "outputId": "0d347290-93ef-40cd-96c9-c47cda5f7bbc"
      },
      "source": [
        "#성별의 결측치를 제거하고, 시각화 해보자!!\n",
        "gender = data[['성별']].dropna()\n",
        "print(gender)\n",
        "print(gender.isna().sum())\n",
        "# print(type(gender))\n",
        "# print(len(gender))"
      ],
      "execution_count": null,
      "outputs": [
        {
          "output_type": "stream",
          "text": [
            "       성별\n",
            "134     F\n",
            "135     F\n",
            "136     F\n",
            "137     F\n",
            "138     F\n",
            "...    ..\n",
            "508079  M\n",
            "508080  M\n",
            "508081  M\n",
            "508082  M\n",
            "508083  F\n",
            "\n",
            "[283874 rows x 1 columns]\n",
            "성별    0\n",
            "dtype: int64\n"
          ],
          "name": "stdout"
        }
      ]
    },
    {
      "cell_type": "code",
      "metadata": {
        "colab": {
          "base_uri": "https://localhost:8080/"
        },
        "id": "2e14ulxSR9cL",
        "outputId": "76a0fa3d-907f-413a-911b-df14d307d3a3"
      },
      "source": [
        "gender.isnull().count()"
      ],
      "execution_count": null,
      "outputs": [
        {
          "output_type": "execute_result",
          "data": {
            "text/plain": [
              "성별    283874\n",
              "dtype: int64"
            ]
          },
          "metadata": {
            "tags": []
          },
          "execution_count": 23
        }
      ]
    },
    {
      "cell_type": "code",
      "metadata": {
        "colab": {
          "base_uri": "https://localhost:8080/"
        },
        "id": "hiNUhDAZWbJ8",
        "outputId": "dac40b34-8c27-4e33-8537-493cafb5b375"
      },
      "source": [
        "# 성별구분형식의 대/소문자 형식 통일해주기. \n",
        "gen_data = gender['성별'].str.replace('f', 'F').replace('m', 'M')\n",
        "print(type(gen_data))\n",
        "gen_data.unique() # Series의 자료형에만 unique()사용가능"
      ],
      "execution_count": null,
      "outputs": [
        {
          "output_type": "stream",
          "text": [
            "<class 'pandas.core.series.Series'>\n"
          ],
          "name": "stdout"
        },
        {
          "output_type": "execute_result",
          "data": {
            "text/plain": [
              "array(['F', 'M'], dtype=object)"
            ]
          },
          "metadata": {
            "tags": []
          },
          "execution_count": 24
        }
      ]
    },
    {
      "cell_type": "code",
      "metadata": {
        "colab": {
          "base_uri": "https://localhost:8080/"
        },
        "id": "POh2bfGbXlhW",
        "outputId": "d9c1df60-72dc-4e26-c16f-72ed048cd6ee"
      },
      "source": [
        "#성별 데이터를 metplotlib의 파이차트로 시각화\n",
        "#남성데이터와 여성 데이터로 나눠주기\n",
        "female = []\n",
        "man = []\n",
        "for gen in range(len(gen_data)):\n",
        "    # print(gen)\n",
        "    if gen_data.iloc[gen] == 'F':\n",
        "        female.append(gen)\n",
        "    elif gen_data.iloc[gen] == 'M': #\n",
        "        man.append(gen)\n",
        "\n",
        "print(f'여성 이용자 수: {len(female)}')\n",
        "print(f'남성 이용자 수: {len(man)}')"
      ],
      "execution_count": null,
      "outputs": [
        {
          "output_type": "stream",
          "text": [
            "여성 이용자 수: 96408\n",
            "남성 이용자 수: 187466\n"
          ],
          "name": "stdout"
        }
      ]
    },
    {
      "cell_type": "code",
      "metadata": {
        "colab": {
          "base_uri": "https://localhost:8080/",
          "height": 500
        },
        "id": "RC6bQ-uCdDQV",
        "outputId": "124a20c5-1be8-4575-e7b0-02fe1db7e681"
      },
      "source": [
        "#성별 pie chart\n",
        "ratio = [len(female),len(man)]\n",
        "print(ratio)\n",
        "\n",
        "\n",
        "figure = plt.figure(figsize=(8,8))\n",
        "axes = figure.add_subplot(111)\n",
        "explode = [0, 0.10]\n",
        "colors = ['pink','skyblue']\n",
        "\n",
        "axes.pie(ratio, labels = ['여성', '남성'],  autopct='%.1f%%', explode=explode, colors =colors  , shadow=True,)\n",
        "plt.title('성별에 따른 이용자 현황',)\n",
        "plt.legend()\n",
        "plt.show()"
      ],
      "execution_count": null,
      "outputs": [
        {
          "output_type": "stream",
          "text": [
            "[96408, 187466]\n"
          ],
          "name": "stdout"
        },
        {
          "output_type": "display_data",
          "data": {
            "image/png": "[encoded data removed]",
            "text/plain": [
              "<Figure size 576x576 with 1 Axes>"
            ]
          },
          "metadata": {
            "tags": []
          }
        }
      ]
    },
    {
      "cell_type": "markdown",
      "metadata": {
        "id": "C4S85gWXwldW"
      },
      "source": [
        "## 연령column"
      ]
    },
    {
      "cell_type": "code",
      "metadata": {
        "colab": {
          "base_uri": "https://localhost:8080/"
        },
        "id": "q582KkUFhYaS",
        "outputId": "976d4efa-4c7c-4e2b-f218-dc7b815c6a23"
      },
      "source": [
        "# 연령대 확인\n",
        "data['연령대코드'].unique()"
      ],
      "execution_count": null,
      "outputs": [
        {
          "output_type": "execute_result",
          "data": {
            "text/plain": [
              "array(['~10대', '20대', '30대', '40대', '50대', '60대', '70대~'], dtype=object)"
            ]
          },
          "metadata": {
            "tags": []
          },
          "execution_count": 38
        }
      ]
    },
    {
      "cell_type": "code",
      "metadata": {
        "colab": {
          "base_uri": "https://localhost:8080/"
        },
        "id": "EOt8_pvrhYdB",
        "outputId": "668c1586-b1cf-426c-ff88-d8599eed8a60"
      },
      "source": [
        "#나이에 숫자만 남기고 데이터 정리해주기\n",
        "# ages2 = data.연령대코드.str.split('~').str[1] #'~10대' [~][10대]\n",
        "# final_ages = ages2.str.split('대').str[0]#'10대' [10][대]\n",
        "# print(final_ages)\n",
        "''' 이전처럼 잘라주었을 경우 10대만 담김. '''\n",
        "\n",
        "bike_data_ages = data['연령대코드'].str.replace(pat=r'[^\\w]', repl=r'', regex=True)\n",
        "#정규표현식으로 특수문자를 공백으로 바꿔주기 : r'[^\\w]' (특수문자표현)\n",
        "\n",
        "bike_data_ages = bike_data_ages.str.split('대').str[0]\n",
        "bike_data_ages.unique()"
      ],
      "execution_count": null,
      "outputs": [
        {
          "output_type": "execute_result",
          "data": {
            "text/plain": [
              "array(['10', '20', '30', '40', '50', '60', '70'], dtype=object)"
            ]
          },
          "metadata": {
            "tags": []
          },
          "execution_count": 31
        }
      ]
    },
    {
      "cell_type": "code",
      "metadata": {
        "id": "2KEtywX-hYf5"
      },
      "source": [
        "te = []\n",
        "tw = []\n",
        "th = []\n",
        "fo = []\n",
        "fi= []\n",
        "si= []\n",
        "se = []\n",
        "\n",
        "for age in range(len(bike_data_ages)):\n",
        "    if bike_data_ages[age]== '10':\n",
        "        te.append(bike_data_ages[age])\n",
        "    elif bike_data_ages[age]== '20':\n",
        "        tw.append(bike_data_ages[age])\n",
        "    elif bike_data_ages[age]== '30':\n",
        "        th.append(bike_data_ages[age])\n",
        "    elif bike_data_ages[age]== '40':\n",
        "        fo.append(bike_data_ages[age])   \n",
        "    elif bike_data_ages[age]== '50':\n",
        "        fi.append(bike_data_ages[age])\n",
        "    elif bike_data_ages[age]== '60':\n",
        "        si.append(bike_data_ages[age]) \n",
        "    elif bike_data_ages[age]== '70':\n",
        "        se.append(bike_data_ages[age]) "
      ],
      "execution_count": null,
      "outputs": []
    },
    {
      "cell_type": "code",
      "metadata": {
        "colab": {
          "base_uri": "https://localhost:8080/"
        },
        "id": "UVxqhuwMapeZ",
        "outputId": "cea68dd0-2afe-494b-dbd2-424a258be97b"
      },
      "source": [
        "print(len(te))"
      ],
      "execution_count": null,
      "outputs": [
        {
          "output_type": "stream",
          "text": [
            "18410\n"
          ],
          "name": "stdout"
        }
      ]
    },
    {
      "cell_type": "code",
      "metadata": {
        "colab": {
          "base_uri": "https://localhost:8080/"
        },
        "id": "bt9KXxQTatAW",
        "outputId": "fd0e32a5-be72-4c99-e2ca-9bc012e518d4"
      },
      "source": [
        "ratio_ages = [len(te),len(tw),len(th),len(fo),len(fi),len(si),len(se)] \n",
        "ratio_ages"
      ],
      "execution_count": null,
      "outputs": [
        {
          "output_type": "execute_result",
          "data": {
            "text/plain": [
              "[18410, 189656, 130163, 90948, 57960, 19034, 2885]"
            ]
          },
          "metadata": {
            "tags": []
          },
          "execution_count": 35
        }
      ]
    },
    {
      "cell_type": "code",
      "metadata": {
        "colab": {
          "base_uri": "https://localhost:8080/",
          "height": 481
        },
        "id": "fAN5UMT1azgq",
        "outputId": "d8ad6063-305e-4ecb-f158-7681478c497a"
      },
      "source": [
        "ratio = ratio_ages\n",
        "labels = ['10', '20', '30', '40', '50', '60', '70']\n",
        "\n",
        "plt.figure(figsize = (8,8))\n",
        "plt.pie(ratio, labels=labels, autopct='%.1f%%', )\n",
        "plt.title('연령대별 이용자 현황')\n",
        "plt.legend()\n",
        "plt.show()"
      ],
      "execution_count": null,
      "outputs": [
        {
          "output_type": "display_data",
          "data": {
            "image/png": "[encoded data removed]",
            "text/plain": [
              "<Figure size 576x576 with 1 Axes>"
            ]
          },
          "metadata": {
            "tags": []
          }
        }
      ]
    },
    {
      "cell_type": "markdown",
      "metadata": {
        "id": "J8lwqaFYww0Y"
      },
      "source": [
        "## 대여권"
      ]
    },
    {
      "cell_type": "code",
      "metadata": {
        "colab": {
          "base_uri": "https://localhost:8080/"
        },
        "id": "OqbAdiiQqJ04",
        "outputId": "29781546-a088-464f-d553-846dda8c89b8"
      },
      "source": [
        "#대여구분코드\n",
        "ticket = data[['대여구분코드']]\n",
        "print(ticket)\n",
        "# set_ticket = data[['대여구분코드']].value_counts()\n",
        "# print(set_ticket)"
      ],
      "execution_count": null,
      "outputs": [
        {
          "output_type": "stream",
          "text": [
            "       대여구분코드\n",
            "0         정기권\n",
            "1         정기권\n",
            "2         정기권\n",
            "3         정기권\n",
            "4         정기권\n",
            "...       ...\n",
            "489200    정기권\n",
            "489201    정기권\n",
            "489202    정기권\n",
            "489203    정기권\n",
            "489204    정기권\n",
            "\n",
            "[489205 rows x 1 columns]\n"
          ],
          "name": "stdout"
        }
      ]
    },
    {
      "cell_type": "code",
      "metadata": {
        "colab": {
          "base_uri": "https://localhost:8080/"
        },
        "id": "uJDI1vg7bBHO",
        "outputId": "8d25c87b-a405-4fc6-e9b0-49e6516a1151"
      },
      "source": [
        "#컬럼의 유일값을 더 쉽게 확인하는 방법\n",
        "data['대여구분코드'].unique()"
      ],
      "execution_count": null,
      "outputs": [
        {
          "output_type": "execute_result",
          "data": {
            "text/plain": [
              "array(['정기권', '일일권', '단체권', '일일권(비회원)'], dtype=object)"
            ]
          },
          "metadata": {
            "tags": []
          },
          "execution_count": 45
        }
      ]
    },
    {
      "cell_type": "code",
      "metadata": {
        "colab": {
          "base_uri": "https://localhost:8080/"
        },
        "id": "X4aBoeWBqJ6f",
        "outputId": "d60c3145-881f-4eb3-9078-5caba43286a2"
      },
      "source": [
        "# ticket = data[['대여구분코드']].replace(\"정기권\", 1).replace(\"일일권\", 2).replace(\"단체권\", 3).replace(\"일일권(비회원)\", 4)\n",
        "# print(ticket)"
      ],
      "execution_count": null,
      "outputs": [
        {
          "output_type": "stream",
          "text": [
            "        대여구분코드\n",
            "0            1\n",
            "1            1\n",
            "2            1\n",
            "3            1\n",
            "4            1\n",
            "...        ...\n",
            "489200       1\n",
            "489201       1\n",
            "489202       1\n",
            "489203       1\n",
            "489204       1\n",
            "\n",
            "[489205 rows x 1 columns]\n"
          ],
          "name": "stdout"
        }
      ]
    },
    {
      "cell_type": "code",
      "metadata": {
        "colab": {
          "base_uri": "https://localhost:8080/"
        },
        "id": "vmnekrlXqJ9j",
        "outputId": "886952a8-5cd7-4e3c-fb95-a8b90b8fcea2"
      },
      "source": [
        "tck1 = []\n",
        "tck2 = []\n",
        "tck3 = []\n",
        "tck4 = []\n",
        "for tck in range(len(ticket)):\n",
        "    # print(tck)\n",
        "    if ticket.iloc[tck].item() == '정기권':\n",
        "        tck1.append(tck)\n",
        "    elif ticket.iloc[tck].item() == '단체권':\n",
        "        tck2.append(tck)\n",
        "    elif ticket.iloc[tck].item() == '일일권':\n",
        "        tck3.append(tck)\n",
        "    elif ticket.iloc[tck].item() == '일일권(비회원)':\n",
        "        tck4.append(tck)    \n",
        "\n",
        "print(f' 정기권 이용자수 : {len(tck1)}')\n",
        "print(f'일일권 이용자수: {len(tck2)}')\n",
        "print(f'단체권 이용자수: {len(tck3)}')\n",
        "print(f'일일권(비회원) 이용자수: {len(tck4)}')"
      ],
      "execution_count": null,
      "outputs": [
        {
          "output_type": "stream",
          "text": [
            " 정기권 이용자수 : 402880\n",
            "일일권 이용자수: 2028\n",
            "단체권 이용자수: 84291\n",
            "일일권(비회원) 이용자수: 6\n"
          ],
          "name": "stdout"
        }
      ]
    },
    {
      "cell_type": "code",
      "metadata": {
        "colab": {
          "base_uri": "https://localhost:8080/"
        },
        "id": "Gr7lFC5ygA-u",
        "outputId": "93246703-0913-40f2-bc11-7aeebe1cbf45"
      },
      "source": [
        "total = len(ticket)\n",
        "print(f' 정기권 이용자 비율 : {len(tck1)}, {round(((len(tck1)/total )*100),2)}')\n",
        "print(f'일일권 이용자 비율: {len(tck2)}, {round(((len(tck2)/total )*100),2)}')\n",
        "print(f'단체권 이용자 비율: {len(tck3)}, {round(((len(tck3)/total )*100),2)}')\n",
        "print(f'일일권(비회원) 이용자 비율: {len(tck4)},{round(((len(tck4)/total )*100),2)}')"
      ],
      "execution_count": null,
      "outputs": [
        {
          "output_type": "stream",
          "text": [
            " 정기권 이용자 비율 : 402880, 82.35\n",
            "일일권 이용자 비율: 2028, 0.41\n",
            "단체권 이용자 비율: 84291, 17.23\n",
            "일일권(비회원) 이용자 비율: 6,0.0\n"
          ],
          "name": "stdout"
        }
      ]
    },
    {
      "cell_type": "code",
      "metadata": {
        "colab": {
          "base_uri": "https://localhost:8080/",
          "height": 507
        },
        "id": "lzK8HIynuQsA",
        "outputId": "0ced8f0a-b55b-4639-a234-a06693395951"
      },
      "source": [
        "#티켓 pie chart\n",
        "tck_ratio = [len(tck1),len(tck2),len(tck3),len(tck4)]\n",
        "#print(tck_ratio)\n",
        "\n",
        "\n",
        "figure = plt.figure(figsize=(8,8))\n",
        "axes = figure.add_subplot(111)\n",
        "explode = [0, 0.10, 0.10, 0.30 ]\n",
        "colors = ['forestgreen', 'skyblue', 'darkorange', 'red' ]\n",
        "wedgeprops={'width': 0.7, 'edgecolor': 'w', 'linewidth': 5}\n",
        "label = ['정기권', '일일권', '단체권', '일일권(비회원)']\n",
        "\n",
        "axes.pie(tck_ratio, labels = label,  startangle=260, counterclock=False, autopct='%.1f%%', explode=explode, colors = colors, shadow=False, wedgeprops=wedgeprops )\n",
        "plt.title('대여권형태에 따른 이용자현황')\n",
        "plt.legend()\n",
        "plt.show()\n",
        "#수치가 작은 부분은 잘 보이지 않으므로, 해당 데이터를 보여주기 위한 알맞은 차트 선택이 아님"
      ],
      "execution_count": null,
      "outputs": [
        {
          "output_type": "display_data",
          "data": {
            "image/png": "[encoded data removed]",
            "text/plain": [
              "<Figure size 576x576 with 1 Axes>"
            ]
          },
          "metadata": {
            "tags": []
          }
        }
      ]
    },
    {
      "cell_type": "code",
      "metadata": {
        "colab": {
          "base_uri": "https://localhost:8080/",
          "height": 497
        },
        "id": "Ka364-NXcXLQ",
        "outputId": "975f270e-dad1-4f75-83ca-7875ff84aae4"
      },
      "source": [
        "# bar형태의 비교 그래프로 다시 시각화 해 봄.\n",
        "x = ['정기권', '일일권', '단체권', '일일권(비회원)']\n",
        "y = [len(tck1),len(tck2),len(tck3),len(tck4)]\n",
        "plt.figure(figsize=(8,8))\n",
        "colors = ['forestgreen', 'skyblue', 'darkorange', 'red' ]\n",
        "labels = ['정기권']\n",
        "\n",
        "plt.bar(x, y, width=0.5, align='edge', color=colors, label=labels)\n",
        "plt.text('일일권',2028, '2028명(0.41%)',fontsize = 12)\n",
        "plt.text('일일권(비회원)',2028, '6명(0.0%)', fontsize = 12)\n",
        "plt.title('대여권형태에 따른 이용자현황')\n",
        "plt.legend(loc='upper right')\n",
        "plt.show()"
      ],
      "execution_count": null,
      "outputs": [
        {
          "output_type": "display_data",
          "data": {
            "image/png": "[encoded data removed]",
            "text/plain": [
              "<Figure size 576x576 with 1 Axes>"
            ]
          },
          "metadata": {
            "tags": [],
            "needs_background": "light"
          }
        }
      ]
    },
    {
      "cell_type": "markdown",
      "metadata": {
        "id": "Ta10HYVRwqfv"
      },
      "source": [
        "## "
      ]
    },
    {
      "cell_type": "code",
      "metadata": {
        "id": "MwnzXztWwq8J"
      },
      "source": [
        ""
      ],
      "execution_count": null,
      "outputs": []
    },
    {
      "cell_type": "code",
      "metadata": {
        "id": "TCx57wK2wrDR"
      },
      "source": [
        ""
      ],
      "execution_count": null,
      "outputs": []
    },
    {
      "cell_type": "markdown",
      "metadata": {
        "id": "Pg343ImzOHD_"
      },
      "source": [
        "## 시간대별 대여소 이용건수 데이터 EDA  \n",
        "\n",
        "* 시간대별 이용건수\n",
        "* 대여소별 이용건수\n",
        "* 일자별 이용건수\n",
        "* 대여소별&시간대별 이용건수"
      ]
    },
    {
      "cell_type": "markdown",
      "metadata": {
        "id": "ELyoDQuOzg4j"
      },
      "source": [
        "## 2021년 1월 데이터만"
      ]
    },
    {
      "cell_type": "code",
      "metadata": {
        "id": "SkqZjAivserH"
      },
      "source": [
        "#따릉이 시간대별 이용현황 분석\n",
        "\n",
        "plt.figure(figsize = (12,6))\n"
      ],
      "execution_count": null,
      "outputs": []
    },
    {
      "cell_type": "code",
      "metadata": {
        "id": "0igd69McVag2"
      },
      "source": [
        "data.groupby('대여시간').count()['이용건수']"
      ],
      "execution_count": null,
      "outputs": []
    },
    {
      "cell_type": "code",
      "metadata": {
        "colab": {
          "base_uri": "https://localhost:8080/",
          "height": 374
        },
        "id": "kRn5nCjUB_Xw",
        "outputId": "d4b51814-3b18-40de-df32-6e681b714fcb"
      },
      "source": [
        "#시간대별 이용건수 시각화\n",
        "plt.figure(figsize=(8,5))\n",
        "plt.plot(data.groupby('대여시간').count()['이용건수'], 'g^-')\n",
        "plt.grid()\n",
        "plt.title('시간대별 이용건수')\n",
        "plt.xlabel('대여시간', fontsize = 15)\n",
        "plt.ylabel('이용건수', fontsize = 15)\n",
        "\n",
        "plt.axvline(8, color = 'r')\n",
        "plt.axvline(18, color = 'r')\n",
        "\n",
        "plt.text(8, 30000, '출근', fontsize = 15)\n",
        "plt.text(18, 41000, '퇴근', fontsize = 15)\n",
        "#plt.savefig('chart_useperhour')"
      ],
      "execution_count": null,
      "outputs": [
        {
          "output_type": "execute_result",
          "data": {
            "text/plain": [
              "Text(18, 41000, '퇴근')"
            ]
          },
          "metadata": {
            "tags": []
          },
          "execution_count": 69
        },
        {
          "output_type": "display_data",
          "data": {
            "image/png": "[encoded data removed]",
            "text/plain": [
              "<Figure size 576x360 with 1 Axes>"
            ]
          },
          "metadata": {
            "tags": [],
            "image/png": {
              "width": 516,
              "height": 339
            },
            "needs_background": "light"
          }
        }
      ]
    },
    {
      "cell_type": "code",
      "metadata": {
        "colab": {
          "base_uri": "https://localhost:8080/",
          "height": 294
        },
        "id": "-R0rnFlIJvfG",
        "outputId": "e813a14a-8cbf-48b7-b2d9-98ea19c86266"
      },
      "source": [
        "data[['대여소번호']].describe()"
      ],
      "execution_count": null,
      "outputs": [
        {
          "output_type": "execute_result",
          "data": {
            "text/html": [
              "<div>\n",
              "<style scoped>\n",
              "    .dataframe tbody tr th:only-of-type {\n",
              "        vertical-align: middle;\n",
              "    }\n",
              "\n",
              "    .dataframe tbody tr th {\n",
              "        vertical-align: top;\n",
              "    }\n",
              "\n",
              "    .dataframe thead th {\n",
              "        text-align: right;\n",
              "    }\n",
              "</style>\n",
              "<table border=\"1\" class=\"dataframe\">\n",
              "  <thead>\n",
              "    <tr style=\"text-align: right;\">\n",
              "      <th></th>\n",
              "      <th>대여소번호</th>\n",
              "    </tr>\n",
              "  </thead>\n",
              "  <tbody>\n",
              "    <tr>\n",
              "      <th>count</th>\n",
              "      <td>489205.000000</td>\n",
              "    </tr>\n",
              "    <tr>\n",
              "      <th>mean</th>\n",
              "      <td>1435.958208</td>\n",
              "    </tr>\n",
              "    <tr>\n",
              "      <th>std</th>\n",
              "      <td>1006.632406</td>\n",
              "    </tr>\n",
              "    <tr>\n",
              "      <th>min</th>\n",
              "      <td>3.000000</td>\n",
              "    </tr>\n",
              "    <tr>\n",
              "      <th>25%</th>\n",
              "      <td>592.000000</td>\n",
              "    </tr>\n",
              "    <tr>\n",
              "      <th>50%</th>\n",
              "      <td>1221.000000</td>\n",
              "    </tr>\n",
              "    <tr>\n",
              "      <th>75%</th>\n",
              "      <td>2107.000000</td>\n",
              "    </tr>\n",
              "    <tr>\n",
              "      <th>max</th>\n",
              "      <td>9999.000000</td>\n",
              "    </tr>\n",
              "  </tbody>\n",
              "</table>\n",
              "</div>"
            ],
            "text/plain": [
              "               대여소번호\n",
              "count  489205.000000\n",
              "mean     1435.958208\n",
              "std      1006.632406\n",
              "min         3.000000\n",
              "25%       592.000000\n",
              "50%      1221.000000\n",
              "75%      2107.000000\n",
              "max      9999.000000"
            ]
          },
          "metadata": {
            "tags": []
          },
          "execution_count": 160
        }
      ]
    },
    {
      "cell_type": "code",
      "metadata": {
        "colab": {
          "base_uri": "https://localhost:8080/",
          "height": 445
        },
        "id": "96C8WncgI9F0",
        "outputId": "a9303e83-7dd8-435a-d446-d9aa9880c293"
      },
      "source": [
        "data.groupby('대여소번호').count()"
      ],
      "execution_count": null,
      "outputs": [
        {
          "output_type": "execute_result",
          "data": {
            "text/html": [
              "<div>\n",
              "<style scoped>\n",
              "    .dataframe tbody tr th:only-of-type {\n",
              "        vertical-align: middle;\n",
              "    }\n",
              "\n",
              "    .dataframe tbody tr th {\n",
              "        vertical-align: top;\n",
              "    }\n",
              "\n",
              "    .dataframe thead th {\n",
              "        text-align: right;\n",
              "    }\n",
              "</style>\n",
              "<table border=\"1\" class=\"dataframe\">\n",
              "  <thead>\n",
              "    <tr style=\"text-align: right;\">\n",
              "      <th></th>\n",
              "      <th>대여일자</th>\n",
              "      <th>대여시간</th>\n",
              "      <th>대여소명</th>\n",
              "      <th>대여구분코드</th>\n",
              "      <th>성별</th>\n",
              "      <th>연령대코드</th>\n",
              "      <th>이용건수</th>\n",
              "      <th>운동량</th>\n",
              "      <th>탄소량</th>\n",
              "      <th>이동거리</th>\n",
              "      <th>사용시간</th>\n",
              "    </tr>\n",
              "    <tr>\n",
              "      <th>대여소번호</th>\n",
              "      <th></th>\n",
              "      <th></th>\n",
              "      <th></th>\n",
              "      <th></th>\n",
              "      <th></th>\n",
              "      <th></th>\n",
              "      <th></th>\n",
              "      <th></th>\n",
              "      <th></th>\n",
              "      <th></th>\n",
              "      <th></th>\n",
              "    </tr>\n",
              "  </thead>\n",
              "  <tbody>\n",
              "    <tr>\n",
              "      <th>3</th>\n",
              "      <td>9</td>\n",
              "      <td>9</td>\n",
              "      <td>9</td>\n",
              "      <td>9</td>\n",
              "      <td>9</td>\n",
              "      <td>9</td>\n",
              "      <td>9</td>\n",
              "      <td>9</td>\n",
              "      <td>9</td>\n",
              "      <td>9</td>\n",
              "      <td>9</td>\n",
              "    </tr>\n",
              "    <tr>\n",
              "      <th>5</th>\n",
              "      <td>4</td>\n",
              "      <td>4</td>\n",
              "      <td>4</td>\n",
              "      <td>4</td>\n",
              "      <td>3</td>\n",
              "      <td>4</td>\n",
              "      <td>4</td>\n",
              "      <td>4</td>\n",
              "      <td>4</td>\n",
              "      <td>4</td>\n",
              "      <td>4</td>\n",
              "    </tr>\n",
              "    <tr>\n",
              "      <th>10</th>\n",
              "      <td>25</td>\n",
              "      <td>25</td>\n",
              "      <td>25</td>\n",
              "      <td>25</td>\n",
              "      <td>19</td>\n",
              "      <td>25</td>\n",
              "      <td>25</td>\n",
              "      <td>25</td>\n",
              "      <td>25</td>\n",
              "      <td>25</td>\n",
              "      <td>25</td>\n",
              "    </tr>\n",
              "    <tr>\n",
              "      <th>101</th>\n",
              "      <td>240</td>\n",
              "      <td>240</td>\n",
              "      <td>240</td>\n",
              "      <td>240</td>\n",
              "      <td>135</td>\n",
              "      <td>240</td>\n",
              "      <td>240</td>\n",
              "      <td>240</td>\n",
              "      <td>240</td>\n",
              "      <td>240</td>\n",
              "      <td>240</td>\n",
              "    </tr>\n",
              "    <tr>\n",
              "      <th>102</th>\n",
              "      <td>656</td>\n",
              "      <td>656</td>\n",
              "      <td>656</td>\n",
              "      <td>656</td>\n",
              "      <td>357</td>\n",
              "      <td>656</td>\n",
              "      <td>656</td>\n",
              "      <td>656</td>\n",
              "      <td>656</td>\n",
              "      <td>656</td>\n",
              "      <td>656</td>\n",
              "    </tr>\n",
              "    <tr>\n",
              "      <th>...</th>\n",
              "      <td>...</td>\n",
              "      <td>...</td>\n",
              "      <td>...</td>\n",
              "      <td>...</td>\n",
              "      <td>...</td>\n",
              "      <td>...</td>\n",
              "      <td>...</td>\n",
              "      <td>...</td>\n",
              "      <td>...</td>\n",
              "      <td>...</td>\n",
              "      <td>...</td>\n",
              "    </tr>\n",
              "    <tr>\n",
              "      <th>4785</th>\n",
              "      <td>74</td>\n",
              "      <td>74</td>\n",
              "      <td>74</td>\n",
              "      <td>74</td>\n",
              "      <td>49</td>\n",
              "      <td>74</td>\n",
              "      <td>74</td>\n",
              "      <td>74</td>\n",
              "      <td>74</td>\n",
              "      <td>74</td>\n",
              "      <td>74</td>\n",
              "    </tr>\n",
              "    <tr>\n",
              "      <th>4791</th>\n",
              "      <td>157</td>\n",
              "      <td>157</td>\n",
              "      <td>157</td>\n",
              "      <td>157</td>\n",
              "      <td>97</td>\n",
              "      <td>157</td>\n",
              "      <td>157</td>\n",
              "      <td>157</td>\n",
              "      <td>157</td>\n",
              "      <td>157</td>\n",
              "      <td>157</td>\n",
              "    </tr>\n",
              "    <tr>\n",
              "      <th>9980</th>\n",
              "      <td>1</td>\n",
              "      <td>1</td>\n",
              "      <td>1</td>\n",
              "      <td>1</td>\n",
              "      <td>1</td>\n",
              "      <td>1</td>\n",
              "      <td>1</td>\n",
              "      <td>1</td>\n",
              "      <td>1</td>\n",
              "      <td>1</td>\n",
              "      <td>1</td>\n",
              "    </tr>\n",
              "    <tr>\n",
              "      <th>9997</th>\n",
              "      <td>10</td>\n",
              "      <td>10</td>\n",
              "      <td>10</td>\n",
              "      <td>10</td>\n",
              "      <td>10</td>\n",
              "      <td>10</td>\n",
              "      <td>10</td>\n",
              "      <td>10</td>\n",
              "      <td>10</td>\n",
              "      <td>10</td>\n",
              "      <td>10</td>\n",
              "    </tr>\n",
              "    <tr>\n",
              "      <th>9999</th>\n",
              "      <td>6</td>\n",
              "      <td>6</td>\n",
              "      <td>6</td>\n",
              "      <td>6</td>\n",
              "      <td>4</td>\n",
              "      <td>6</td>\n",
              "      <td>6</td>\n",
              "      <td>6</td>\n",
              "      <td>6</td>\n",
              "      <td>6</td>\n",
              "      <td>6</td>\n",
              "    </tr>\n",
              "  </tbody>\n",
              "</table>\n",
              "<p>2188 rows × 11 columns</p>\n",
              "</div>"
            ],
            "text/plain": [
              "       대여일자  대여시간  대여소명  대여구분코드   성별  연령대코드  이용건수  운동량  탄소량  이동거리  사용시간\n",
              "대여소번호                                                                  \n",
              "3         9     9     9       9    9      9     9    9    9     9     9\n",
              "5         4     4     4       4    3      4     4    4    4     4     4\n",
              "10       25    25    25      25   19     25    25   25   25    25    25\n",
              "101     240   240   240     240  135    240   240  240  240   240   240\n",
              "102     656   656   656     656  357    656   656  656  656   656   656\n",
              "...     ...   ...   ...     ...  ...    ...   ...  ...  ...   ...   ...\n",
              "4785     74    74    74      74   49     74    74   74   74    74    74\n",
              "4791    157   157   157     157   97    157   157  157  157   157   157\n",
              "9980      1     1     1       1    1      1     1    1    1     1     1\n",
              "9997     10    10    10      10   10     10    10   10   10    10    10\n",
              "9999      6     6     6       6    4      6     6    6    6     6     6\n",
              "\n",
              "[2188 rows x 11 columns]"
            ]
          },
          "metadata": {
            "tags": []
          },
          "execution_count": 161
        }
      ]
    },
    {
      "cell_type": "code",
      "metadata": {
        "colab": {
          "base_uri": "https://localhost:8080/"
        },
        "id": "299TOsL5px3T",
        "outputId": "3b6fcabb-50c0-404e-fcbc-65588150378d"
      },
      "source": [
        "a = data.groupby('대여소번호').count()['이용건수']\n",
        "a.describe()"
      ],
      "execution_count": null,
      "outputs": [
        {
          "output_type": "execute_result",
          "data": {
            "text/plain": [
              "count    2188.000000\n",
              "mean      223.585466\n",
              "std       170.470570\n",
              "min         1.000000\n",
              "25%       100.000000\n",
              "50%       186.000000\n",
              "75%       301.000000\n",
              "max      1216.000000\n",
              "Name: 이용건수, dtype: float64"
            ]
          },
          "metadata": {
            "tags": []
          },
          "execution_count": 28
        }
      ]
    },
    {
      "cell_type": "code",
      "metadata": {
        "colab": {
          "base_uri": "https://localhost:8080/"
        },
        "id": "Nfvsnl51KXia",
        "outputId": "acd18f5a-39ce-4759-dad1-4c3d6a516380"
      },
      "source": [
        "data.groupby('대여소번호')['이용건수'].value_counts().describe()"
      ],
      "execution_count": null,
      "outputs": [
        {
          "output_type": "execute_result",
          "data": {
            "text/plain": [
              "count    5647.000000\n",
              "mean       86.630954\n",
              "std       134.795737\n",
              "min         1.000000\n",
              "25%         3.000000\n",
              "50%        15.000000\n",
              "75%       129.000000\n",
              "max       992.000000\n",
              "Name: 이용건수, dtype: float64"
            ]
          },
          "metadata": {
            "tags": []
          },
          "execution_count": 162
        }
      ]
    },
    {
      "cell_type": "code",
      "metadata": {
        "colab": {
          "base_uri": "https://localhost:8080/"
        },
        "id": "YEhoE0fOLY7c",
        "outputId": "1a5727d8-e5d6-4fac-b7b7-0af39ebc56b0"
      },
      "source": [
        "a = data[['대여소번호','이용건수']].value_counts().tolist( )\n",
        "print(len(a))"
      ],
      "execution_count": null,
      "outputs": [
        {
          "output_type": "stream",
          "text": [
            "5647\n"
          ],
          "name": "stdout"
        }
      ]
    },
    {
      "cell_type": "code",
      "metadata": {
        "colab": {
          "base_uri": "https://localhost:8080/"
        },
        "id": "mdbe-4EDq7Ri",
        "outputId": "f9a843be-2bcd-41bb-85da-de35cce8ab1c"
      },
      "source": [
        "c = data.groupby(['대여소번호','이용건수']).size().max()\n",
        "print(c)"
      ],
      "execution_count": null,
      "outputs": [
        {
          "output_type": "stream",
          "text": [
            "992\n"
          ],
          "name": "stdout"
        }
      ]
    },
    {
      "cell_type": "code",
      "metadata": {
        "colab": {
          "base_uri": "https://localhost:8080/"
        },
        "id": "5eqdQEy4mYh9",
        "outputId": "00e7ee18-66dc-4445-eadd-37f37a753843"
      },
      "source": [
        "b = data[['대여소번호','대여일자','이용건수']].value_counts().tolist( )\n",
        "print(len(b))"
      ],
      "execution_count": null,
      "outputs": [
        {
          "output_type": "stream",
          "text": [
            "65158\n"
          ],
          "name": "stdout"
        }
      ]
    },
    {
      "cell_type": "code",
      "metadata": {
        "colab": {
          "base_uri": "https://localhost:8080/"
        },
        "id": "OohMlMwopwxK",
        "outputId": "e211897d-bdde-4a26-a3a6-2eb41264fe49"
      },
      "source": [
        "rental = data.groupby('대여소번호').count()\n",
        "print(rental)"
      ],
      "execution_count": null,
      "outputs": [
        {
          "output_type": "stream",
          "text": [
            "       대여일자  대여시간  대여소명  대여구분코드   성별  연령대코드  이용건수  운동량  탄소량  이동거리  사용시간\n",
            "대여소번호                                                                  \n",
            "3         9     9     9       9    9      9     9    9    9     9     9\n",
            "5         4     4     4       4    3      4     4    4    4     4     4\n",
            "10       25    25    25      25   19     25    25   25   25    25    25\n",
            "101     240   240   240     240  135    240   240  240  240   240   240\n",
            "102     656   656   656     656  357    656   656  656  656   656   656\n",
            "...     ...   ...   ...     ...  ...    ...   ...  ...  ...   ...   ...\n",
            "4785     74    74    74      74   49     74    74   74   74    74    74\n",
            "4791    157   157   157     157   97    157   157  157  157   157   157\n",
            "9980      1     1     1       1    1      1     1    1    1     1     1\n",
            "9997     10    10    10      10   10     10    10   10   10    10    10\n",
            "9999      6     6     6       6    4      6     6    6    6     6     6\n",
            "\n",
            "[2188 rows x 11 columns]\n"
          ],
          "name": "stdout"
        }
      ]
    },
    {
      "cell_type": "code",
      "metadata": {
        "colab": {
          "base_uri": "https://localhost:8080/"
        },
        "id": "C1OQwaSTrTW5",
        "outputId": "5390f22a-f705-4012-8a30-675c5ea38ac3"
      },
      "source": [
        "a.max()\n",
        "#600대 이상의 대여소를 찾자"
      ],
      "execution_count": null,
      "outputs": [
        {
          "output_type": "execute_result",
          "data": {
            "text/plain": [
              "1216"
            ]
          },
          "metadata": {
            "tags": []
          },
          "execution_count": 30
        }
      ]
    },
    {
      "cell_type": "code",
      "metadata": {
        "colab": {
          "base_uri": "https://localhost:8080/",
          "height": 514
        },
        "id": "Cd7CP9YGEZNA",
        "outputId": "ccf32f43-9e15-4191-e7af-169a459a48f9"
      },
      "source": [
        "plt.figure(figsize=(15,8))\n",
        "plt.plot(data2.groupby('대여소번호').count()['이용건수'])\n",
        "plt.grid()\n",
        "plt.title('use per hour')\n",
        "plt.xlabel('대여소번호')\n",
        "plt.ylabel('이용건수')\n",
        "\n",
        "# plt.axvline(8, color = 'r')\n",
        "# plt.axvline(18, color = 'r')\n",
        "\n",
        "# plt.text(8, 1.10, '출근')\n",
        "# plt.text(18, 1.10, '퇴근')\n",
        "\n",
        "# plt.savefig('chart_useperplace')\n",
        "plt.show()"
      ],
      "execution_count": null,
      "outputs": [
        {
          "output_type": "display_data",
          "data": {
            "image/png": "[encoded data removed]",
            "text/plain": [
              "<Figure size 1080x576 with 1 Axes>"
            ]
          },
          "metadata": {
            "tags": [],
            "image/png": {
              "width": 896,
              "height": 497
            },
            "needs_background": "light"
          }
        }
      ]
    },
    {
      "cell_type": "code",
      "metadata": {
        "id": "hZU3yqayo30B"
      },
      "source": [
        "#원하는 열 추출\n",
        "# data.iloc[:,[0]]"
      ],
      "execution_count": null,
      "outputs": []
    },
    {
      "cell_type": "code",
      "metadata": {
        "id": "7_Mkvsu6qZUP"
      },
      "source": [
        "# useDate = data['대여일자'] == '2021-01-01'\n",
        "# useDate\n",
        "# uDate = data2[useDate]\n",
        "# uDate.info()"
      ],
      "execution_count": null,
      "outputs": []
    },
    {
      "cell_type": "code",
      "metadata": {
        "colab": {
          "base_uri": "https://localhost:8080/"
        },
        "id": "6vuEx2kJ9LCR",
        "outputId": "f81fbe7e-f933-4161-c906-2149eb760043"
      },
      "source": [
        "#일별 이용건수\n",
        "data.groupby('대여일자').count()['이용건수']"
      ],
      "execution_count": null,
      "outputs": [
        {
          "output_type": "execute_result",
          "data": {
            "text/plain": [
              "대여일자\n",
              "2021-01-01    20310\n",
              "2021-01-02    21755\n",
              "2021-01-03    20041\n",
              "2021-01-04    29875\n",
              "2021-01-05    26536\n",
              "2021-01-06    20556\n",
              "2021-01-07     5350\n",
              "2021-01-08     7679\n",
              "2021-01-09     8659\n",
              "2021-01-10    10494\n",
              "2021-01-11    18161\n",
              "2021-01-12    12070\n",
              "2021-01-13    18251\n",
              "2021-01-14    29607\n",
              "2021-01-15    29589\n",
              "2021-01-16    20911\n",
              "2021-01-17    16762\n",
              "2021-01-18    16725\n",
              "2021-01-19    24778\n",
              "2021-01-20    33329\n",
              "2021-01-22    31758\n",
              "2021-01-23    38340\n",
              "2021-01-24    27669\n",
              "Name: 이용건수, dtype: int64"
            ]
          },
          "metadata": {
            "tags": []
          },
          "execution_count": 74
        }
      ]
    },
    {
      "cell_type": "code",
      "metadata": {
        "colab": {
          "base_uri": "https://localhost:8080/",
          "height": 374
        },
        "id": "rVkVMHNa9LFR",
        "outputId": "177ba007-e428-4033-e01b-3e6f9b02007b"
      },
      "source": [
        "plt.figure(figsize=(20,5))\n",
        "plt.plot(data.groupby('대여일자').count()['이용건수'], 'r^-')\n",
        "plt.grid()\n",
        "plt.title('일별 이용건수')\n",
        "plt.xlabel('대여일자', fontsize = 15)\n",
        "plt.ylabel('이용건수', fontsize = 15)\n",
        "\n",
        "#plt.axvline(2021-01-01,2000 color = 'r')\n",
        "# plt.axvline(18, color = 'r')\n",
        "\n",
        "plt.text('2021-01-04',30000 , '월', fontsize = 15)\n",
        "plt.text('2021-01-11',19000 , '월', fontsize = 15)\n",
        "plt.text('2021-01-18', 16000, '월', fontsize = 15)\n",
        "plt.text('2021-01-20', 32000, '20일', fontsize = 15)\n",
        "plt.text('2021-01-22', 31000, '화', fontsize = 15)\n",
        "#plt.savefig('chart_useperhour')"
      ],
      "execution_count": null,
      "outputs": [
        {
          "output_type": "execute_result",
          "data": {
            "text/plain": [
              "Text(2021-01-22, 31000, '화')"
            ]
          },
          "metadata": {
            "tags": []
          },
          "execution_count": 91
        },
        {
          "output_type": "display_data",
          "data": {
            "image/png": "[encoded data removed]",
            "text/plain": [
              "<Figure size 1440x360 with 1 Axes>"
            ]
          },
          "metadata": {
            "tags": [],
            "image/png": {
              "width": 1186,
              "height": 339
            },
            "needs_background": "light"
          }
        }
      ]
    },
    {
      "cell_type": "code",
      "metadata": {
        "colab": {
          "base_uri": "https://localhost:8080/",
          "height": 414
        },
        "id": "j37zAG4rriNl",
        "outputId": "53c8da9a-fa85-4c5b-a041-4f5b9eac51bb"
      },
      "source": [
        "newDate = data[['대여일자','대여소번호','이용건수',]]\n",
        "newDate"
      ],
      "execution_count": null,
      "outputs": [
        {
          "output_type": "execute_result",
          "data": {
            "text/html": [
              "<div>\n",
              "<style scoped>\n",
              "    .dataframe tbody tr th:only-of-type {\n",
              "        vertical-align: middle;\n",
              "    }\n",
              "\n",
              "    .dataframe tbody tr th {\n",
              "        vertical-align: top;\n",
              "    }\n",
              "\n",
              "    .dataframe thead th {\n",
              "        text-align: right;\n",
              "    }\n",
              "</style>\n",
              "<table border=\"1\" class=\"dataframe\">\n",
              "  <thead>\n",
              "    <tr style=\"text-align: right;\">\n",
              "      <th></th>\n",
              "      <th>대여일자</th>\n",
              "      <th>대여소번호</th>\n",
              "      <th>이용건수</th>\n",
              "    </tr>\n",
              "  </thead>\n",
              "  <tbody>\n",
              "    <tr>\n",
              "      <th>0</th>\n",
              "      <td>2021-01-01</td>\n",
              "      <td>1347</td>\n",
              "      <td>2</td>\n",
              "    </tr>\n",
              "    <tr>\n",
              "      <th>1</th>\n",
              "      <td>2021-01-01</td>\n",
              "      <td>1349</td>\n",
              "      <td>1</td>\n",
              "    </tr>\n",
              "    <tr>\n",
              "      <th>2</th>\n",
              "      <td>2021-01-01</td>\n",
              "      <td>1168</td>\n",
              "      <td>1</td>\n",
              "    </tr>\n",
              "    <tr>\n",
              "      <th>3</th>\n",
              "      <td>2021-01-01</td>\n",
              "      <td>2619</td>\n",
              "      <td>1</td>\n",
              "    </tr>\n",
              "    <tr>\n",
              "      <th>4</th>\n",
              "      <td>2021-01-01</td>\n",
              "      <td>536</td>\n",
              "      <td>1</td>\n",
              "    </tr>\n",
              "    <tr>\n",
              "      <th>...</th>\n",
              "      <td>...</td>\n",
              "      <td>...</td>\n",
              "      <td>...</td>\n",
              "    </tr>\n",
              "    <tr>\n",
              "      <th>489200</th>\n",
              "      <td>2021-01-24</td>\n",
              "      <td>945</td>\n",
              "      <td>1</td>\n",
              "    </tr>\n",
              "    <tr>\n",
              "      <th>489201</th>\n",
              "      <td>2021-01-24</td>\n",
              "      <td>1036</td>\n",
              "      <td>1</td>\n",
              "    </tr>\n",
              "    <tr>\n",
              "      <th>489202</th>\n",
              "      <td>2021-01-24</td>\n",
              "      <td>1151</td>\n",
              "      <td>1</td>\n",
              "    </tr>\n",
              "    <tr>\n",
              "      <th>489203</th>\n",
              "      <td>2021-01-24</td>\n",
              "      <td>1251</td>\n",
              "      <td>1</td>\n",
              "    </tr>\n",
              "    <tr>\n",
              "      <th>489204</th>\n",
              "      <td>2021-01-24</td>\n",
              "      <td>1264</td>\n",
              "      <td>1</td>\n",
              "    </tr>\n",
              "  </tbody>\n",
              "</table>\n",
              "<p>489205 rows × 3 columns</p>\n",
              "</div>"
            ],
            "text/plain": [
              "              대여일자  대여소번호  이용건수\n",
              "0       2021-01-01   1347     2\n",
              "1       2021-01-01   1349     1\n",
              "2       2021-01-01   1168     1\n",
              "3       2021-01-01   2619     1\n",
              "4       2021-01-01    536     1\n",
              "...            ...    ...   ...\n",
              "489200  2021-01-24    945     1\n",
              "489201  2021-01-24   1036     1\n",
              "489202  2021-01-24   1151     1\n",
              "489203  2021-01-24   1251     1\n",
              "489204  2021-01-24   1264     1\n",
              "\n",
              "[489205 rows x 3 columns]"
            ]
          },
          "metadata": {
            "tags": []
          },
          "execution_count": 175
        }
      ]
    },
    {
      "cell_type": "code",
      "metadata": {
        "colab": {
          "base_uri": "https://localhost:8080/",
          "height": 527
        },
        "id": "_Fb96quPWm-u",
        "outputId": "f08ae6ac-1bd3-4871-de4a-518b219ea39f"
      },
      "source": [
        "#Vectorization을 이용한 pandas DataFrame 문자열 칼럼 분할하기\n",
        "newDate['대여소이름'] = data.대여소명.str.split('.').str[1]\n",
        "\n",
        "newDate\n"
      ],
      "execution_count": null,
      "outputs": [
        {
          "output_type": "stream",
          "text": [
            "/usr/local/lib/python3.7/dist-packages/ipykernel_launcher.py:2: SettingWithCopyWarning: \n",
            "A value is trying to be set on a copy of a slice from a DataFrame.\n",
            "Try using .loc[row_indexer,col_indexer] = value instead\n",
            "\n",
            "See the caveats in the documentation: https://pandas.pydata.org/pandas-docs/stable/user_guide/indexing.html#returning-a-view-versus-a-copy\n",
            "  \n"
          ],
          "name": "stderr"
        },
        {
          "output_type": "execute_result",
          "data": {
            "text/html": [
              "<div>\n",
              "<style scoped>\n",
              "    .dataframe tbody tr th:only-of-type {\n",
              "        vertical-align: middle;\n",
              "    }\n",
              "\n",
              "    .dataframe tbody tr th {\n",
              "        vertical-align: top;\n",
              "    }\n",
              "\n",
              "    .dataframe thead th {\n",
              "        text-align: right;\n",
              "    }\n",
              "</style>\n",
              "<table border=\"1\" class=\"dataframe\">\n",
              "  <thead>\n",
              "    <tr style=\"text-align: right;\">\n",
              "      <th></th>\n",
              "      <th>대여일자</th>\n",
              "      <th>대여소번호</th>\n",
              "      <th>이용건수</th>\n",
              "      <th>대여소이름</th>\n",
              "    </tr>\n",
              "  </thead>\n",
              "  <tbody>\n",
              "    <tr>\n",
              "      <th>0</th>\n",
              "      <td>2021-01-01</td>\n",
              "      <td>1347</td>\n",
              "      <td>2</td>\n",
              "      <td>길음래미안아파트817동 상가 앞</td>\n",
              "    </tr>\n",
              "    <tr>\n",
              "      <th>1</th>\n",
              "      <td>2021-01-01</td>\n",
              "      <td>1349</td>\n",
              "      <td>1</td>\n",
              "      <td>월계2교 버스정류장 앞</td>\n",
              "    </tr>\n",
              "    <tr>\n",
              "      <th>2</th>\n",
              "      <td>2021-01-01</td>\n",
              "      <td>1168</td>\n",
              "      <td>1</td>\n",
              "      <td>마곡엠밸리10단지 앞</td>\n",
              "    </tr>\n",
              "    <tr>\n",
              "      <th>3</th>\n",
              "      <td>2021-01-01</td>\n",
              "      <td>2619</td>\n",
              "      <td>1</td>\n",
              "      <td>석촌고분역 4번출구</td>\n",
              "    </tr>\n",
              "    <tr>\n",
              "      <th>4</th>\n",
              "      <td>2021-01-01</td>\n",
              "      <td>536</td>\n",
              "      <td>1</td>\n",
              "      <td>행당역 2번출구 앞</td>\n",
              "    </tr>\n",
              "    <tr>\n",
              "      <th>...</th>\n",
              "      <td>...</td>\n",
              "      <td>...</td>\n",
              "      <td>...</td>\n",
              "      <td>...</td>\n",
              "    </tr>\n",
              "    <tr>\n",
              "      <th>489200</th>\n",
              "      <td>2021-01-24</td>\n",
              "      <td>945</td>\n",
              "      <td>1</td>\n",
              "      <td>기자촌 사거리</td>\n",
              "    </tr>\n",
              "    <tr>\n",
              "      <th>489201</th>\n",
              "      <td>2021-01-24</td>\n",
              "      <td>1036</td>\n",
              "      <td>1</td>\n",
              "      <td>고덕동 주양쇼핑</td>\n",
              "    </tr>\n",
              "    <tr>\n",
              "      <th>489202</th>\n",
              "      <td>2021-01-24</td>\n",
              "      <td>1151</td>\n",
              "      <td>1</td>\n",
              "      <td>마곡역1번출구</td>\n",
              "    </tr>\n",
              "    <tr>\n",
              "      <th>489203</th>\n",
              "      <td>2021-01-24</td>\n",
              "      <td>1251</td>\n",
              "      <td>1</td>\n",
              "      <td>석촌역 2번출구</td>\n",
              "    </tr>\n",
              "    <tr>\n",
              "      <th>489204</th>\n",
              "      <td>2021-01-24</td>\n",
              "      <td>1264</td>\n",
              "      <td>1</td>\n",
              "      <td>천호역 10번 출구 앞</td>\n",
              "    </tr>\n",
              "  </tbody>\n",
              "</table>\n",
              "<p>489205 rows × 4 columns</p>\n",
              "</div>"
            ],
            "text/plain": [
              "              대여일자  대여소번호  이용건수               대여소이름\n",
              "0       2021-01-01   1347     2   길음래미안아파트817동 상가 앞\n",
              "1       2021-01-01   1349     1        월계2교 버스정류장 앞\n",
              "2       2021-01-01   1168     1         마곡엠밸리10단지 앞\n",
              "3       2021-01-01   2619     1          석촌고분역 4번출구\n",
              "4       2021-01-01    536     1          행당역 2번출구 앞\n",
              "...            ...    ...   ...                 ...\n",
              "489200  2021-01-24    945     1             기자촌 사거리\n",
              "489201  2021-01-24   1036     1            고덕동 주양쇼핑\n",
              "489202  2021-01-24   1151     1             마곡역1번출구\n",
              "489203  2021-01-24   1251     1            석촌역 2번출구\n",
              "489204  2021-01-24   1264     1        천호역 10번 출구 앞\n",
              "\n",
              "[489205 rows x 4 columns]"
            ]
          },
          "metadata": {
            "tags": []
          },
          "execution_count": 176
        }
      ]
    },
    {
      "cell_type": "code",
      "metadata": {
        "id": "56b9SUmbXTRd"
      },
      "source": [
        "# newDate.set_index('대여소번호',inplace=True)\n",
        "# newDate"
      ],
      "execution_count": null,
      "outputs": []
    },
    {
      "cell_type": "code",
      "metadata": {
        "colab": {
          "base_uri": "https://localhost:8080/"
        },
        "id": "C8Q7p36ml7f6",
        "outputId": "d65a02e0-ed42-4b45-9469-01f0e3cb1997"
      },
      "source": [
        "#특정 열이 주어진 조건을 만족하는 행의 인덱스를 가져 오는 작업\n",
        "reqd_Index = newDate[newDate['대여소번호'] == 2102].index.tolist()\n",
        "print(len(reqd_Index))"
      ],
      "execution_count": null,
      "outputs": [
        {
          "output_type": "stream",
          "text": [
            "1216\n"
          ],
          "name": "stdout"
        }
      ]
    },
    {
      "cell_type": "code",
      "metadata": {
        "colab": {
          "base_uri": "https://localhost:8080/"
        },
        "id": "8Lgue0KGaT2Y",
        "outputId": "65794275-6aa9-4c25-9668-99f61dd3aa5a"
      },
      "source": [
        "newDate.iloc[0]"
      ],
      "execution_count": null,
      "outputs": [
        {
          "output_type": "execute_result",
          "data": {
            "text/plain": [
              "대여일자             2021-01-01\n",
              "이용건수                      2\n",
              "대여소이름     길음래미안아파트817동 상가 앞\n",
              "Name: 1347, dtype: object"
            ]
          },
          "metadata": {
            "tags": []
          },
          "execution_count": 172
        }
      ]
    },
    {
      "cell_type": "code",
      "metadata": {
        "colab": {
          "base_uri": "https://localhost:8080/",
          "height": 414
        },
        "id": "fDzscfjkf5-E",
        "outputId": "aa7a38e4-3b21-4229-85f8-505933533c23"
      },
      "source": [
        "is_jamsil = data['대여소번호'] == 2102\n",
        "jamsil = data[is_jamsil]\n",
        "jamsil"
      ],
      "execution_count": null,
      "outputs": [
        {
          "output_type": "execute_result",
          "data": {
            "text/html": [
              "<div>\n",
              "<style scoped>\n",
              "    .dataframe tbody tr th:only-of-type {\n",
              "        vertical-align: middle;\n",
              "    }\n",
              "\n",
              "    .dataframe tbody tr th {\n",
              "        vertical-align: top;\n",
              "    }\n",
              "\n",
              "    .dataframe thead th {\n",
              "        text-align: right;\n",
              "    }\n",
              "</style>\n",
              "<table border=\"1\" class=\"dataframe\">\n",
              "  <thead>\n",
              "    <tr style=\"text-align: right;\">\n",
              "      <th></th>\n",
              "      <th>대여일자</th>\n",
              "      <th>대여시간</th>\n",
              "      <th>대여소번호</th>\n",
              "      <th>대여소명</th>\n",
              "      <th>대여구분코드</th>\n",
              "      <th>성별</th>\n",
              "      <th>연령대코드</th>\n",
              "      <th>이용건수</th>\n",
              "      <th>운동량</th>\n",
              "      <th>탄소량</th>\n",
              "      <th>이동거리</th>\n",
              "      <th>사용시간</th>\n",
              "    </tr>\n",
              "  </thead>\n",
              "  <tbody>\n",
              "    <tr>\n",
              "      <th>51</th>\n",
              "      <td>2021-01-01</td>\n",
              "      <td>0</td>\n",
              "      <td>2102</td>\n",
              "      <td>2102. 봉림교 교통섬</td>\n",
              "      <td>정기권</td>\n",
              "      <td>NaN</td>\n",
              "      <td>20대</td>\n",
              "      <td>1</td>\n",
              "      <td>22.90</td>\n",
              "      <td>0.17</td>\n",
              "      <td>722.93</td>\n",
              "      <td>6</td>\n",
              "    </tr>\n",
              "    <tr>\n",
              "      <th>360</th>\n",
              "      <td>2021-01-01</td>\n",
              "      <td>0</td>\n",
              "      <td>2102</td>\n",
              "      <td>2102. 봉림교 교통섬</td>\n",
              "      <td>일일권</td>\n",
              "      <td>M</td>\n",
              "      <td>20대</td>\n",
              "      <td>2</td>\n",
              "      <td>512.19</td>\n",
              "      <td>4.62</td>\n",
              "      <td>19898.70</td>\n",
              "      <td>223</td>\n",
              "    </tr>\n",
              "    <tr>\n",
              "      <th>540</th>\n",
              "      <td>2021-01-01</td>\n",
              "      <td>1</td>\n",
              "      <td>2102</td>\n",
              "      <td>2102. 봉림교 교통섬</td>\n",
              "      <td>정기권</td>\n",
              "      <td>M</td>\n",
              "      <td>30대</td>\n",
              "      <td>1</td>\n",
              "      <td>40.47</td>\n",
              "      <td>0.30</td>\n",
              "      <td>1277.58</td>\n",
              "      <td>10</td>\n",
              "    </tr>\n",
              "    <tr>\n",
              "      <th>605</th>\n",
              "      <td>2021-01-01</td>\n",
              "      <td>1</td>\n",
              "      <td>2102</td>\n",
              "      <td>2102. 봉림교 교통섬</td>\n",
              "      <td>정기권</td>\n",
              "      <td>M</td>\n",
              "      <td>50대</td>\n",
              "      <td>1</td>\n",
              "      <td>0.00</td>\n",
              "      <td>0.00</td>\n",
              "      <td>0.00</td>\n",
              "      <td>9</td>\n",
              "    </tr>\n",
              "    <tr>\n",
              "      <th>842</th>\n",
              "      <td>2021-01-01</td>\n",
              "      <td>2</td>\n",
              "      <td>2102</td>\n",
              "      <td>2102. 봉림교 교통섬</td>\n",
              "      <td>정기권</td>\n",
              "      <td>M</td>\n",
              "      <td>30대</td>\n",
              "      <td>1</td>\n",
              "      <td>0.00</td>\n",
              "      <td>0.00</td>\n",
              "      <td>0.00</td>\n",
              "      <td>22</td>\n",
              "    </tr>\n",
              "    <tr>\n",
              "      <th>...</th>\n",
              "      <td>...</td>\n",
              "      <td>...</td>\n",
              "      <td>...</td>\n",
              "      <td>...</td>\n",
              "      <td>...</td>\n",
              "      <td>...</td>\n",
              "      <td>...</td>\n",
              "      <td>...</td>\n",
              "      <td>...</td>\n",
              "      <td>...</td>\n",
              "      <td>...</td>\n",
              "      <td>...</td>\n",
              "    </tr>\n",
              "    <tr>\n",
              "      <th>487747</th>\n",
              "      <td>2021-01-24</td>\n",
              "      <td>16</td>\n",
              "      <td>2102</td>\n",
              "      <td>2102. 봉림교 교통섬</td>\n",
              "      <td>일일권</td>\n",
              "      <td>NaN</td>\n",
              "      <td>30대</td>\n",
              "      <td>1</td>\n",
              "      <td>171.86</td>\n",
              "      <td>1.80</td>\n",
              "      <td>7749.94</td>\n",
              "      <td>50</td>\n",
              "    </tr>\n",
              "    <tr>\n",
              "      <th>488201</th>\n",
              "      <td>2021-01-24</td>\n",
              "      <td>16</td>\n",
              "      <td>2102</td>\n",
              "      <td>2102. 봉림교 교통섬</td>\n",
              "      <td>일일권</td>\n",
              "      <td>F</td>\n",
              "      <td>20대</td>\n",
              "      <td>1</td>\n",
              "      <td>3.05</td>\n",
              "      <td>0.36</td>\n",
              "      <td>1538.71</td>\n",
              "      <td>13</td>\n",
              "    </tr>\n",
              "    <tr>\n",
              "      <th>488388</th>\n",
              "      <td>2021-01-24</td>\n",
              "      <td>16</td>\n",
              "      <td>2102</td>\n",
              "      <td>2102. 봉림교 교통섬</td>\n",
              "      <td>일일권</td>\n",
              "      <td>F</td>\n",
              "      <td>30대</td>\n",
              "      <td>3</td>\n",
              "      <td>685.81</td>\n",
              "      <td>6.33</td>\n",
              "      <td>27275.96</td>\n",
              "      <td>148</td>\n",
              "    </tr>\n",
              "    <tr>\n",
              "      <th>488778</th>\n",
              "      <td>2021-01-24</td>\n",
              "      <td>16</td>\n",
              "      <td>2102</td>\n",
              "      <td>2102. 봉림교 교통섬</td>\n",
              "      <td>일일권</td>\n",
              "      <td>M</td>\n",
              "      <td>20대</td>\n",
              "      <td>1</td>\n",
              "      <td>33.76</td>\n",
              "      <td>0.32</td>\n",
              "      <td>1374.87</td>\n",
              "      <td>20</td>\n",
              "    </tr>\n",
              "    <tr>\n",
              "      <th>488942</th>\n",
              "      <td>2021-01-24</td>\n",
              "      <td>16</td>\n",
              "      <td>2102</td>\n",
              "      <td>2102. 봉림교 교통섬</td>\n",
              "      <td>일일권</td>\n",
              "      <td>M</td>\n",
              "      <td>30대</td>\n",
              "      <td>2</td>\n",
              "      <td>668.61</td>\n",
              "      <td>5.87</td>\n",
              "      <td>25294.18</td>\n",
              "      <td>135</td>\n",
              "    </tr>\n",
              "  </tbody>\n",
              "</table>\n",
              "<p>1216 rows × 12 columns</p>\n",
              "</div>"
            ],
            "text/plain": [
              "              대여일자  대여시간  대여소번호           대여소명  ...     운동량   탄소량      이동거리  사용시간\n",
              "51      2021-01-01     0   2102  2102. 봉림교 교통섬  ...   22.90  0.17    722.93     6\n",
              "360     2021-01-01     0   2102  2102. 봉림교 교통섬  ...  512.19  4.62  19898.70   223\n",
              "540     2021-01-01     1   2102  2102. 봉림교 교통섬  ...   40.47  0.30   1277.58    10\n",
              "605     2021-01-01     1   2102  2102. 봉림교 교통섬  ...    0.00  0.00      0.00     9\n",
              "842     2021-01-01     2   2102  2102. 봉림교 교통섬  ...    0.00  0.00      0.00    22\n",
              "...            ...   ...    ...            ...  ...     ...   ...       ...   ...\n",
              "487747  2021-01-24    16   2102  2102. 봉림교 교통섬  ...  171.86  1.80   7749.94    50\n",
              "488201  2021-01-24    16   2102  2102. 봉림교 교통섬  ...    3.05  0.36   1538.71    13\n",
              "488388  2021-01-24    16   2102  2102. 봉림교 교통섬  ...  685.81  6.33  27275.96   148\n",
              "488778  2021-01-24    16   2102  2102. 봉림교 교통섬  ...   33.76  0.32   1374.87    20\n",
              "488942  2021-01-24    16   2102  2102. 봉림교 교통섬  ...  668.61  5.87  25294.18   135\n",
              "\n",
              "[1216 rows x 12 columns]"
            ]
          },
          "metadata": {
            "tags": []
          },
          "execution_count": 159
        }
      ]
    },
    {
      "cell_type": "markdown",
      "metadata": {
        "id": "u6ZsGYv1znb0"
      },
      "source": [
        "## 2020.09~21.01 까지 데이터\n",
        "\n"
      ]
    },
    {
      "cell_type": "markdown",
      "metadata": {
        "id": "cZ6diYBb0_ZI"
      },
      "source": [
        "* 참고싸이트 : https://hwangtoemat.github.io/dataanalysis-with-python/2019-01-29-%EC%84%9C%EC%9A%B8%EC%8B%9C-%EA%B3%B5%EA%B3%B5%EC%9E%90%EC%A0%84%EA%B1%B0-%EB%8C%80%EC%97%AC%EC%86%8C%EB%B3%84-%EC%9D%B4%EC%9A%A9-%EB%B6%84%EC%84%9D_1/"
      ]
    },
    {
      "cell_type": "code",
      "metadata": {
        "id": "0Dm52NuciRnM",
        "colab": {
          "base_uri": "https://localhost:8080/"
        },
        "outputId": "afab1787-e344-4e5b-eb4c-d9fc5d7aba4b"
      },
      "source": [
        "bt1 = pd.read_csv('/content/drive/MyDrive/bike9.csv', encoding='cp949', engine='python', error_bad_lines=False )\n",
        "bt2 = pd.read_csv('/content/drive/MyDrive/bike10.csv', encoding='cp949', engine='python', error_bad_lines=False )\n",
        "bt3 = pd.read_csv('/content/drive/MyDrive/bike11.csv', encoding='cp949', engine='python', error_bad_lines=False )\n",
        "bt4 = pd.read_csv('/content/drive/MyDrive/bike12.csv', encoding='cp949', engine='python', error_bad_lines=False )\n",
        "bt5 = pd.read_csv('/content/drive/MyDrive/bike1.csv', encoding='cp949', engine='python', error_bad_lines=False )"
      ],
      "execution_count": null,
      "outputs": [
        {
          "output_type": "stream",
          "text": [
            "Skipping line 512055: unexpected end of data\n",
            "Skipping line 512836: unexpected end of data\n",
            "Skipping line 514491: unexpected end of data\n",
            "Skipping line 514486: unexpected end of data\n",
            "Skipping line 509058: unexpected end of data\n"
          ],
          "name": "stderr"
        }
      ]
    },
    {
      "cell_type": "code",
      "metadata": {
        "id": "pUjgiKvl0G0W",
        "colab": {
          "base_uri": "https://localhost:8080/",
          "height": 202
        },
        "outputId": "f4d04083-2e09-4708-946e-3b57b7f891c0"
      },
      "source": [
        "# 5개월 데이터 합치기 concat\n",
        "data2 = pd.concat([bt1,bt2,bt3,bt4,bt5]  ) #ignore_index=True\n",
        "data2.head()"
      ],
      "execution_count": null,
      "outputs": [
        {
          "output_type": "execute_result",
          "data": {
            "text/html": [
              "<div>\n",
              "<style scoped>\n",
              "    .dataframe tbody tr th:only-of-type {\n",
              "        vertical-align: middle;\n",
              "    }\n",
              "\n",
              "    .dataframe tbody tr th {\n",
              "        vertical-align: top;\n",
              "    }\n",
              "\n",
              "    .dataframe thead th {\n",
              "        text-align: right;\n",
              "    }\n",
              "</style>\n",
              "<table border=\"1\" class=\"dataframe\">\n",
              "  <thead>\n",
              "    <tr style=\"text-align: right;\">\n",
              "      <th></th>\n",
              "      <th>대여일자</th>\n",
              "      <th>대여시간</th>\n",
              "      <th>대여소번호</th>\n",
              "      <th>대여소명</th>\n",
              "      <th>대여구분코드</th>\n",
              "      <th>성별</th>\n",
              "      <th>연령대코드</th>\n",
              "      <th>이용건수</th>\n",
              "      <th>운동량</th>\n",
              "      <th>탄소량</th>\n",
              "      <th>이동거리</th>\n",
              "      <th>사용시간</th>\n",
              "    </tr>\n",
              "  </thead>\n",
              "  <tbody>\n",
              "    <tr>\n",
              "      <th>0</th>\n",
              "      <td>2020-09-01</td>\n",
              "      <td>0</td>\n",
              "      <td>1152</td>\n",
              "      <td>1152. 마곡역교차로</td>\n",
              "      <td>정기권</td>\n",
              "      <td>NaN</td>\n",
              "      <td>~10대</td>\n",
              "      <td>1</td>\n",
              "      <td>0.00</td>\n",
              "      <td>0.00</td>\n",
              "      <td>0.0</td>\n",
              "      <td>8</td>\n",
              "    </tr>\n",
              "    <tr>\n",
              "      <th>1</th>\n",
              "      <td>2020-09-01</td>\n",
              "      <td>0</td>\n",
              "      <td>1532</td>\n",
              "      <td>1532. 번3동 주민센터 교차로</td>\n",
              "      <td>정기권</td>\n",
              "      <td>NaN</td>\n",
              "      <td>~10대</td>\n",
              "      <td>1</td>\n",
              "      <td>0.00</td>\n",
              "      <td>0.00</td>\n",
              "      <td>0.0</td>\n",
              "      <td>3</td>\n",
              "    </tr>\n",
              "    <tr>\n",
              "      <th>2</th>\n",
              "      <td>2020-09-01</td>\n",
              "      <td>0</td>\n",
              "      <td>1536</td>\n",
              "      <td>1536. 번동 두산위브 101동 옆</td>\n",
              "      <td>정기권</td>\n",
              "      <td>NaN</td>\n",
              "      <td>~10대</td>\n",
              "      <td>1</td>\n",
              "      <td>59.49</td>\n",
              "      <td>0.47</td>\n",
              "      <td>2030.0</td>\n",
              "      <td>10</td>\n",
              "    </tr>\n",
              "    <tr>\n",
              "      <th>3</th>\n",
              "      <td>2020-09-01</td>\n",
              "      <td>0</td>\n",
              "      <td>1650</td>\n",
              "      <td>1650. 중계근린공원내</td>\n",
              "      <td>정기권</td>\n",
              "      <td>NaN</td>\n",
              "      <td>~10대</td>\n",
              "      <td>1</td>\n",
              "      <td>0.00</td>\n",
              "      <td>0.00</td>\n",
              "      <td>0.0</td>\n",
              "      <td>55</td>\n",
              "    </tr>\n",
              "    <tr>\n",
              "      <th>4</th>\n",
              "      <td>2020-09-01</td>\n",
              "      <td>0</td>\n",
              "      <td>2377</td>\n",
              "      <td>2377. 수서역 5번출구 뒤</td>\n",
              "      <td>정기권</td>\n",
              "      <td>NaN</td>\n",
              "      <td>~10대</td>\n",
              "      <td>1</td>\n",
              "      <td>0.00</td>\n",
              "      <td>0.00</td>\n",
              "      <td>0.0</td>\n",
              "      <td>21</td>\n",
              "    </tr>\n",
              "  </tbody>\n",
              "</table>\n",
              "</div>"
            ],
            "text/plain": [
              "         대여일자  대여시간  대여소번호                  대여소명  ...    운동량   탄소량    이동거리  사용시간\n",
              "0  2020-09-01     0   1152          1152. 마곡역교차로  ...   0.00  0.00     0.0     8\n",
              "1  2020-09-01     0   1532    1532. 번3동 주민센터 교차로  ...   0.00  0.00     0.0     3\n",
              "2  2020-09-01     0   1536  1536. 번동 두산위브 101동 옆  ...  59.49  0.47  2030.0    10\n",
              "3  2020-09-01     0   1650         1650. 중계근린공원내  ...   0.00  0.00     0.0    55\n",
              "4  2020-09-01     0   2377      2377. 수서역 5번출구 뒤  ...   0.00  0.00     0.0    21\n",
              "\n",
              "[5 rows x 12 columns]"
            ]
          },
          "metadata": {
            "tags": []
          },
          "execution_count": 5
        }
      ]
    },
    {
      "cell_type": "code",
      "metadata": {
        "colab": {
          "base_uri": "https://localhost:8080/",
          "height": 202
        },
        "id": "4ywX7wwq1R5t",
        "outputId": "2de8c114-ffd3-496c-d279-c036cec401d3"
      },
      "source": [
        "data2.tail()"
      ],
      "execution_count": null,
      "outputs": [
        {
          "output_type": "execute_result",
          "data": {
            "text/html": [
              "<div>\n",
              "<style scoped>\n",
              "    .dataframe tbody tr th:only-of-type {\n",
              "        vertical-align: middle;\n",
              "    }\n",
              "\n",
              "    .dataframe tbody tr th {\n",
              "        vertical-align: top;\n",
              "    }\n",
              "\n",
              "    .dataframe thead th {\n",
              "        text-align: right;\n",
              "    }\n",
              "</style>\n",
              "<table border=\"1\" class=\"dataframe\">\n",
              "  <thead>\n",
              "    <tr style=\"text-align: right;\">\n",
              "      <th></th>\n",
              "      <th>대여일자</th>\n",
              "      <th>대여시간</th>\n",
              "      <th>대여소번호</th>\n",
              "      <th>대여소명</th>\n",
              "      <th>대여구분코드</th>\n",
              "      <th>성별</th>\n",
              "      <th>연령대코드</th>\n",
              "      <th>이용건수</th>\n",
              "      <th>운동량</th>\n",
              "      <th>탄소량</th>\n",
              "      <th>이동거리</th>\n",
              "      <th>사용시간</th>\n",
              "    </tr>\n",
              "  </thead>\n",
              "  <tbody>\n",
              "    <tr>\n",
              "      <th>509051</th>\n",
              "      <td>2021-01-25</td>\n",
              "      <td>8</td>\n",
              "      <td>678</td>\n",
              "      <td>678.장안힐스테이트(아) 앞</td>\n",
              "      <td>정기권</td>\n",
              "      <td>NaN</td>\n",
              "      <td>40대</td>\n",
              "      <td>2</td>\n",
              "      <td>175.99</td>\n",
              "      <td>1.36</td>\n",
              "      <td>5834.76</td>\n",
              "      <td>35</td>\n",
              "    </tr>\n",
              "    <tr>\n",
              "      <th>509052</th>\n",
              "      <td>2021-01-25</td>\n",
              "      <td>8</td>\n",
              "      <td>171</td>\n",
              "      <td>171. 임광빌딩 앞</td>\n",
              "      <td>정기권</td>\n",
              "      <td>NaN</td>\n",
              "      <td>40대</td>\n",
              "      <td>1</td>\n",
              "      <td>18.68</td>\n",
              "      <td>0.14</td>\n",
              "      <td>589.53</td>\n",
              "      <td>3</td>\n",
              "    </tr>\n",
              "    <tr>\n",
              "      <th>509053</th>\n",
              "      <td>2021-01-25</td>\n",
              "      <td>8</td>\n",
              "      <td>1462</td>\n",
              "      <td>1462.동부시장 북문 앞</td>\n",
              "      <td>정기권</td>\n",
              "      <td>NaN</td>\n",
              "      <td>40대</td>\n",
              "      <td>1</td>\n",
              "      <td>151.76</td>\n",
              "      <td>1.37</td>\n",
              "      <td>5895.70</td>\n",
              "      <td>23</td>\n",
              "    </tr>\n",
              "    <tr>\n",
              "      <th>509054</th>\n",
              "      <td>2021-01-25</td>\n",
              "      <td>8</td>\n",
              "      <td>1470</td>\n",
              "      <td>1470.중화동 우리은행 앞</td>\n",
              "      <td>정기권</td>\n",
              "      <td>NaN</td>\n",
              "      <td>40대</td>\n",
              "      <td>1</td>\n",
              "      <td>118.50</td>\n",
              "      <td>0.95</td>\n",
              "      <td>4099.18</td>\n",
              "      <td>27</td>\n",
              "    </tr>\n",
              "    <tr>\n",
              "      <th>509055</th>\n",
              "      <td>2021-01-25</td>\n",
              "      <td>8</td>\n",
              "      <td>3586</td>\n",
              "      <td>3586.군자역 비채온 오피스텔</td>\n",
              "      <td>정기권</td>\n",
              "      <td>NaN</td>\n",
              "      <td>40대</td>\n",
              "      <td>1</td>\n",
              "      <td>80.10</td>\n",
              "      <td>0.45</td>\n",
              "      <td>1926.35</td>\n",
              "      <td>10</td>\n",
              "    </tr>\n",
              "  </tbody>\n",
              "</table>\n",
              "</div>"
            ],
            "text/plain": [
              "              대여일자  대여시간  대여소번호               대여소명  ...     운동량   탄소량     이동거리  사용시간\n",
              "509051  2021-01-25     8    678   678.장안힐스테이트(아) 앞  ...  175.99  1.36  5834.76    35\n",
              "509052  2021-01-25     8    171        171. 임광빌딩 앞  ...   18.68  0.14   589.53     3\n",
              "509053  2021-01-25     8   1462     1462.동부시장 북문 앞  ...  151.76  1.37  5895.70    23\n",
              "509054  2021-01-25     8   1470    1470.중화동 우리은행 앞  ...  118.50  0.95  4099.18    27\n",
              "509055  2021-01-25     8   3586  3586.군자역 비채온 오피스텔  ...   80.10  0.45  1926.35    10\n",
              "\n",
              "[5 rows x 12 columns]"
            ]
          },
          "metadata": {
            "tags": []
          },
          "execution_count": 6
        }
      ]
    },
    {
      "cell_type": "code",
      "metadata": {
        "colab": {
          "base_uri": "https://localhost:8080/"
        },
        "id": "XNtuU0t91WRk",
        "outputId": "88be801a-f844-46d5-8b85-022cff1c8c97"
      },
      "source": [
        "data2.shape"
      ],
      "execution_count": null,
      "outputs": [
        {
          "output_type": "execute_result",
          "data": {
            "text/plain": [
              "(2562916, 12)"
            ]
          },
          "metadata": {
            "tags": []
          },
          "execution_count": 7
        }
      ]
    },
    {
      "cell_type": "code",
      "metadata": {
        "colab": {
          "base_uri": "https://localhost:8080/",
          "height": 414
        },
        "id": "iAC6iQMJ1Zo9",
        "outputId": "811c9e90-0b96-4896-9be3-62211c159ddd"
      },
      "source": [
        "bpt = data2.copy()\n",
        "bpt"
      ],
      "execution_count": null,
      "outputs": [
        {
          "output_type": "execute_result",
          "data": {
            "text/html": [
              "<div>\n",
              "<style scoped>\n",
              "    .dataframe tbody tr th:only-of-type {\n",
              "        vertical-align: middle;\n",
              "    }\n",
              "\n",
              "    .dataframe tbody tr th {\n",
              "        vertical-align: top;\n",
              "    }\n",
              "\n",
              "    .dataframe thead th {\n",
              "        text-align: right;\n",
              "    }\n",
              "</style>\n",
              "<table border=\"1\" class=\"dataframe\">\n",
              "  <thead>\n",
              "    <tr style=\"text-align: right;\">\n",
              "      <th></th>\n",
              "      <th>대여일자</th>\n",
              "      <th>대여시간</th>\n",
              "      <th>대여소번호</th>\n",
              "      <th>대여소명</th>\n",
              "      <th>대여구분코드</th>\n",
              "      <th>성별</th>\n",
              "      <th>연령대코드</th>\n",
              "      <th>이용건수</th>\n",
              "      <th>운동량</th>\n",
              "      <th>탄소량</th>\n",
              "      <th>이동거리</th>\n",
              "      <th>사용시간</th>\n",
              "    </tr>\n",
              "  </thead>\n",
              "  <tbody>\n",
              "    <tr>\n",
              "      <th>0</th>\n",
              "      <td>2020-09-01</td>\n",
              "      <td>0</td>\n",
              "      <td>1152</td>\n",
              "      <td>1152. 마곡역교차로</td>\n",
              "      <td>정기권</td>\n",
              "      <td>NaN</td>\n",
              "      <td>~10대</td>\n",
              "      <td>1</td>\n",
              "      <td>0.00</td>\n",
              "      <td>0.00</td>\n",
              "      <td>0.00</td>\n",
              "      <td>8</td>\n",
              "    </tr>\n",
              "    <tr>\n",
              "      <th>1</th>\n",
              "      <td>2020-09-01</td>\n",
              "      <td>0</td>\n",
              "      <td>1532</td>\n",
              "      <td>1532. 번3동 주민센터 교차로</td>\n",
              "      <td>정기권</td>\n",
              "      <td>NaN</td>\n",
              "      <td>~10대</td>\n",
              "      <td>1</td>\n",
              "      <td>0.00</td>\n",
              "      <td>0.00</td>\n",
              "      <td>0.00</td>\n",
              "      <td>3</td>\n",
              "    </tr>\n",
              "    <tr>\n",
              "      <th>2</th>\n",
              "      <td>2020-09-01</td>\n",
              "      <td>0</td>\n",
              "      <td>1536</td>\n",
              "      <td>1536. 번동 두산위브 101동 옆</td>\n",
              "      <td>정기권</td>\n",
              "      <td>NaN</td>\n",
              "      <td>~10대</td>\n",
              "      <td>1</td>\n",
              "      <td>59.49</td>\n",
              "      <td>0.47</td>\n",
              "      <td>2030.00</td>\n",
              "      <td>10</td>\n",
              "    </tr>\n",
              "    <tr>\n",
              "      <th>3</th>\n",
              "      <td>2020-09-01</td>\n",
              "      <td>0</td>\n",
              "      <td>1650</td>\n",
              "      <td>1650. 중계근린공원내</td>\n",
              "      <td>정기권</td>\n",
              "      <td>NaN</td>\n",
              "      <td>~10대</td>\n",
              "      <td>1</td>\n",
              "      <td>0.00</td>\n",
              "      <td>0.00</td>\n",
              "      <td>0.00</td>\n",
              "      <td>55</td>\n",
              "    </tr>\n",
              "    <tr>\n",
              "      <th>4</th>\n",
              "      <td>2020-09-01</td>\n",
              "      <td>0</td>\n",
              "      <td>2377</td>\n",
              "      <td>2377. 수서역 5번출구 뒤</td>\n",
              "      <td>정기권</td>\n",
              "      <td>NaN</td>\n",
              "      <td>~10대</td>\n",
              "      <td>1</td>\n",
              "      <td>0.00</td>\n",
              "      <td>0.00</td>\n",
              "      <td>0.00</td>\n",
              "      <td>21</td>\n",
              "    </tr>\n",
              "    <tr>\n",
              "      <th>...</th>\n",
              "      <td>...</td>\n",
              "      <td>...</td>\n",
              "      <td>...</td>\n",
              "      <td>...</td>\n",
              "      <td>...</td>\n",
              "      <td>...</td>\n",
              "      <td>...</td>\n",
              "      <td>...</td>\n",
              "      <td>...</td>\n",
              "      <td>...</td>\n",
              "      <td>...</td>\n",
              "      <td>...</td>\n",
              "    </tr>\n",
              "    <tr>\n",
              "      <th>509051</th>\n",
              "      <td>2021-01-25</td>\n",
              "      <td>8</td>\n",
              "      <td>678</td>\n",
              "      <td>678.장안힐스테이트(아) 앞</td>\n",
              "      <td>정기권</td>\n",
              "      <td>NaN</td>\n",
              "      <td>40대</td>\n",
              "      <td>2</td>\n",
              "      <td>175.99</td>\n",
              "      <td>1.36</td>\n",
              "      <td>5834.76</td>\n",
              "      <td>35</td>\n",
              "    </tr>\n",
              "    <tr>\n",
              "      <th>509052</th>\n",
              "      <td>2021-01-25</td>\n",
              "      <td>8</td>\n",
              "      <td>171</td>\n",
              "      <td>171. 임광빌딩 앞</td>\n",
              "      <td>정기권</td>\n",
              "      <td>NaN</td>\n",
              "      <td>40대</td>\n",
              "      <td>1</td>\n",
              "      <td>18.68</td>\n",
              "      <td>0.14</td>\n",
              "      <td>589.53</td>\n",
              "      <td>3</td>\n",
              "    </tr>\n",
              "    <tr>\n",
              "      <th>509053</th>\n",
              "      <td>2021-01-25</td>\n",
              "      <td>8</td>\n",
              "      <td>1462</td>\n",
              "      <td>1462.동부시장 북문 앞</td>\n",
              "      <td>정기권</td>\n",
              "      <td>NaN</td>\n",
              "      <td>40대</td>\n",
              "      <td>1</td>\n",
              "      <td>151.76</td>\n",
              "      <td>1.37</td>\n",
              "      <td>5895.70</td>\n",
              "      <td>23</td>\n",
              "    </tr>\n",
              "    <tr>\n",
              "      <th>509054</th>\n",
              "      <td>2021-01-25</td>\n",
              "      <td>8</td>\n",
              "      <td>1470</td>\n",
              "      <td>1470.중화동 우리은행 앞</td>\n",
              "      <td>정기권</td>\n",
              "      <td>NaN</td>\n",
              "      <td>40대</td>\n",
              "      <td>1</td>\n",
              "      <td>118.50</td>\n",
              "      <td>0.95</td>\n",
              "      <td>4099.18</td>\n",
              "      <td>27</td>\n",
              "    </tr>\n",
              "    <tr>\n",
              "      <th>509055</th>\n",
              "      <td>2021-01-25</td>\n",
              "      <td>8</td>\n",
              "      <td>3586</td>\n",
              "      <td>3586.군자역 비채온 오피스텔</td>\n",
              "      <td>정기권</td>\n",
              "      <td>NaN</td>\n",
              "      <td>40대</td>\n",
              "      <td>1</td>\n",
              "      <td>80.10</td>\n",
              "      <td>0.45</td>\n",
              "      <td>1926.35</td>\n",
              "      <td>10</td>\n",
              "    </tr>\n",
              "  </tbody>\n",
              "</table>\n",
              "<p>2562916 rows × 12 columns</p>\n",
              "</div>"
            ],
            "text/plain": [
              "              대여일자  대여시간  대여소번호  ...   탄소량     이동거리 사용시간\n",
              "0       2020-09-01     0   1152  ...  0.00     0.00    8\n",
              "1       2020-09-01     0   1532  ...  0.00     0.00    3\n",
              "2       2020-09-01     0   1536  ...  0.47  2030.00   10\n",
              "3       2020-09-01     0   1650  ...  0.00     0.00   55\n",
              "4       2020-09-01     0   2377  ...  0.00     0.00   21\n",
              "...            ...   ...    ...  ...   ...      ...  ...\n",
              "509051  2021-01-25     8    678  ...  1.36  5834.76   35\n",
              "509052  2021-01-25     8    171  ...  0.14   589.53    3\n",
              "509053  2021-01-25     8   1462  ...  1.37  5895.70   23\n",
              "509054  2021-01-25     8   1470  ...  0.95  4099.18   27\n",
              "509055  2021-01-25     8   3586  ...  0.45  1926.35   10\n",
              "\n",
              "[2562916 rows x 12 columns]"
            ]
          },
          "metadata": {
            "tags": []
          },
          "execution_count": 8
        }
      ]
    },
    {
      "cell_type": "code",
      "metadata": {
        "colab": {
          "base_uri": "https://localhost:8080/",
          "height": 202
        },
        "id": "oQ5tpTsH1zFs",
        "outputId": "f75afe9d-440e-4926-c9e2-2ad16a40e3ef"
      },
      "source": [
        "#필요없는 columns 삭제\n",
        "del bpt['운동량']\n",
        "del bpt['연령대코드']\n",
        "del bpt['성별']\n",
        "del bpt['대여구분코드']\n",
        "del bpt['탄소량']\n",
        "\n",
        "bpt.head()"
      ],
      "execution_count": null,
      "outputs": [
        {
          "output_type": "execute_result",
          "data": {
            "text/html": [
              "<div>\n",
              "<style scoped>\n",
              "    .dataframe tbody tr th:only-of-type {\n",
              "        vertical-align: middle;\n",
              "    }\n",
              "\n",
              "    .dataframe tbody tr th {\n",
              "        vertical-align: top;\n",
              "    }\n",
              "\n",
              "    .dataframe thead th {\n",
              "        text-align: right;\n",
              "    }\n",
              "</style>\n",
              "<table border=\"1\" class=\"dataframe\">\n",
              "  <thead>\n",
              "    <tr style=\"text-align: right;\">\n",
              "      <th></th>\n",
              "      <th>대여일자</th>\n",
              "      <th>대여시간</th>\n",
              "      <th>대여소번호</th>\n",
              "      <th>대여소명</th>\n",
              "      <th>이용건수</th>\n",
              "      <th>이동거리</th>\n",
              "      <th>사용시간</th>\n",
              "    </tr>\n",
              "  </thead>\n",
              "  <tbody>\n",
              "    <tr>\n",
              "      <th>0</th>\n",
              "      <td>2020-09-01</td>\n",
              "      <td>0</td>\n",
              "      <td>1152</td>\n",
              "      <td>1152. 마곡역교차로</td>\n",
              "      <td>1</td>\n",
              "      <td>0.0</td>\n",
              "      <td>8</td>\n",
              "    </tr>\n",
              "    <tr>\n",
              "      <th>1</th>\n",
              "      <td>2020-09-01</td>\n",
              "      <td>0</td>\n",
              "      <td>1532</td>\n",
              "      <td>1532. 번3동 주민센터 교차로</td>\n",
              "      <td>1</td>\n",
              "      <td>0.0</td>\n",
              "      <td>3</td>\n",
              "    </tr>\n",
              "    <tr>\n",
              "      <th>2</th>\n",
              "      <td>2020-09-01</td>\n",
              "      <td>0</td>\n",
              "      <td>1536</td>\n",
              "      <td>1536. 번동 두산위브 101동 옆</td>\n",
              "      <td>1</td>\n",
              "      <td>2030.0</td>\n",
              "      <td>10</td>\n",
              "    </tr>\n",
              "    <tr>\n",
              "      <th>3</th>\n",
              "      <td>2020-09-01</td>\n",
              "      <td>0</td>\n",
              "      <td>1650</td>\n",
              "      <td>1650. 중계근린공원내</td>\n",
              "      <td>1</td>\n",
              "      <td>0.0</td>\n",
              "      <td>55</td>\n",
              "    </tr>\n",
              "    <tr>\n",
              "      <th>4</th>\n",
              "      <td>2020-09-01</td>\n",
              "      <td>0</td>\n",
              "      <td>2377</td>\n",
              "      <td>2377. 수서역 5번출구 뒤</td>\n",
              "      <td>1</td>\n",
              "      <td>0.0</td>\n",
              "      <td>21</td>\n",
              "    </tr>\n",
              "  </tbody>\n",
              "</table>\n",
              "</div>"
            ],
            "text/plain": [
              "         대여일자  대여시간  대여소번호                  대여소명  이용건수    이동거리  사용시간\n",
              "0  2020-09-01     0   1152          1152. 마곡역교차로     1     0.0     8\n",
              "1  2020-09-01     0   1532    1532. 번3동 주민센터 교차로     1     0.0     3\n",
              "2  2020-09-01     0   1536  1536. 번동 두산위브 101동 옆     1  2030.0    10\n",
              "3  2020-09-01     0   1650         1650. 중계근린공원내     1     0.0    55\n",
              "4  2020-09-01     0   2377      2377. 수서역 5번출구 뒤     1     0.0    21"
            ]
          },
          "metadata": {
            "tags": []
          },
          "execution_count": 9
        }
      ]
    },
    {
      "cell_type": "code",
      "metadata": {
        "colab": {
          "base_uri": "https://localhost:8080/",
          "height": 414
        },
        "id": "ABOGhTIm2ZjC",
        "outputId": "6cb70089-1e60-48e4-e4c7-329ad464bf71"
      },
      "source": [
        "bike_eda = bpt[['대여시간', '대여소번호', '이용건수']]\n",
        "bike_eda"
      ],
      "execution_count": null,
      "outputs": [
        {
          "output_type": "execute_result",
          "data": {
            "text/html": [
              "<div>\n",
              "<style scoped>\n",
              "    .dataframe tbody tr th:only-of-type {\n",
              "        vertical-align: middle;\n",
              "    }\n",
              "\n",
              "    .dataframe tbody tr th {\n",
              "        vertical-align: top;\n",
              "    }\n",
              "\n",
              "    .dataframe thead th {\n",
              "        text-align: right;\n",
              "    }\n",
              "</style>\n",
              "<table border=\"1\" class=\"dataframe\">\n",
              "  <thead>\n",
              "    <tr style=\"text-align: right;\">\n",
              "      <th></th>\n",
              "      <th>대여시간</th>\n",
              "      <th>대여소번호</th>\n",
              "      <th>이용건수</th>\n",
              "    </tr>\n",
              "  </thead>\n",
              "  <tbody>\n",
              "    <tr>\n",
              "      <th>0</th>\n",
              "      <td>0</td>\n",
              "      <td>1152</td>\n",
              "      <td>1</td>\n",
              "    </tr>\n",
              "    <tr>\n",
              "      <th>1</th>\n",
              "      <td>0</td>\n",
              "      <td>1532</td>\n",
              "      <td>1</td>\n",
              "    </tr>\n",
              "    <tr>\n",
              "      <th>2</th>\n",
              "      <td>0</td>\n",
              "      <td>1536</td>\n",
              "      <td>1</td>\n",
              "    </tr>\n",
              "    <tr>\n",
              "      <th>3</th>\n",
              "      <td>0</td>\n",
              "      <td>1650</td>\n",
              "      <td>1</td>\n",
              "    </tr>\n",
              "    <tr>\n",
              "      <th>4</th>\n",
              "      <td>0</td>\n",
              "      <td>2377</td>\n",
              "      <td>1</td>\n",
              "    </tr>\n",
              "    <tr>\n",
              "      <th>...</th>\n",
              "      <td>...</td>\n",
              "      <td>...</td>\n",
              "      <td>...</td>\n",
              "    </tr>\n",
              "    <tr>\n",
              "      <th>509051</th>\n",
              "      <td>8</td>\n",
              "      <td>678</td>\n",
              "      <td>2</td>\n",
              "    </tr>\n",
              "    <tr>\n",
              "      <th>509052</th>\n",
              "      <td>8</td>\n",
              "      <td>171</td>\n",
              "      <td>1</td>\n",
              "    </tr>\n",
              "    <tr>\n",
              "      <th>509053</th>\n",
              "      <td>8</td>\n",
              "      <td>1462</td>\n",
              "      <td>1</td>\n",
              "    </tr>\n",
              "    <tr>\n",
              "      <th>509054</th>\n",
              "      <td>8</td>\n",
              "      <td>1470</td>\n",
              "      <td>1</td>\n",
              "    </tr>\n",
              "    <tr>\n",
              "      <th>509055</th>\n",
              "      <td>8</td>\n",
              "      <td>3586</td>\n",
              "      <td>1</td>\n",
              "    </tr>\n",
              "  </tbody>\n",
              "</table>\n",
              "<p>2562916 rows × 3 columns</p>\n",
              "</div>"
            ],
            "text/plain": [
              "        대여시간  대여소번호  이용건수\n",
              "0          0   1152     1\n",
              "1          0   1532     1\n",
              "2          0   1536     1\n",
              "3          0   1650     1\n",
              "4          0   2377     1\n",
              "...      ...    ...   ...\n",
              "509051     8    678     2\n",
              "509052     8    171     1\n",
              "509053     8   1462     1\n",
              "509054     8   1470     1\n",
              "509055     8   3586     1\n",
              "\n",
              "[2562916 rows x 3 columns]"
            ]
          },
          "metadata": {
            "tags": []
          },
          "execution_count": 10
        }
      ]
    },
    {
      "cell_type": "code",
      "metadata": {
        "colab": {
          "base_uri": "https://localhost:8080/",
          "height": 754
        },
        "id": "U84rLkdv3fQB",
        "outputId": "b092964c-a4dc-4727-8a36-201a5908f2c0"
      },
      "source": [
        "#월별로 나눌 필요가 없기때문에 (대여소변호,대여시간)을 key로 이용건수를 합친다.\n",
        "grouped_eda = bike_eda[['이용건수']].groupby([bike_eda['대여소번호'],bike_eda['대여시간']])\n",
        "\n",
        "Bike_Time_cumsum = grouped_eda.sum()  \n",
        "Bike_Time_rent = bike_eda.drop_duplicates([\"대여소번호\",'대여시간'])[['대여소번호','대여시간']]      \n",
        "Bike_Time_rent = Bike_Time_rent.sort_values(by=[\"대여소번호\",'대여시간'])  \n",
        "Bike_Time_cumsum = Bike_Time_cumsum.reset_index(drop='True')                          \n",
        "Bike_Time_rent = Bike_Time_rent.reset_index(drop='True')\n",
        "\n",
        "bike_eda = pd.concat([Bike_Time_rent, Bike_Time_cumsum], axis=1) \n",
        "bike_eda.head(23)"
      ],
      "execution_count": null,
      "outputs": [
        {
          "output_type": "execute_result",
          "data": {
            "text/html": [
              "<div>\n",
              "<style scoped>\n",
              "    .dataframe tbody tr th:only-of-type {\n",
              "        vertical-align: middle;\n",
              "    }\n",
              "\n",
              "    .dataframe tbody tr th {\n",
              "        vertical-align: top;\n",
              "    }\n",
              "\n",
              "    .dataframe thead th {\n",
              "        text-align: right;\n",
              "    }\n",
              "</style>\n",
              "<table border=\"1\" class=\"dataframe\">\n",
              "  <thead>\n",
              "    <tr style=\"text-align: right;\">\n",
              "      <th></th>\n",
              "      <th>대여소번호</th>\n",
              "      <th>대여시간</th>\n",
              "      <th>이용건수</th>\n",
              "    </tr>\n",
              "  </thead>\n",
              "  <tbody>\n",
              "    <tr>\n",
              "      <th>0</th>\n",
              "      <td>3</td>\n",
              "      <td>5</td>\n",
              "      <td>1</td>\n",
              "    </tr>\n",
              "    <tr>\n",
              "      <th>1</th>\n",
              "      <td>3</td>\n",
              "      <td>9</td>\n",
              "      <td>9</td>\n",
              "    </tr>\n",
              "    <tr>\n",
              "      <th>2</th>\n",
              "      <td>3</td>\n",
              "      <td>10</td>\n",
              "      <td>1</td>\n",
              "    </tr>\n",
              "    <tr>\n",
              "      <th>3</th>\n",
              "      <td>3</td>\n",
              "      <td>11</td>\n",
              "      <td>5</td>\n",
              "    </tr>\n",
              "    <tr>\n",
              "      <th>4</th>\n",
              "      <td>3</td>\n",
              "      <td>12</td>\n",
              "      <td>4</td>\n",
              "    </tr>\n",
              "    <tr>\n",
              "      <th>5</th>\n",
              "      <td>3</td>\n",
              "      <td>14</td>\n",
              "      <td>1</td>\n",
              "    </tr>\n",
              "    <tr>\n",
              "      <th>6</th>\n",
              "      <td>3</td>\n",
              "      <td>15</td>\n",
              "      <td>7</td>\n",
              "    </tr>\n",
              "    <tr>\n",
              "      <th>7</th>\n",
              "      <td>3</td>\n",
              "      <td>16</td>\n",
              "      <td>2</td>\n",
              "    </tr>\n",
              "    <tr>\n",
              "      <th>8</th>\n",
              "      <td>3</td>\n",
              "      <td>17</td>\n",
              "      <td>3</td>\n",
              "    </tr>\n",
              "    <tr>\n",
              "      <th>9</th>\n",
              "      <td>3</td>\n",
              "      <td>18</td>\n",
              "      <td>3</td>\n",
              "    </tr>\n",
              "    <tr>\n",
              "      <th>10</th>\n",
              "      <td>3</td>\n",
              "      <td>20</td>\n",
              "      <td>1</td>\n",
              "    </tr>\n",
              "    <tr>\n",
              "      <th>11</th>\n",
              "      <td>3</td>\n",
              "      <td>21</td>\n",
              "      <td>4</td>\n",
              "    </tr>\n",
              "    <tr>\n",
              "      <th>12</th>\n",
              "      <td>5</td>\n",
              "      <td>9</td>\n",
              "      <td>1</td>\n",
              "    </tr>\n",
              "    <tr>\n",
              "      <th>13</th>\n",
              "      <td>5</td>\n",
              "      <td>10</td>\n",
              "      <td>3</td>\n",
              "    </tr>\n",
              "    <tr>\n",
              "      <th>14</th>\n",
              "      <td>5</td>\n",
              "      <td>11</td>\n",
              "      <td>1</td>\n",
              "    </tr>\n",
              "    <tr>\n",
              "      <th>15</th>\n",
              "      <td>5</td>\n",
              "      <td>13</td>\n",
              "      <td>2</td>\n",
              "    </tr>\n",
              "    <tr>\n",
              "      <th>16</th>\n",
              "      <td>5</td>\n",
              "      <td>14</td>\n",
              "      <td>1</td>\n",
              "    </tr>\n",
              "    <tr>\n",
              "      <th>17</th>\n",
              "      <td>5</td>\n",
              "      <td>15</td>\n",
              "      <td>3</td>\n",
              "    </tr>\n",
              "    <tr>\n",
              "      <th>18</th>\n",
              "      <td>5</td>\n",
              "      <td>16</td>\n",
              "      <td>9</td>\n",
              "    </tr>\n",
              "    <tr>\n",
              "      <th>19</th>\n",
              "      <td>5</td>\n",
              "      <td>18</td>\n",
              "      <td>1</td>\n",
              "    </tr>\n",
              "    <tr>\n",
              "      <th>20</th>\n",
              "      <td>10</td>\n",
              "      <td>0</td>\n",
              "      <td>2</td>\n",
              "    </tr>\n",
              "    <tr>\n",
              "      <th>21</th>\n",
              "      <td>10</td>\n",
              "      <td>1</td>\n",
              "      <td>2</td>\n",
              "    </tr>\n",
              "    <tr>\n",
              "      <th>22</th>\n",
              "      <td>10</td>\n",
              "      <td>9</td>\n",
              "      <td>3</td>\n",
              "    </tr>\n",
              "  </tbody>\n",
              "</table>\n",
              "</div>"
            ],
            "text/plain": [
              "    대여소번호  대여시간  이용건수\n",
              "0       3     5     1\n",
              "1       3     9     9\n",
              "2       3    10     1\n",
              "3       3    11     5\n",
              "4       3    12     4\n",
              "5       3    14     1\n",
              "6       3    15     7\n",
              "7       3    16     2\n",
              "8       3    17     3\n",
              "9       3    18     3\n",
              "10      3    20     1\n",
              "11      3    21     4\n",
              "12      5     9     1\n",
              "13      5    10     3\n",
              "14      5    11     1\n",
              "15      5    13     2\n",
              "16      5    14     1\n",
              "17      5    15     3\n",
              "18      5    16     9\n",
              "19      5    18     1\n",
              "20     10     0     2\n",
              "21     10     1     2\n",
              "22     10     9     3"
            ]
          },
          "metadata": {
            "tags": []
          },
          "execution_count": 11
        }
      ]
    },
    {
      "cell_type": "code",
      "metadata": {
        "colab": {
          "base_uri": "https://localhost:8080/",
          "height": 202
        },
        "id": "AnSCZ01_4McH",
        "outputId": "eca557f3-4e62-4553-8653-3079fc905320"
      },
      "source": [
        "bike_eda.tail()"
      ],
      "execution_count": null,
      "outputs": [
        {
          "output_type": "execute_result",
          "data": {
            "text/html": [
              "<div>\n",
              "<style scoped>\n",
              "    .dataframe tbody tr th:only-of-type {\n",
              "        vertical-align: middle;\n",
              "    }\n",
              "\n",
              "    .dataframe tbody tr th {\n",
              "        vertical-align: top;\n",
              "    }\n",
              "\n",
              "    .dataframe thead th {\n",
              "        text-align: right;\n",
              "    }\n",
              "</style>\n",
              "<table border=\"1\" class=\"dataframe\">\n",
              "  <thead>\n",
              "    <tr style=\"text-align: right;\">\n",
              "      <th></th>\n",
              "      <th>대여소번호</th>\n",
              "      <th>대여시간</th>\n",
              "      <th>이용건수</th>\n",
              "    </tr>\n",
              "  </thead>\n",
              "  <tbody>\n",
              "    <tr>\n",
              "      <th>50879</th>\n",
              "      <td>99999</td>\n",
              "      <td>9</td>\n",
              "      <td>2</td>\n",
              "    </tr>\n",
              "    <tr>\n",
              "      <th>50880</th>\n",
              "      <td>99999</td>\n",
              "      <td>10</td>\n",
              "      <td>4</td>\n",
              "    </tr>\n",
              "    <tr>\n",
              "      <th>50881</th>\n",
              "      <td>99999</td>\n",
              "      <td>11</td>\n",
              "      <td>1</td>\n",
              "    </tr>\n",
              "    <tr>\n",
              "      <th>50882</th>\n",
              "      <td>99999</td>\n",
              "      <td>13</td>\n",
              "      <td>9</td>\n",
              "    </tr>\n",
              "    <tr>\n",
              "      <th>50883</th>\n",
              "      <td>99999</td>\n",
              "      <td>15</td>\n",
              "      <td>1</td>\n",
              "    </tr>\n",
              "  </tbody>\n",
              "</table>\n",
              "</div>"
            ],
            "text/plain": [
              "       대여소번호  대여시간  이용건수\n",
              "50879  99999     9     2\n",
              "50880  99999    10     4\n",
              "50881  99999    11     1\n",
              "50882  99999    13     9\n",
              "50883  99999    15     1"
            ]
          },
          "metadata": {
            "tags": []
          },
          "execution_count": 12
        }
      ]
    },
    {
      "cell_type": "code",
      "metadata": {
        "colab": {
          "base_uri": "https://localhost:8080/",
          "height": 202
        },
        "id": "hsZWDP6X49c9",
        "outputId": "5616c8ad-4cbb-4fa2-f030-53082c8ae73e"
      },
      "source": [
        "#데이터의 통합을 위해 자료형을 바꿔준다.\n",
        "bike_eda['이용건수'] = bike_eda['이용건수'].apply(lambda x : int(x))\n",
        "bike_eda.head()"
      ],
      "execution_count": null,
      "outputs": [
        {
          "output_type": "execute_result",
          "data": {
            "text/html": [
              "<div>\n",
              "<style scoped>\n",
              "    .dataframe tbody tr th:only-of-type {\n",
              "        vertical-align: middle;\n",
              "    }\n",
              "\n",
              "    .dataframe tbody tr th {\n",
              "        vertical-align: top;\n",
              "    }\n",
              "\n",
              "    .dataframe thead th {\n",
              "        text-align: right;\n",
              "    }\n",
              "</style>\n",
              "<table border=\"1\" class=\"dataframe\">\n",
              "  <thead>\n",
              "    <tr style=\"text-align: right;\">\n",
              "      <th></th>\n",
              "      <th>대여소번호</th>\n",
              "      <th>대여시간</th>\n",
              "      <th>이용건수</th>\n",
              "    </tr>\n",
              "  </thead>\n",
              "  <tbody>\n",
              "    <tr>\n",
              "      <th>0</th>\n",
              "      <td>3</td>\n",
              "      <td>5</td>\n",
              "      <td>1</td>\n",
              "    </tr>\n",
              "    <tr>\n",
              "      <th>1</th>\n",
              "      <td>3</td>\n",
              "      <td>9</td>\n",
              "      <td>9</td>\n",
              "    </tr>\n",
              "    <tr>\n",
              "      <th>2</th>\n",
              "      <td>3</td>\n",
              "      <td>10</td>\n",
              "      <td>1</td>\n",
              "    </tr>\n",
              "    <tr>\n",
              "      <th>3</th>\n",
              "      <td>3</td>\n",
              "      <td>11</td>\n",
              "      <td>5</td>\n",
              "    </tr>\n",
              "    <tr>\n",
              "      <th>4</th>\n",
              "      <td>3</td>\n",
              "      <td>12</td>\n",
              "      <td>4</td>\n",
              "    </tr>\n",
              "  </tbody>\n",
              "</table>\n",
              "</div>"
            ],
            "text/plain": [
              "   대여소번호  대여시간  이용건수\n",
              "0      3     5     1\n",
              "1      3     9     9\n",
              "2      3    10     1\n",
              "3      3    11     5\n",
              "4      3    12     4"
            ]
          },
          "metadata": {
            "tags": []
          },
          "execution_count": 13
        }
      ]
    },
    {
      "cell_type": "code",
      "metadata": {
        "colab": {
          "base_uri": "https://localhost:8080/",
          "height": 373
        },
        "id": "XmF9VFQG5QN_",
        "outputId": "47ec11a6-7b63-42cf-f658-af8098a713ab"
      },
      "source": [
        "#시간대별 이용건수 시각화\n",
        "plt.figure(figsize=(12,5))\n",
        "plt.plot(bike_eda.groupby('대여시간').count()['이용건수'], 'g^-')\n",
        "#plt.grid()\n",
        "plt.title('시간대별 이용건수')\n",
        "plt.xlabel('대여시간', fontsize = 15)\n",
        "plt.ylabel('이용건수', fontsize = 15)\n",
        "\n",
        "plt.axvline(8, color = 'r')\n",
        "plt.axvline(18, color = 'r')\n",
        "\n",
        "plt.text(8, 2150, '8', fontsize = 15)\n",
        "plt.text(18, 2200, '18', fontsize = 15)\n",
        "#plt.savefig('chart_useperhour')"
      ],
      "execution_count": null,
      "outputs": [
        {
          "output_type": "execute_result",
          "data": {
            "text/plain": [
              "Text(18, 2200, '18')"
            ]
          },
          "metadata": {
            "tags": []
          },
          "execution_count": 14
        },
        {
          "output_type": "display_data",
          "data": {
            "image/png": "[encoded data removed]",
            "text/plain": [
              "<Figure size 864x360 with 1 Axes>"
            ]
          },
          "metadata": {
            "tags": [],
            "needs_background": "light"
          }
        }
      ]
    },
    {
      "cell_type": "code",
      "metadata": {
        "id": "78rvKckG5xS0",
        "colab": {
          "base_uri": "https://localhost:8080/",
          "height": 502
        },
        "outputId": "9c329d94-064e-4930-808b-bd9b49b769ac"
      },
      "source": [
        "#대여소별 이용건수\n",
        "import numpy as np\n",
        "x = np.array(bike_eda['대여소번호'])          #입력 데이터\n",
        "y = np.array(bike_eda['이용건수'])    #출력 데이터\n",
        "print(x.shape, y.shape) \n",
        "\n",
        "plt.figure(figsize=(12,8))\n",
        "plt.scatter(x,y)\n",
        "plt.show()"
      ],
      "execution_count": null,
      "outputs": [
        {
          "output_type": "stream",
          "text": [
            "(50884,) (50884,)\n"
          ],
          "name": "stdout"
        },
        {
          "output_type": "display_data",
          "data": {
            "image/png": "[encoded data removed]",
            "text/plain": [
              "<Figure size 864x576 with 1 Axes>"
            ]
          },
          "metadata": {
            "tags": [],
            "needs_background": "light"
          }
        }
      ]
    },
    {
      "cell_type": "code",
      "metadata": {
        "id": "nsuC50YX9VA6",
        "colab": {
          "base_uri": "https://localhost:8080/",
          "height": 414
        },
        "outputId": "6678c5de-551a-4a29-80fd-134997aa4773"
      },
      "source": [
        "scater_data = bike_eda.copy()\n",
        "\n",
        "f_data = scater_data['대여소번호'] <=5000\n",
        "\n",
        "total_data = bike_eda[f_data]\n",
        "total_data"
      ],
      "execution_count": null,
      "outputs": [
        {
          "output_type": "execute_result",
          "data": {
            "text/html": [
              "<div>\n",
              "<style scoped>\n",
              "    .dataframe tbody tr th:only-of-type {\n",
              "        vertical-align: middle;\n",
              "    }\n",
              "\n",
              "    .dataframe tbody tr th {\n",
              "        vertical-align: top;\n",
              "    }\n",
              "\n",
              "    .dataframe thead th {\n",
              "        text-align: right;\n",
              "    }\n",
              "</style>\n",
              "<table border=\"1\" class=\"dataframe\">\n",
              "  <thead>\n",
              "    <tr style=\"text-align: right;\">\n",
              "      <th></th>\n",
              "      <th>대여소번호</th>\n",
              "      <th>대여시간</th>\n",
              "      <th>이용건수</th>\n",
              "    </tr>\n",
              "  </thead>\n",
              "  <tbody>\n",
              "    <tr>\n",
              "      <th>0</th>\n",
              "      <td>3</td>\n",
              "      <td>5</td>\n",
              "      <td>1</td>\n",
              "    </tr>\n",
              "    <tr>\n",
              "      <th>1</th>\n",
              "      <td>3</td>\n",
              "      <td>9</td>\n",
              "      <td>9</td>\n",
              "    </tr>\n",
              "    <tr>\n",
              "      <th>2</th>\n",
              "      <td>3</td>\n",
              "      <td>10</td>\n",
              "      <td>1</td>\n",
              "    </tr>\n",
              "    <tr>\n",
              "      <th>3</th>\n",
              "      <td>3</td>\n",
              "      <td>11</td>\n",
              "      <td>5</td>\n",
              "    </tr>\n",
              "    <tr>\n",
              "      <th>4</th>\n",
              "      <td>3</td>\n",
              "      <td>12</td>\n",
              "      <td>4</td>\n",
              "    </tr>\n",
              "    <tr>\n",
              "      <th>...</th>\n",
              "      <td>...</td>\n",
              "      <td>...</td>\n",
              "      <td>...</td>\n",
              "    </tr>\n",
              "    <tr>\n",
              "      <th>50841</th>\n",
              "      <td>4791</td>\n",
              "      <td>19</td>\n",
              "      <td>7</td>\n",
              "    </tr>\n",
              "    <tr>\n",
              "      <th>50842</th>\n",
              "      <td>4791</td>\n",
              "      <td>20</td>\n",
              "      <td>19</td>\n",
              "    </tr>\n",
              "    <tr>\n",
              "      <th>50843</th>\n",
              "      <td>4791</td>\n",
              "      <td>21</td>\n",
              "      <td>9</td>\n",
              "    </tr>\n",
              "    <tr>\n",
              "      <th>50844</th>\n",
              "      <td>4791</td>\n",
              "      <td>22</td>\n",
              "      <td>3</td>\n",
              "    </tr>\n",
              "    <tr>\n",
              "      <th>50845</th>\n",
              "      <td>4791</td>\n",
              "      <td>23</td>\n",
              "      <td>4</td>\n",
              "    </tr>\n",
              "  </tbody>\n",
              "</table>\n",
              "<p>50846 rows × 3 columns</p>\n",
              "</div>"
            ],
            "text/plain": [
              "       대여소번호  대여시간  이용건수\n",
              "0          3     5     1\n",
              "1          3     9     9\n",
              "2          3    10     1\n",
              "3          3    11     5\n",
              "4          3    12     4\n",
              "...      ...   ...   ...\n",
              "50841   4791    19     7\n",
              "50842   4791    20    19\n",
              "50843   4791    21     9\n",
              "50844   4791    22     3\n",
              "50845   4791    23     4\n",
              "\n",
              "[50846 rows x 3 columns]"
            ]
          },
          "metadata": {
            "tags": []
          },
          "execution_count": 23
        }
      ]
    },
    {
      "cell_type": "code",
      "metadata": {
        "colab": {
          "base_uri": "https://localhost:8080/",
          "height": 502
        },
        "id": "vCo7DXB5zl57",
        "outputId": "a3363c48-b66c-47f7-9005-58d9211dd8dc"
      },
      "source": [
        "x = np.array(total_data['대여소번호'])          #입력 데이터\n",
        "y = np.array(total_data['이용건수'])    #출력 데이터\n",
        "print(x.shape, y.shape) \n",
        "\n",
        "plt.figure(figsize=(12,8))\n",
        "plt.scatter(x,y)\n",
        "plt.show()"
      ],
      "execution_count": null,
      "outputs": [
        {
          "output_type": "stream",
          "text": [
            "(50846,) (50846,)\n"
          ],
          "name": "stdout"
        },
        {
          "output_type": "display_data",
          "data": {
            "image/png": "[encoded data removed]",
            "text/plain": [
              "<Figure size 864x576 with 1 Axes>"
            ]
          },
          "metadata": {
            "tags": [],
            "needs_background": "light"
          }
        }
      ]
    },
    {
      "cell_type": "code",
      "metadata": {
        "id": "Oex7WzWvz-AH"
      },
      "source": [
        ""
      ],
      "execution_count": null,
      "outputs": []
    }
  ]
}