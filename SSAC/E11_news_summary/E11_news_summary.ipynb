{
 "cells": [
  {
   "cell_type": "markdown",
   "metadata": {},
   "source": [
    "## 11-13. 프로젝트: 뉴스기사 요약해보기\n",
    "### 학습목표\n",
    "---\n",
    "\n",
    "* Extractive/Abstractive summarization 이해하기\n",
    "* 단어장 크기를 줄이는 다양한 text normalization 적용해보기\n",
    "* seq2seq의 성능을 Up시키는 Attention Mechanism 적용하기"
   ]
  },
  {
   "cell_type": "markdown",
   "metadata": {},
   "source": [
    "|평가문항|상세기준|\n",
    "|:---|:---|\n",
    "|1. Abstractive 모델 구성을 위한 텍스트 전처리 단계가 체계적으로 진행되었다.|분석단계, 정제단계, 정규화와 불용어 제거, 데이터셋 분리, 인코딩 과정이 빠짐없이 체계적으로 진행되었다.|\n",
    "|2. 텍스트 요약모델이 성공적으로 학습되었음을 확인하였다.|모델학습이 안정적으로 수렴되었음을 그래프를 통해 확인하였으며, 실제 요약문과 유사한 요약문장을 얻을 수 있었다.|\n",
    "|3. Extractive 요약을 시도해 보고 Abstractive 요약 결과과 함께 비교해 보았다.|두 요약 결과를 문법완성도 측면과 핵심단어 포함 측면으로 나누어 비교분석 결과를 제시하였다.|"
   ]
  },
  {
   "cell_type": "markdown",
   "metadata": {},
   "source": [
    "## Step 1. 데이터 수집하기\n",
    "데이터는 아래 링크에 있는 뉴스 기사 데이터(newssummarymore.csv)를 사용하세요.\n",
    "[sunnysai12345/News_Summary](https://github.com/sunnysai12345/News_Summary){target=\"_blank\"}\n",
    "\n",
    "아래의 코드로 데이터를 다운로드 할 수 있어요."
   ]
  },
  {
   "cell_type": "code",
   "execution_count": 8,
   "metadata": {},
   "outputs": [
    {
     "name": "stdout",
     "output_type": "stream",
     "text": [
      "[nltk_data] Downloading package stopwords to /home/ssac15/nltk_data...\n",
      "[nltk_data]   Package stopwords is already up-to-date!\n"
     ]
    }
   ],
   "source": [
    "import nltk\n",
    "nltk.download('stopwords')\n",
    "\n",
    "import numpy as np\n",
    "import pandas as pd\n",
    "import os\n",
    "import re\n",
    "import matplotlib.pyplot as plt\n",
    "from nltk.corpus import stopwords\n",
    "from bs4 import BeautifulSoup \n",
    "from tensorflow.keras.preprocessing.text import Tokenizer \n",
    "from tensorflow.keras.preprocessing.sequence import pad_sequences\n",
    "import urllib.request"
   ]
  },
  {
   "cell_type": "code",
   "execution_count": 9,
   "metadata": {},
   "outputs": [],
   "source": [
    "import urllib.request\n",
    "urllib.request.urlretrieve(\"https://raw.githubusercontent.com/sunnysai12345/News_Summary/master/news_summary_more.csv\", filename=\"news_summary_more.csv\")\n",
    "data = pd.read_csv('news_summary_more.csv', encoding='iso-8859-1')"
   ]
  },
  {
   "cell_type": "code",
   "execution_count": 10,
   "metadata": {},
   "outputs": [
    {
     "data": {
      "text/html": [
       "<div>\n",
       "<style scoped>\n",
       "    .dataframe tbody tr th:only-of-type {\n",
       "        vertical-align: middle;\n",
       "    }\n",
       "\n",
       "    .dataframe tbody tr th {\n",
       "        vertical-align: top;\n",
       "    }\n",
       "\n",
       "    .dataframe thead th {\n",
       "        text-align: right;\n",
       "    }\n",
       "</style>\n",
       "<table border=\"1\" class=\"dataframe\">\n",
       "  <thead>\n",
       "    <tr style=\"text-align: right;\">\n",
       "      <th></th>\n",
       "      <th>headlines</th>\n",
       "      <th>text</th>\n",
       "    </tr>\n",
       "  </thead>\n",
       "  <tbody>\n",
       "    <tr>\n",
       "      <th>12594</th>\n",
       "      <td>85-year-old Paul Biya wins 7th term as Cameroo...</td>\n",
       "      <td>Cameroon's 85-year-old Paul Biya has won the p...</td>\n",
       "    </tr>\n",
       "    <tr>\n",
       "      <th>80619</th>\n",
       "      <td>BMC notice to NGO for report on malnutrition i...</td>\n",
       "      <td>The Brihanmumbai Municipal Corporation (BMC) h...</td>\n",
       "    </tr>\n",
       "    <tr>\n",
       "      <th>5232</th>\n",
       "      <td>Sultanpur should be again called 'Kushbhawanpu...</td>\n",
       "      <td>Devmani Dwivedi, a BJP MLA from Uttar Pradesh,...</td>\n",
       "    </tr>\n",
       "    <tr>\n",
       "      <th>50677</th>\n",
       "      <td>Never bowed to US in past, don't plan to: Paki...</td>\n",
       "      <td>Pakistan Foreign Minister Khawaja Muhammad Asi...</td>\n",
       "    </tr>\n",
       "    <tr>\n",
       "      <th>83894</th>\n",
       "      <td>Fitness blogger killed by exploding whipped cr...</td>\n",
       "      <td>A 33-year-old French fitness blogger passed aw...</td>\n",
       "    </tr>\n",
       "    <tr>\n",
       "      <th>60545</th>\n",
       "      <td>Disaster management body gives dogs heli-slith...</td>\n",
       "      <td>The National Disaster Response Force (NDRF) ha...</td>\n",
       "    </tr>\n",
       "    <tr>\n",
       "      <th>5283</th>\n",
       "      <td>All good things must come to an end: McCullum ...</td>\n",
       "      <td>Former New Zealand cricket team captain Brendo...</td>\n",
       "    </tr>\n",
       "    <tr>\n",
       "      <th>91434</th>\n",
       "      <td>116-yr-old Mexican woman denied bank card for ...</td>\n",
       "      <td>Maria Felix, a 116-year-old woman from Mexico,...</td>\n",
       "    </tr>\n",
       "    <tr>\n",
       "      <th>549</th>\n",
       "      <td>Not true: Saif on playing Sara's father in 'Lo...</td>\n",
       "      <td>Denying the reports that said Saif Ali Khan wi...</td>\n",
       "    </tr>\n",
       "    <tr>\n",
       "      <th>43900</th>\n",
       "      <td>Chennai has fastest fixed broadband speed in I...</td>\n",
       "      <td>Among Indian cities, Chennai has the fastest f...</td>\n",
       "    </tr>\n",
       "  </tbody>\n",
       "</table>\n",
       "</div>"
      ],
      "text/plain": [
       "                                               headlines  \\\n",
       "12594  85-year-old Paul Biya wins 7th term as Cameroo...   \n",
       "80619  BMC notice to NGO for report on malnutrition i...   \n",
       "5232   Sultanpur should be again called 'Kushbhawanpu...   \n",
       "50677  Never bowed to US in past, don't plan to: Paki...   \n",
       "83894  Fitness blogger killed by exploding whipped cr...   \n",
       "60545  Disaster management body gives dogs heli-slith...   \n",
       "5283   All good things must come to an end: McCullum ...   \n",
       "91434  116-yr-old Mexican woman denied bank card for ...   \n",
       "549    Not true: Saif on playing Sara's father in 'Lo...   \n",
       "43900  Chennai has fastest fixed broadband speed in I...   \n",
       "\n",
       "                                                    text  \n",
       "12594  Cameroon's 85-year-old Paul Biya has won the p...  \n",
       "80619  The Brihanmumbai Municipal Corporation (BMC) h...  \n",
       "5232   Devmani Dwivedi, a BJP MLA from Uttar Pradesh,...  \n",
       "50677  Pakistan Foreign Minister Khawaja Muhammad Asi...  \n",
       "83894  A 33-year-old French fitness blogger passed aw...  \n",
       "60545  The National Disaster Response Force (NDRF) ha...  \n",
       "5283   Former New Zealand cricket team captain Brendo...  \n",
       "91434  Maria Felix, a 116-year-old woman from Mexico,...  \n",
       "549    Denying the reports that said Saif Ali Khan wi...  \n",
       "43900  Among Indian cities, Chennai has the fastest f...  "
      ]
     },
     "execution_count": 10,
     "metadata": {},
     "output_type": "execute_result"
    }
   ],
   "source": [
    "data.sample(10)"
   ]
  },
  {
   "cell_type": "markdown",
   "metadata": {},
   "source": [
    "이 데이터는 기사의 본문에 해당되는 text와 headlines 두 가지 열로 구성되어져 있습니다.\n",
    "\n",
    "추상적 요약을 하는 경우에는 text를 본문, headlines를 이미 요약된 데이터로 삼아서 모델을 학습할 수 있어요. 추출적 요약을 하는 경우에는 오직 text열만을 사용하세요."
   ]
  },
  {
   "cell_type": "code",
   "execution_count": 11,
   "metadata": {},
   "outputs": [
    {
     "name": "stdout",
     "output_type": "stream",
     "text": [
      "전체 샘플수 : 98401\n"
     ]
    }
   ],
   "source": [
    "data = data[['text','headlines']]\n",
    "print('전체 샘플수 :',(len(data)))"
   ]
  },
  {
   "cell_type": "markdown",
   "metadata": {},
   "source": [
    "## Step 2. 데이터 전처리하기 (추상적 요약)\n",
    "실습에서 사용된 전처리를 참고하여 각자 필요하다고 생각하는 전처리를 추가 사용하여 텍스트를 정규화 또는 정제해 보세요. 만약, 불용어 제거를 선택한다면 상대적으로 길이가 짧은 요약 데이터에 대해서도 불용어를 제거하는 것이 좋을지 고민해보세요.## Step 3. 어텐션 메커니즘 사용하기 (추상적 요약)"
   ]
  },
  {
   "cell_type": "markdown",
   "metadata": {},
   "source": [
    "#### 중복 샘플과 NULL 값이 존재하는 샘플 제거"
   ]
  },
  {
   "cell_type": "code",
   "execution_count": 12,
   "metadata": {},
   "outputs": [
    {
     "name": "stdout",
     "output_type": "stream",
     "text": [
      "text 열에서 중복을 배제한 유일한 샘플의 수 : 98360\n",
      "headlines 열에서 중복을 배제한 유일한 샘플의 수 : 98280\n"
     ]
    }
   ],
   "source": [
    "print('text 열에서 중복을 배제한 유일한 샘플의 수 :', data['text'].nunique())\n",
    "print('headlines 열에서 중복을 배제한 유일한 샘플의 수 :', data['headlines'].nunique())"
   ]
  },
  {
   "cell_type": "code",
   "execution_count": 13,
   "metadata": {},
   "outputs": [
    {
     "name": "stdout",
     "output_type": "stream",
     "text": [
      "전체 샘플수 : 98360\n"
     ]
    }
   ],
   "source": [
    "#tex에서 중복 41개 / headlines 중복 121개\n",
    "data.drop_duplicates(subset = ['text'], inplace = True)\n",
    "print('전체 샘플수 :',(len(data)))\n"
   ]
  },
  {
   "cell_type": "code",
   "execution_count": 14,
   "metadata": {},
   "outputs": [
    {
     "name": "stdout",
     "output_type": "stream",
     "text": [
      "text         0\n",
      "headlines    0\n",
      "dtype: int64\n"
     ]
    }
   ],
   "source": [
    "#데이터에 Null 값이 남아있는지 확인\n",
    "\n",
    "print(data.isnull().sum())"
   ]
  },
  {
   "cell_type": "markdown",
   "metadata": {},
   "source": [
    "#### 텍스트 정규화와 불용어 제거"
   ]
  },
  {
   "cell_type": "code",
   "execution_count": 15,
   "metadata": {},
   "outputs": [
    {
     "name": "stdout",
     "output_type": "stream",
     "text": [
      "정규화 사전의 수:  120\n"
     ]
    }
   ],
   "source": [
    "#텍스트 정규화와 불용어 제거\n",
    "\n",
    "contractions = {\"ain't\": \"is not\", \"aren't\": \"are not\",\"can't\": \"cannot\", \"'cause\": \"because\", \"could've\": \"could have\", \"couldn't\": \"could not\",\n",
    "                           \"didn't\": \"did not\",  \"doesn't\": \"does not\", \"don't\": \"do not\", \"hadn't\": \"had not\", \"hasn't\": \"has not\", \"haven't\": \"have not\",\n",
    "                           \"he'd\": \"he would\",\"he'll\": \"he will\", \"he's\": \"he is\", \"how'd\": \"how did\", \"how'd'y\": \"how do you\", \"how'll\": \"how will\", \"how's\": \"how is\",\n",
    "                           \"I'd\": \"I would\", \"I'd've\": \"I would have\", \"I'll\": \"I will\", \"I'll've\": \"I will have\",\"I'm\": \"I am\", \"I've\": \"I have\", \"i'd\": \"i would\",\n",
    "                           \"i'd've\": \"i would have\", \"i'll\": \"i will\",  \"i'll've\": \"i will have\",\"i'm\": \"i am\", \"i've\": \"i have\", \"isn't\": \"is not\", \"it'd\": \"it would\",\n",
    "                           \"it'd've\": \"it would have\", \"it'll\": \"it will\", \"it'll've\": \"it will have\",\"it's\": \"it is\", \"let's\": \"let us\", \"ma'am\": \"madam\",\n",
    "                           \"mayn't\": \"may not\", \"might've\": \"might have\",\"mightn't\": \"might not\",\"mightn't've\": \"might not have\", \"must've\": \"must have\",\n",
    "                           \"mustn't\": \"must not\", \"mustn't've\": \"must not have\", \"needn't\": \"need not\", \"needn't've\": \"need not have\",\"o'clock\": \"of the clock\",\n",
    "                           \"oughtn't\": \"ought not\", \"oughtn't've\": \"ought not have\", \"shan't\": \"shall not\", \"sha'n't\": \"shall not\", \"shan't've\": \"shall not have\",\n",
    "                           \"she'd\": \"she would\", \"she'd've\": \"she would have\", \"she'll\": \"she will\", \"she'll've\": \"she will have\", \"she's\": \"she is\",\n",
    "                           \"should've\": \"should have\", \"shouldn't\": \"should not\", \"shouldn't've\": \"should not have\", \"so've\": \"so have\",\"so's\": \"so as\",\n",
    "                           \"this's\": \"this is\",\"that'd\": \"that would\", \"that'd've\": \"that would have\", \"that's\": \"that is\", \"there'd\": \"there would\",\n",
    "                           \"there'd've\": \"there would have\", \"there's\": \"there is\", \"here's\": \"here is\",\"they'd\": \"they would\", \"they'd've\": \"they would have\",\n",
    "                           \"they'll\": \"they will\", \"they'll've\": \"they will have\", \"they're\": \"they are\", \"they've\": \"they have\", \"to've\": \"to have\",\n",
    "                           \"wasn't\": \"was not\", \"we'd\": \"we would\", \"we'd've\": \"we would have\", \"we'll\": \"we will\", \"we'll've\": \"we will have\", \"we're\": \"we are\",\n",
    "                           \"we've\": \"we have\", \"weren't\": \"were not\", \"what'll\": \"what will\", \"what'll've\": \"what will have\", \"what're\": \"what are\",\n",
    "                           \"what's\": \"what is\", \"what've\": \"what have\", \"when's\": \"when is\", \"when've\": \"when have\", \"where'd\": \"where did\", \"where's\": \"where is\",\n",
    "                           \"where've\": \"where have\", \"who'll\": \"who will\", \"who'll've\": \"who will have\", \"who's\": \"who is\", \"who've\": \"who have\",\n",
    "                           \"why's\": \"why is\", \"why've\": \"why have\", \"will've\": \"will have\", \"won't\": \"will not\", \"won't've\": \"will not have\",\n",
    "                           \"would've\": \"would have\", \"wouldn't\": \"would not\", \"wouldn't've\": \"would not have\", \"y'all\": \"you all\",\n",
    "                           \"y'all'd\": \"you all would\",\"y'all'd've\": \"you all would have\",\"y'all're\": \"you all are\",\"y'all've\": \"you all have\",\n",
    "                           \"you'd\": \"you would\", \"you'd've\": \"you would have\", \"you'll\": \"you will\", \"you'll've\": \"you will have\",\n",
    "                           \"you're\": \"you are\", \"you've\": \"you have\"}\n",
    "\n",
    "print(\"정규화 사전의 수: \",len(contractions))"
   ]
  },
  {
   "cell_type": "code",
   "execution_count": 16,
   "metadata": {},
   "outputs": [
    {
     "name": "stdout",
     "output_type": "stream",
     "text": [
      "불용어 개수 : 179\n",
      "['i', 'me', 'my', 'myself', 'we', 'our', 'ours', 'ourselves', 'you', \"you're\", \"you've\", \"you'll\", \"you'd\", 'your', 'yours', 'yourself', 'yourselves', 'he', 'him', 'his', 'himself', 'she', \"she's\", 'her', 'hers', 'herself', 'it', \"it's\", 'its', 'itself', 'they', 'them', 'their', 'theirs', 'themselves', 'what', 'which', 'who', 'whom', 'this', 'that', \"that'll\", 'these', 'those', 'am', 'is', 'are', 'was', 'were', 'be', 'been', 'being', 'have', 'has', 'had', 'having', 'do', 'does', 'did', 'doing', 'a', 'an', 'the', 'and', 'but', 'if', 'or', 'because', 'as', 'until', 'while', 'of', 'at', 'by', 'for', 'with', 'about', 'against', 'between', 'into', 'through', 'during', 'before', 'after', 'above', 'below', 'to', 'from', 'up', 'down', 'in', 'out', 'on', 'off', 'over', 'under', 'again', 'further', 'then', 'once', 'here', 'there', 'when', 'where', 'why', 'how', 'all', 'any', 'both', 'each', 'few', 'more', 'most', 'other', 'some', 'such', 'no', 'nor', 'not', 'only', 'own', 'same', 'so', 'than', 'too', 'very', 's', 't', 'can', 'will', 'just', 'don', \"don't\", 'should', \"should've\", 'now', 'd', 'll', 'm', 'o', 're', 've', 'y', 'ain', 'aren', \"aren't\", 'couldn', \"couldn't\", 'didn', \"didn't\", 'doesn', \"doesn't\", 'hadn', \"hadn't\", 'hasn', \"hasn't\", 'haven', \"haven't\", 'isn', \"isn't\", 'ma', 'mightn', \"mightn't\", 'mustn', \"mustn't\", 'needn', \"needn't\", 'shan', \"shan't\", 'shouldn', \"shouldn't\", 'wasn', \"wasn't\", 'weren', \"weren't\", 'won', \"won't\", 'wouldn', \"wouldn't\"]\n"
     ]
    }
   ],
   "source": [
    "#NLTK에서 제공하는 불용어 리스트를 참조해, 샘플에서 불용어를 제거\n",
    "\n",
    "print('불용어 개수 :', len(stopwords.words('english') ))\n",
    "print(stopwords.words('english'))"
   ]
  },
  {
   "cell_type": "code",
   "execution_count": 17,
   "metadata": {},
   "outputs": [],
   "source": [
    "#데이터 전처리 함수\n",
    "def preprocess_sentence(sentence, remove_stopwords=True):\n",
    "    sentence = sentence.lower() # 텍스트 소문자화\n",
    "    sentence = BeautifulSoup(sentence, \"lxml\").text # <br />, <a href = ...> 등의 html 태그 제거\n",
    "    sentence = re.sub(r'\\([^)]*\\)', '', sentence) # 괄호로 닫힌 문자열 (...) 제거 Ex) my husband (and myself!) for => my husband for\n",
    "    sentence = re.sub('\"','', sentence) # 쌍따옴표 \" 제거\n",
    "    sentence = ' '.join([contractions[t] if t in contractions else t for t in sentence.split(\" \")]) # 약어 정규화\n",
    "    sentence = re.sub(r\"'s\\b\",\"\",sentence) # 소유격 제거. Ex) roland's -> roland\n",
    "    sentence = re.sub(\"[^a-zA-Z]\", \" \", sentence) # 영어 외 문자(숫자, 특수문자 등) 공백으로 변환\n",
    "    sentence = re.sub('[m]{2,}', 'mm', sentence) # m이 3개 이상이면 2개로 변경. Ex) ummmmmmm yeah -> umm yeah\n",
    "    \n",
    "    # 불용어 제거 (Text)\n",
    "    if remove_stopwords:\n",
    "        tokens = ' '.join(word for word in sentence.split() if not word in stopwords.words('english') if len(word) > 1)\n",
    "    # 불용어 미제거 (Summary)\n",
    "    else:\n",
    "        tokens = ' '.join(word for word in sentence.split() if len(word) > 1)\n",
    "    return tokens"
   ]
  },
  {
   "cell_type": "code",
   "execution_count": 18,
   "metadata": {},
   "outputs": [
    {
     "name": "stdout",
     "output_type": "stream",
     "text": [
      "everything bought great infact ordered twice third ordered wasfor mother father\n",
      "great way to start the day\n"
     ]
    }
   ],
   "source": [
    "#전처리 전, 후의 결과를 확인하기 위해서 임의의 text와 headlines 만들어 함수를 호출해서 결과 확인.\n",
    "\n",
    "temp_text = 'Everything I bought was great, infact I ordered twice and the third ordered was<br />for my mother and father.'\n",
    "temp_headlines = 'Great way to start (or finish) the day!!!'\n",
    "\n",
    "print(preprocess_sentence(temp_text))\n",
    "print(preprocess_sentence(temp_headlines, False))  # 불용어를 제거하지 않습니다."
   ]
  },
  {
   "cell_type": "code",
   "execution_count": 19,
   "metadata": {},
   "outputs": [
    {
     "data": {
      "text/plain": [
       "['saurav kant alumnus upgrad iiit pg program machine learning artificial intelligence sr systems engineer infosys almost years work experience program upgrad degree career support helped transition data scientist tech mahindra salary hike upgrad online power learning powered lakh careers',\n",
       " 'kunal shah credit card bill payment platform cred gave users chance win free food swiggy one year pranav kaushik delhi techie bagged reward spending cred coins users get one cred coin per rupee bill paid used avail rewards brands like ixigo bookmyshow ubereats cult fit',\n",
       " 'new zealand defeated india wickets fourth odi hamilton thursday win first match five match odi series india lost international match rohit sharma captaincy consecutive victories dating back march match witnessed india getting seventh lowest total odi cricket history',\n",
       " 'aegon life iterm insurance plan customers enjoy tax benefits premiums paid save taxes plan provides life cover age years also customers options insure critical illnesses disability accidental death benefit rider life cover age years',\n",
       " 'speaking sexual harassment allegations rajkumar hirani sonam kapoor said known hirani many years true metoo movement get derailed metoo movement always believe woman case need reserve judgment added hirani accused assistant worked sanju']"
      ]
     },
     "execution_count": 19,
     "metadata": {},
     "output_type": "execute_result"
    }
   ],
   "source": [
    "clean_text = []\n",
    "\n",
    "# 전체 Text 데이터에 대한 전처리 : 10분 이상 시간이 걸릴 수 있습니다. \n",
    "for s in data['text']:\n",
    "    clean_text.append(preprocess_sentence(s))\n",
    "\n",
    "# 전처리 후 출력\n",
    "clean_text[:5]"
   ]
  },
  {
   "cell_type": "code",
   "execution_count": 20,
   "metadata": {},
   "outputs": [
    {
     "data": {
      "text/plain": [
       "['upgrad learner switches to career in ml al with salary hike',\n",
       " 'delhi techie wins free food from swiggy for one year on cred',\n",
       " 'new zealand end rohit sharma led india match winning streak',\n",
       " 'aegon life iterm insurance plan helps customers save tax',\n",
       " 'have known hirani for yrs what if metoo claims are not true sonam']"
      ]
     },
     "execution_count": 20,
     "metadata": {},
     "output_type": "execute_result"
    }
   ],
   "source": [
    "clean_headlines = []\n",
    "\n",
    "for s in data['headlines']:\n",
    "    clean_headlines.append(preprocess_sentence(s, False))\n",
    "\n",
    "clean_headlines[:5]"
   ]
  },
  {
   "cell_type": "code",
   "execution_count": 21,
   "metadata": {},
   "outputs": [],
   "source": [
    "data['text'] = clean_text\n",
    "data['headlines'] = clean_headlines\n",
    "\n",
    "# 빈 값을 Null 값으로 변환\n",
    "data.replace('', np.nan, inplace=True)"
   ]
  },
  {
   "cell_type": "code",
   "execution_count": 22,
   "metadata": {},
   "outputs": [
    {
     "data": {
      "text/plain": [
       "text         0\n",
       "headlines    0\n",
       "dtype: int64"
      ]
     },
     "execution_count": 22,
     "metadata": {},
     "output_type": "execute_result"
    }
   ],
   "source": [
    "data.isnull().sum()"
   ]
  },
  {
   "cell_type": "code",
   "execution_count": 23,
   "metadata": {},
   "outputs": [
    {
     "name": "stdout",
     "output_type": "stream",
     "text": [
      "텍스트의 최소 길이 : 1\n",
      "텍스트의 최대 길이 : 60\n",
      "텍스트의 평균 길이 : 35.09968483123221\n",
      "요약의 최소 길이 : 1\n",
      "요약의 최대 길이 : 16\n",
      "요약의 평균 길이 : 9.299532330215534\n"
     ]
    },
    {
     "data": {
      "image/png": "[encoded data removed]",
      "text/plain": [
       "<Figure size 432x288 with 2 Axes>"
      ]
     },
     "metadata": {
      "needs_background": "light"
     },
     "output_type": "display_data"
    },
    {
     "data": {
      "image/png": "[encoded data removed]",
      "text/plain": [
       "<Figure size 432x288 with 1 Axes>"
      ]
     },
     "metadata": {
      "needs_background": "light"
     },
     "output_type": "display_data"
    },
    {
     "data": {
      "image/png": "[encoded data removed]",
      "text/plain": [
       "<Figure size 432x288 with 1 Axes>"
      ]
     },
     "metadata": {
      "needs_background": "light"
     },
     "output_type": "display_data"
    }
   ],
   "source": [
    "# 길이 분포 출력\n",
    "import matplotlib.pyplot as plt\n",
    "\n",
    "text_len = [len(s.split()) for s in data['text']]\n",
    "headlines_len = [len(s.split()) for s in data['headlines']]\n",
    "\n",
    "print('텍스트의 최소 길이 : {}'.format(np.min(text_len)))\n",
    "print('텍스트의 최대 길이 : {}'.format(np.max(text_len)))\n",
    "print('텍스트의 평균 길이 : {}'.format(np.mean(text_len)))\n",
    "print('요약의 최소 길이 : {}'.format(np.min(headlines_len)))\n",
    "print('요약의 최대 길이 : {}'.format(np.max(headlines_len)))\n",
    "print('요약의 평균 길이 : {}'.format(np.mean(headlines_len)))\n",
    "\n",
    "plt.subplot(1,2,1)\n",
    "plt.boxplot(headlines_len)\n",
    "plt.title('headlines')\n",
    "plt.subplot(1,2,2)\n",
    "plt.boxplot(text_len)\n",
    "plt.title('text')\n",
    "plt.tight_layout()\n",
    "plt.show()\n",
    "\n",
    "plt.title('headlines')\n",
    "plt.hist(headlines_len, bins = 40)\n",
    "plt.xlabel('length of samples')\n",
    "plt.ylabel('number of samples')\n",
    "plt.show()\n",
    "\n",
    "plt.title('text')\n",
    "plt.hist(text_len, bins = 40)\n",
    "plt.xlabel('length of samples')\n",
    "plt.ylabel('number of samples')\n",
    "plt.show()"
   ]
  },
  {
   "cell_type": "markdown",
   "metadata": {},
   "source": [
    "#### 데이터 정제"
   ]
  },
  {
   "cell_type": "code",
   "execution_count": 24,
   "metadata": {},
   "outputs": [],
   "source": [
    "#이로부터 text의 최대 길이와 headlines의 적절한 최대 길이를 임의로 정해볼게요.\n",
    "text_max_len = 50\n",
    "headlines_max_len = 8"
   ]
  },
  {
   "cell_type": "code",
   "execution_count": 25,
   "metadata": {},
   "outputs": [],
   "source": [
    "def below_threshold_len(max_len, nested_list):\n",
    "  cnt = 0\n",
    "  for s in nested_list:\n",
    "    if(len(s.split()) <= max_len):\n",
    "        cnt = cnt + 1\n",
    "  print('전체 샘플 중 길이가 %s 이하인 샘플의 비율: %s'%(max_len, (cnt / len(nested_list))))"
   ]
  },
  {
   "cell_type": "code",
   "execution_count": 26,
   "metadata": {},
   "outputs": [
    {
     "name": "stdout",
     "output_type": "stream",
     "text": [
      "전체 샘플 중 길이가 50 이하인 샘플의 비율: 0.9998576657177715\n",
      "전체 샘플 중 길이가 8 이하인 샘플의 비율: 0.2755693371289142\n"
     ]
    }
   ],
   "source": [
    "below_threshold_len(text_max_len, data['text'])\n",
    "below_threshold_len(headlines_max_len,  data['headlines'])"
   ]
  },
  {
   "cell_type": "code",
   "execution_count": 27,
   "metadata": {},
   "outputs": [
    {
     "name": "stdout",
     "output_type": "stream",
     "text": [
      "전체 샘플수 : 27105\n"
     ]
    }
   ],
   "source": [
    "#정해진 길이보다 길면 제외하는 방법으로 데이터를 정제\n",
    "\n",
    "data = data[data['text'].apply(lambda x: len(x.split()) <= text_max_len)]\n",
    "data = data[data['headlines'].apply(lambda x: len(x.split()) <= headlines_max_len)]\n",
    "print('전체 샘플수 :',(len(data)))"
   ]
  },
  {
   "cell_type": "markdown",
   "metadata": {},
   "source": [
    "#### 시작 토큰과 종료 토큰 추가하기"
   ]
  },
  {
   "cell_type": "code",
   "execution_count": 28,
   "metadata": {},
   "outputs": [
    {
     "data": {
      "text/html": [
       "<div>\n",
       "<style scoped>\n",
       "    .dataframe tbody tr th:only-of-type {\n",
       "        vertical-align: middle;\n",
       "    }\n",
       "\n",
       "    .dataframe tbody tr th {\n",
       "        vertical-align: top;\n",
       "    }\n",
       "\n",
       "    .dataframe thead th {\n",
       "        text-align: right;\n",
       "    }\n",
       "</style>\n",
       "<table border=\"1\" class=\"dataframe\">\n",
       "  <thead>\n",
       "    <tr style=\"text-align: right;\">\n",
       "      <th></th>\n",
       "      <th>text</th>\n",
       "      <th>headlines</th>\n",
       "      <th>decoder_input</th>\n",
       "      <th>decoder_target</th>\n",
       "    </tr>\n",
       "  </thead>\n",
       "  <tbody>\n",
       "    <tr>\n",
       "      <th>19</th>\n",
       "      <td>union minister dharmendra pradhan wednesday cl...</td>\n",
       "      <td>odisha cm patnaik controls mining mafia union ...</td>\n",
       "      <td>sostoken odisha cm patnaik controls mining maf...</td>\n",
       "      <td>odisha cm patnaik controls mining mafia union ...</td>\n",
       "    </tr>\n",
       "    <tr>\n",
       "      <th>21</th>\n",
       "      <td>indian space research organisation wednesday u...</td>\n",
       "      <td>isro unveils bengaluru centre for manned space...</td>\n",
       "      <td>sostoken isro unveils bengaluru centre for man...</td>\n",
       "      <td>isro unveils bengaluru centre for manned space...</td>\n",
       "    </tr>\n",
       "    <tr>\n",
       "      <th>22</th>\n",
       "      <td>least people killed others injured saudi arabi...</td>\n",
       "      <td>killed injured in saudi arabia floods</td>\n",
       "      <td>sostoken killed injured in saudi arabia floods</td>\n",
       "      <td>killed injured in saudi arabia floods eostoken</td>\n",
       "    </tr>\n",
       "    <tr>\n",
       "      <th>29</th>\n",
       "      <td>investigators searching lost plane carrying ar...</td>\n",
       "      <td>seat cushions from missing plane carrying foot...</td>\n",
       "      <td>sostoken seat cushions from missing plane carr...</td>\n",
       "      <td>seat cushions from missing plane carrying foot...</td>\n",
       "    </tr>\n",
       "    <tr>\n",
       "      <th>36</th>\n",
       "      <td>agustawestland chopper scam co accused rajiv s...</td>\n",
       "      <td>agustawestland scam accused rajiv saxena extra...</td>\n",
       "      <td>sostoken agustawestland scam accused rajiv sax...</td>\n",
       "      <td>agustawestland scam accused rajiv saxena extra...</td>\n",
       "    </tr>\n",
       "  </tbody>\n",
       "</table>\n",
       "</div>"
      ],
      "text/plain": [
       "                                                 text  \\\n",
       "19  union minister dharmendra pradhan wednesday cl...   \n",
       "21  indian space research organisation wednesday u...   \n",
       "22  least people killed others injured saudi arabi...   \n",
       "29  investigators searching lost plane carrying ar...   \n",
       "36  agustawestland chopper scam co accused rajiv s...   \n",
       "\n",
       "                                            headlines  \\\n",
       "19  odisha cm patnaik controls mining mafia union ...   \n",
       "21  isro unveils bengaluru centre for manned space...   \n",
       "22              killed injured in saudi arabia floods   \n",
       "29  seat cushions from missing plane carrying foot...   \n",
       "36  agustawestland scam accused rajiv saxena extra...   \n",
       "\n",
       "                                        decoder_input  \\\n",
       "19  sostoken odisha cm patnaik controls mining maf...   \n",
       "21  sostoken isro unveils bengaluru centre for man...   \n",
       "22     sostoken killed injured in saudi arabia floods   \n",
       "29  sostoken seat cushions from missing plane carr...   \n",
       "36  sostoken agustawestland scam accused rajiv sax...   \n",
       "\n",
       "                                       decoder_target  \n",
       "19  odisha cm patnaik controls mining mafia union ...  \n",
       "21  isro unveils bengaluru centre for manned space...  \n",
       "22     killed injured in saudi arabia floods eostoken  \n",
       "29  seat cushions from missing plane carrying foot...  \n",
       "36  agustawestland scam accused rajiv saxena extra...  "
      ]
     },
     "execution_count": 28,
     "metadata": {},
     "output_type": "execute_result"
    }
   ],
   "source": [
    "#요약 데이터에는 시작 토큰과 종료 토큰을 추가한다.\n",
    "data['decoder_input'] = data['headlines'].apply(lambda x : 'sostoken '+ x)\n",
    "data['decoder_target'] = data['headlines'].apply(lambda x : x + ' eostoken')\n",
    "data.head()"
   ]
  },
  {
   "cell_type": "code",
   "execution_count": 29,
   "metadata": {},
   "outputs": [],
   "source": [
    "encoder_input = np.array(data['text']) # 인코더의 입력\n",
    "decoder_input = np.array(data['decoder_input']) # 디코더의 입력\n",
    "decoder_target = np.array(data['decoder_target']) # 디코더의 레이블"
   ]
  },
  {
   "cell_type": "code",
   "execution_count": 30,
   "metadata": {},
   "outputs": [
    {
     "name": "stdout",
     "output_type": "stream",
     "text": [
      "[ 8684 26377  3887 ... 21914 13824 26464]\n"
     ]
    }
   ],
   "source": [
    "#인코더의 입력, 디코더의 입력과 레이블을 각각 다시 Numpy 타입으로 저장\n",
    "\n",
    "indices = np.arange(encoder_input.shape[0])\n",
    "np.random.shuffle(indices)\n",
    "print(indices)"
   ]
  },
  {
   "cell_type": "markdown",
   "metadata": {},
   "source": [
    "#### 훈련 데이터와 테스트 데이터를 분리"
   ]
  },
  {
   "cell_type": "code",
   "execution_count": 31,
   "metadata": {},
   "outputs": [
    {
     "name": "stdout",
     "output_type": "stream",
     "text": [
      "테스트 데이터의 수 : 5421\n"
     ]
    }
   ],
   "source": [
    "#데이터를 8:2의 비율로 훈련 데이터와 테스트 데이터로 분리\n",
    "\n",
    "n_of_val = int(len(encoder_input)*0.2)\n",
    "print('테스트 데이터의 수 :',n_of_val)"
   ]
  },
  {
   "cell_type": "code",
   "execution_count": 32,
   "metadata": {},
   "outputs": [
    {
     "name": "stdout",
     "output_type": "stream",
     "text": [
      "훈련 데이터의 개수 : 21684\n",
      "훈련 레이블의 개수 : 21684\n",
      "테스트 데이터의 개수 : 5421\n",
      "테스트 레이블의 개수 : 5421\n"
     ]
    }
   ],
   "source": [
    "encoder_input_train = encoder_input[:-n_of_val]\n",
    "decoder_input_train = decoder_input[:-n_of_val]\n",
    "decoder_target_train = decoder_target[:-n_of_val]\n",
    "\n",
    "encoder_input_test = encoder_input[-n_of_val:]\n",
    "decoder_input_test = decoder_input[-n_of_val:]\n",
    "decoder_target_test = decoder_target[-n_of_val:]\n",
    "\n",
    "print('훈련 데이터의 개수 :', len(encoder_input_train))\n",
    "print('훈련 레이블의 개수 :',len(decoder_input_train))\n",
    "print('테스트 데이터의 개수 :',len(encoder_input_test))\n",
    "print('테스트 레이블의 개수 :',len(decoder_input_test))"
   ]
  },
  {
   "cell_type": "markdown",
   "metadata": {},
   "source": [
    "### 데이터 전처리하기 (3) 정수 인코딩\n",
    "기계가 텍스트를 숫자로 처리할 수 있도록 훈련 데이터와 테스트 데이터의 단어들을 모두 정수로 바꾸어 주어야 해요. "
   ]
  },
  {
   "cell_type": "code",
   "execution_count": 33,
   "metadata": {},
   "outputs": [],
   "source": [
    "# Keras의 토크나이저를 사용하면, 입력된 훈련 데이터로부터 단어 집합을 만들 수 있어요.\n",
    "\n",
    "src_tokenizer = Tokenizer() # 토크나이저 정의\n",
    "src_tokenizer.fit_on_texts(encoder_input_train) # 입력된 데이터로부터 단어 집합 생성"
   ]
  },
  {
   "cell_type": "code",
   "execution_count": 34,
   "metadata": {},
   "outputs": [
    {
     "name": "stdout",
     "output_type": "stream",
     "text": [
      "단어 집합(vocabulary)의 크기 : 41668\n",
      "등장 빈도가 6번 이하인 희귀 단어의 수: 30011\n",
      "단어 집합에서 희귀 단어를 제외시킬 경우의 단어 집합의 크기 11657\n",
      "단어 집합에서 희귀 단어의 비율: 72.02409522895267\n",
      "전체 등장 빈도에서 희귀 단어 등장 빈도 비율: 8.092262045673342\n"
     ]
    }
   ],
   "source": [
    "#빈도수가 낮은 단어들은 훈련 데이터에서 제외하고 진행\n",
    "threshold = 7\n",
    "total_cnt = len(src_tokenizer.word_index) # 단어의 수\n",
    "rare_cnt = 0 # 등장 빈도수가 threshold보다 작은 단어의 개수를 카운트\n",
    "total_freq = 0 # 훈련 데이터의 전체 단어 빈도수 총 합\n",
    "rare_freq = 0 # 등장 빈도수가 threshold보다 작은 단어의 등장 빈도수의 총 합\n",
    "\n",
    "# 단어와 빈도수의 쌍(pair)을 key와 value로 받는다.\n",
    "for key, value in src_tokenizer.word_counts.items():\n",
    "    total_freq = total_freq + value\n",
    "\n",
    "    # 단어의 등장 빈도수가 threshold보다 작으면\n",
    "    if(value < threshold):\n",
    "        rare_cnt = rare_cnt + 1\n",
    "        rare_freq = rare_freq + value\n",
    "\n",
    "print('단어 집합(vocabulary)의 크기 :',total_cnt)\n",
    "print('등장 빈도가 %s번 이하인 희귀 단어의 수: %s'%(threshold - 1, rare_cnt))\n",
    "print('단어 집합에서 희귀 단어를 제외시킬 경우의 단어 집합의 크기 %s'%(total_cnt - rare_cnt))\n",
    "print(\"단어 집합에서 희귀 단어의 비율:\", (rare_cnt / total_cnt)*100)\n",
    "print(\"전체 등장 빈도에서 희귀 단어 등장 빈도 비율:\", (rare_freq / total_freq)*100)"
   ]
  },
  {
   "cell_type": "markdown",
   "metadata": {},
   "source": [
    "encoder_input_train에는 총 21,684개의 단어가 있네요. \n",
    "\n",
    "등장 빈도가 threshold 값인 7회 미만, 즉, 6회 이하인 단어들은 단어 집합에서 무려 70% 이상을 차지하네요. 하지만, 실제로 훈련 데이터에서 등장 빈도로 차지하는 비중은 상대적으로 적은 수치인 8.09%밖에 되지 않아요.\n",
    "\n",
    "그래서 등장 빈도가 6회 이하인 단어들은 정수 인코딩 과정에서 빼고, 훈련 데이터에서 제거하고자 합니다. 위에서 이를 제외한 단어 집합의 크기를 11,657으로 계산했는데, 이와 비슷한 값으로 어림잡아 단어 집합의 크기를 11,000으로 제한해볼게요. 토크나이저를 정의할 때 num_words의 값을 정해주면, 단어 집합의 크기를 제한할 수 있어요."
   ]
  },
  {
   "cell_type": "code",
   "execution_count": 35,
   "metadata": {},
   "outputs": [],
   "source": [
    "src_vocab = 11000\n",
    "src_tokenizer = Tokenizer(num_words = src_vocab) # 단어 집합의 크기를 8,000으로 제한\n",
    "src_tokenizer.fit_on_texts(encoder_input_train) # 단어 집합 재생성."
   ]
  },
  {
   "cell_type": "code",
   "execution_count": 36,
   "metadata": {},
   "outputs": [
    {
     "name": "stdout",
     "output_type": "stream",
     "text": [
      "[[147, 13, 4153, 3784, 55, 45, 551, 2591, 7357, 1399, 3387, 405, 125, 5730, 6426, 18, 49, 61, 6426, 6, 39, 360, 7, 1399, 642, 812, 597, 865, 39, 360, 5, 2218, 8607, 4907, 8], [14, 204, 489, 439, 55, 638, 246, 204, 326, 211, 150, 9, 8608, 204, 857, 281, 3263, 1, 211, 1194, 269, 1660, 1307, 1005, 7026, 204, 1005, 4051, 787, 4, 7027, 865, 3128, 246, 204, 326, 3453, 3263, 6], [101, 7, 64, 142, 172, 445, 970, 148, 84, 4386, 798, 2629, 736, 189, 1322, 7, 4387, 506, 678, 798, 2219, 286, 3691, 1571, 987, 445, 970, 317, 453, 4281]]\n"
     ]
    }
   ],
   "source": [
    "# 텍스트 시퀀스를 정수 시퀀스로 변환\n",
    "encoder_input_train = src_tokenizer.texts_to_sequences(encoder_input_train) \n",
    "encoder_input_test = src_tokenizer.texts_to_sequences(encoder_input_test)\n",
    "\n",
    "#잘 진행되었는지 샘플 출력\n",
    "print(encoder_input_train[:3])\n",
    "\n",
    "#이제 더 이상 텍스트 데이터가 아니라 정수가 나오고 있어요."
   ]
  },
  {
   "cell_type": "code",
   "execution_count": 37,
   "metadata": {},
   "outputs": [],
   "source": [
    "#headlines 데이터에 대해서도 동일한 작업을 수행\n",
    "\n",
    "tar_tokenizer = Tokenizer()\n",
    "tar_tokenizer.fit_on_texts(decoder_input_train)"
   ]
  },
  {
   "cell_type": "code",
   "execution_count": 38,
   "metadata": {},
   "outputs": [
    {
     "name": "stdout",
     "output_type": "stream",
     "text": [
      "단어 집합(vocabulary)의 크기 : 18718\n",
      "등장 빈도가 5번 이하인 희귀 단어의 수: 14060\n",
      "단어 집합에서 희귀 단어를 제외시킬 경우의 단어 집합의 크기 4658\n",
      "단어 집합에서 희귀 단어의 비율: 75.1148626990063\n",
      "전체 등장 빈도에서 희귀 단어 등장 빈도 비율: 13.890331874876155\n"
     ]
    }
   ],
   "source": [
    "#tar_tokenizer.word_counts.items()에는 단어와 각 단어의 등장 빈도수가 저장되어져 있는데, 이를 통해서 통계적인 정보를 얻어서, \n",
    "# 등장 빈도수가 6회 미만인 단어들이 이 데이터에서 얼만큼의 비중을 차지하는지 확인\n",
    "\n",
    "threshold = 6\n",
    "total_cnt = len(tar_tokenizer.word_index) # 단어의 수\n",
    "rare_cnt = 0 # 등장 빈도수가 threshold보다 작은 단어의 개수를 카운트\n",
    "total_freq = 0 # 훈련 데이터의 전체 단어 빈도수 총 합\n",
    "rare_freq = 0 # 등장 빈도수가 threshold보다 작은 단어의 등장 빈도수의 총 합\n",
    "\n",
    "# 단어와 빈도수의 쌍(pair)을 key와 value로 받는다.\n",
    "for key, value in tar_tokenizer.word_counts.items():\n",
    "    total_freq = total_freq + value\n",
    "\n",
    "    # 단어의 등장 빈도수가 threshold보다 작으면\n",
    "    if(value < threshold):\n",
    "        rare_cnt = rare_cnt + 1\n",
    "        rare_freq = rare_freq + value\n",
    "\n",
    "print('단어 집합(vocabulary)의 크기 :',total_cnt)\n",
    "print('등장 빈도가 %s번 이하인 희귀 단어의 수: %s'%(threshold - 1, rare_cnt))\n",
    "print('단어 집합에서 희귀 단어를 제외시킬 경우의 단어 집합의 크기 %s'%(total_cnt - rare_cnt))\n",
    "print(\"단어 집합에서 희귀 단어의 비율:\", (rare_cnt / total_cnt)*100)\n",
    "print(\"전체 등장 빈도에서 희귀 단어 등장 빈도 비율:\", (rare_freq / total_freq)*100)"
   ]
  },
  {
   "cell_type": "code",
   "execution_count": 39,
   "metadata": {},
   "outputs": [
    {
     "name": "stdout",
     "output_type": "stream",
     "text": [
      "input\n",
      "input  [[1, 653, 58, 1628, 271, 37], [1, 984, 205, 67, 173, 5, 221, 719], [1, 30, 100, 3, 135, 554, 467], [1, 2367, 9, 209, 346, 872, 591, 82], [1, 3323, 677, 111, 2549, 4, 8]]\n",
      "target\n",
      "decoder  [[653, 58, 1628, 271, 37, 2], [984, 205, 67, 173, 5, 221, 719, 2], [30, 100, 3, 135, 554, 467, 2], [2367, 9, 209, 346, 872, 591, 82, 2], [3323, 677, 111, 2549, 4, 8, 2]]\n"
     ]
    }
   ],
   "source": [
    "tar_vocab = 4000\n",
    "tar_tokenizer = Tokenizer(num_words = tar_vocab) \n",
    "tar_tokenizer.fit_on_texts(decoder_input_train)\n",
    "tar_tokenizer.fit_on_texts(decoder_target_train)\n",
    "\n",
    "# 텍스트 시퀀스를 정수 시퀀스로 변환\n",
    "decoder_input_train = tar_tokenizer.texts_to_sequences(decoder_input_train) \n",
    "decoder_target_train = tar_tokenizer.texts_to_sequences(decoder_target_train)\n",
    "decoder_input_test = tar_tokenizer.texts_to_sequences(decoder_input_test)\n",
    "decoder_target_test = tar_tokenizer.texts_to_sequences(decoder_target_test)\n",
    "\n",
    "#잘 변환되었는지 확인\n",
    "print('input')\n",
    "print('input ',decoder_input_train[:5])\n",
    "print('target')\n",
    "print('decoder ',decoder_target_train[:5])"
   ]
  },
  {
   "cell_type": "markdown",
   "metadata": {},
   "source": [
    "#### 패딩하기"
   ]
  },
  {
   "cell_type": "code",
   "execution_count": 40,
   "metadata": {},
   "outputs": [
    {
     "name": "stdout",
     "output_type": "stream",
     "text": [
      "삭제할 훈련 데이터의 개수 : 3\n",
      "삭제할 테스트 데이터의 개수 : 0\n",
      "훈련 데이터의 개수 : 21681\n",
      "훈련 레이블의 개수 : 21681\n",
      "테스트 데이터의 개수 : 5421\n",
      "테스트 레이블의 개수 : 5421\n"
     ]
    }
   ],
   "source": [
    "drop_train = [index for index, sentence in enumerate(decoder_input_train) if len(sentence) == 1]\n",
    "drop_test = [index for index, sentence in enumerate(decoder_input_test) if len(sentence) == 1]\n",
    "\n",
    "print('삭제할 훈련 데이터의 개수 :',len(drop_train))\n",
    "print('삭제할 테스트 데이터의 개수 :',len(drop_test))\n",
    "\n",
    "encoder_input_train = np.delete(encoder_input_train, drop_train, axis=0)\n",
    "decoder_input_train = np.delete(decoder_input_train, drop_train, axis=0)\n",
    "decoder_target_train = np.delete(decoder_target_train, drop_train, axis=0)\n",
    "\n",
    "encoder_input_test = np.delete(encoder_input_test, drop_test, axis=0)\n",
    "decoder_input_test = np.delete(decoder_input_test, drop_test, axis=0)\n",
    "decoder_target_test = np.delete(decoder_target_test, drop_test, axis=0)\n",
    "\n",
    "print('훈련 데이터의 개수 :', len(encoder_input_train))\n",
    "print('훈련 레이블의 개수 :',len(decoder_input_train))\n",
    "print('테스트 데이터의 개수 :',len(encoder_input_test))\n",
    "print('테스트 레이블의 개수 :',len(decoder_input_test))"
   ]
  },
  {
   "cell_type": "code",
   "execution_count": 41,
   "metadata": {},
   "outputs": [],
   "source": [
    "encoder_input_train = pad_sequences(encoder_input_train, maxlen = text_max_len, padding='post')\n",
    "encoder_input_test = pad_sequences(encoder_input_test, maxlen = text_max_len, padding='post')\n",
    "decoder_input_train = pad_sequences(decoder_input_train, maxlen = headlines_max_len, padding='post')\n",
    "decoder_target_train = pad_sequences(decoder_target_train, maxlen = headlines_max_len, padding='post')\n",
    "decoder_input_test = pad_sequences(decoder_input_test, maxlen = headlines_max_len, padding='post')\n",
    "decoder_target_test = pad_sequences(decoder_target_test, maxlen = headlines_max_len, padding='post')"
   ]
  },
  {
   "cell_type": "markdown",
   "metadata": {},
   "source": [
    "### 모델 설계하기"
   ]
  },
  {
   "cell_type": "code",
   "execution_count": 42,
   "metadata": {},
   "outputs": [
    {
     "name": "stdout",
     "output_type": "stream",
     "text": [
      "WARNING:tensorflow:Layer lstm will not use cuDNN kernel since it doesn't meet the cuDNN kernel criteria. It will use generic GPU kernel as fallback when running on GPU\n",
      "WARNING:tensorflow:Layer lstm_1 will not use cuDNN kernel since it doesn't meet the cuDNN kernel criteria. It will use generic GPU kernel as fallback when running on GPU\n",
      "WARNING:tensorflow:Layer lstm_2 will not use cuDNN kernel since it doesn't meet the cuDNN kernel criteria. It will use generic GPU kernel as fallback when running on GPU\n"
     ]
    }
   ],
   "source": [
    "from tensorflow.keras.layers import Input, LSTM, Embedding, Dense, Concatenate\n",
    "from tensorflow.keras.models import Model\n",
    "from tensorflow.keras.callbacks import EarlyStopping, ModelCheckpoint\n",
    "\n",
    "\n",
    "# 인코더 설계 시작 \n",
    "#hidden state는 LSTM에서 얼만큼의 수용력(capacity)를 가질지를 정하는 파라미터\n",
    "\n",
    "embedding_dim = 128 # 임베딩 벡터의 차원은 128로 정의\n",
    "hidden_size = 256  #  hidden state의 크기를 256으로 정의\n",
    "\n",
    "# 인코더\n",
    "encoder_inputs = Input(shape=(text_max_len,))\n",
    "\n",
    "# 인코더의 임베딩 층\n",
    "enc_emb = Embedding(src_vocab, embedding_dim)(encoder_inputs)\n",
    "\n",
    "# 인코더의 LSTM 1\n",
    "encoder_lstm1 = LSTM(hidden_size, return_sequences=True, return_state=True ,dropout = 0.4, recurrent_dropout = 0.4)\n",
    "encoder_output1, state_h1, state_c1 = encoder_lstm1(enc_emb)\n",
    "\n",
    "# 인코더의 LSTM 2\n",
    "encoder_lstm2 = LSTM(hidden_size, return_sequences=True, return_state=True, dropout=0.4, recurrent_dropout=0.4)\n",
    "encoder_output2, state_h2, state_c2 = encoder_lstm2(encoder_output1)\n",
    "\n",
    "# 인코더의 LSTM 3\n",
    "encoder_lstm3 = LSTM(hidden_size, return_state=True, return_sequences=True, dropout=0.4, recurrent_dropout=0.4)\n",
    "encoder_outputs, state_h, state_c= encoder_lstm3(encoder_output2)"
   ]
  },
  {
   "cell_type": "code",
   "execution_count": 43,
   "metadata": {},
   "outputs": [
    {
     "name": "stdout",
     "output_type": "stream",
     "text": [
      "WARNING:tensorflow:Layer lstm_3 will not use cuDNN kernel since it doesn't meet the cuDNN kernel criteria. It will use generic GPU kernel as fallback when running on GPU\n"
     ]
    }
   ],
   "source": [
    "# 디코더 설계\n",
    "\n",
    "decoder_inputs = Input(shape=(None,))\n",
    "\n",
    "# 디코더의 임베딩 층\n",
    "dec_emb_layer = Embedding(tar_vocab, embedding_dim)\n",
    "dec_emb = dec_emb_layer(decoder_inputs)\n",
    "\n",
    "# 디코더의 LSTM\n",
    "decoder_lstm = LSTM(hidden_size, return_sequences = True, return_state = True, dropout = 0.4, recurrent_dropout=0.2)\n",
    "decoder_outputs, _, _ = decoder_lstm(dec_emb, initial_state = [state_h, state_c])"
   ]
  },
  {
   "cell_type": "code",
   "execution_count": 50,
   "metadata": {},
   "outputs": [
    {
     "name": "stdout",
     "output_type": "stream",
     "text": [
      "Model: \"model\"\n",
      "__________________________________________________________________________________________________\n",
      "Layer (type)                    Output Shape         Param #     Connected to                     \n",
      "==================================================================================================\n",
      "input_1 (InputLayer)            [(None, 50)]         0                                            \n",
      "__________________________________________________________________________________________________\n",
      "embedding (Embedding)           (None, 50, 128)      1408000     input_1[0][0]                    \n",
      "__________________________________________________________________________________________________\n",
      "lstm (LSTM)                     [(None, 50, 256), (N 394240      embedding[0][0]                  \n",
      "__________________________________________________________________________________________________\n",
      "input_2 (InputLayer)            [(None, None)]       0                                            \n",
      "__________________________________________________________________________________________________\n",
      "lstm_1 (LSTM)                   [(None, 50, 256), (N 525312      lstm[0][0]                       \n",
      "__________________________________________________________________________________________________\n",
      "embedding_1 (Embedding)         (None, None, 128)    512000      input_2[0][0]                    \n",
      "__________________________________________________________________________________________________\n",
      "lstm_2 (LSTM)                   [(None, 50, 256), (N 525312      lstm_1[0][0]                     \n",
      "__________________________________________________________________________________________________\n",
      "lstm_3 (LSTM)                   [(None, None, 256),  394240      embedding_1[0][0]                \n",
      "                                                                 lstm_2[0][1]                     \n",
      "                                                                 lstm_2[0][2]                     \n",
      "__________________________________________________________________________________________________\n",
      "dense (Dense)                   (None, None, 4000)   1028000     lstm_3[0][0]                     \n",
      "==================================================================================================\n",
      "Total params: 4,787,104\n",
      "Trainable params: 4,787,104\n",
      "Non-trainable params: 0\n",
      "__________________________________________________________________________________________________\n"
     ]
    }
   ],
   "source": [
    "# 디코더의 출력층\n",
    "decoder_softmax_layer = Dense(tar_vocab, activation = 'softmax')\n",
    "decoder_softmax_outputs = decoder_softmax_layer(decoder_outputs) \n",
    "\n",
    "# 모델 정의\n",
    "model = Model([encoder_inputs, decoder_inputs], decoder_softmax_outputs)\n",
    "model.summary()"
   ]
  },
  {
   "cell_type": "markdown",
   "metadata": {},
   "source": [
    "\n",
    "## Step 3. 어텐션 메커니즘 사용하기 (추상적 요약)\n",
    "일반적인 seq2seq보다는 어텐션 메커니즘을 사용한 seq2seq를 사용하는 것이 더 나은 성능을 얻을 수 있어요. 실습 내용을 참고하여 어텐션 메커니즘을 사용한 seq2seq를 설계해 보세요.\n",
    "\n",
    "어텐션 메커니즘을 수행하는 어텐션 함수를 설계하는 것은 또 다른 새로운 신경망을 설계해야한다는 뜻"
   ]
  },
  {
   "cell_type": "code",
   "execution_count": 51,
   "metadata": {},
   "outputs": [],
   "source": [
    "urllib.request.urlretrieve(\"https://raw.githubusercontent.com/thushv89/attention_keras/master/src/layers/attention.py\", filename=\"attention.py\")\n",
    "from attention import AttentionLayer"
   ]
  },
  {
   "cell_type": "code",
   "execution_count": 52,
   "metadata": {},
   "outputs": [
    {
     "name": "stdout",
     "output_type": "stream",
     "text": [
      "Model: \"model_1\"\n",
      "__________________________________________________________________________________________________\n",
      "Layer (type)                    Output Shape         Param #     Connected to                     \n",
      "==================================================================================================\n",
      "input_1 (InputLayer)            [(None, 50)]         0                                            \n",
      "__________________________________________________________________________________________________\n",
      "embedding (Embedding)           (None, 50, 128)      1408000     input_1[0][0]                    \n",
      "__________________________________________________________________________________________________\n",
      "lstm (LSTM)                     [(None, 50, 256), (N 394240      embedding[0][0]                  \n",
      "__________________________________________________________________________________________________\n",
      "input_2 (InputLayer)            [(None, None)]       0                                            \n",
      "__________________________________________________________________________________________________\n",
      "lstm_1 (LSTM)                   [(None, 50, 256), (N 525312      lstm[0][0]                       \n",
      "__________________________________________________________________________________________________\n",
      "embedding_1 (Embedding)         (None, None, 128)    512000      input_2[0][0]                    \n",
      "__________________________________________________________________________________________________\n",
      "lstm_2 (LSTM)                   [(None, 50, 256), (N 525312      lstm_1[0][0]                     \n",
      "__________________________________________________________________________________________________\n",
      "lstm_3 (LSTM)                   [(None, None, 256),  394240      embedding_1[0][0]                \n",
      "                                                                 lstm_2[0][1]                     \n",
      "                                                                 lstm_2[0][2]                     \n",
      "__________________________________________________________________________________________________\n",
      "attention_layer (AttentionLayer ((None, None, 256),  131328      lstm_2[0][0]                     \n",
      "                                                                 lstm_3[0][0]                     \n",
      "__________________________________________________________________________________________________\n",
      "concat_layer (Concatenate)      (None, None, 512)    0           lstm_3[0][0]                     \n",
      "                                                                 attention_layer[0][0]            \n",
      "__________________________________________________________________________________________________\n",
      "dense_1 (Dense)                 (None, None, 4000)   2052000     concat_layer[0][0]               \n",
      "==================================================================================================\n",
      "Total params: 5,942,432\n",
      "Trainable params: 5,942,432\n",
      "Non-trainable params: 0\n",
      "__________________________________________________________________________________________________\n"
     ]
    }
   ],
   "source": [
    "# 어텐션 층(어텐션 함수)\n",
    "attn_layer = AttentionLayer(name='attention_layer')\n",
    "# 인코더와 디코더의 모든 time step의 hidden state를 어텐션 층에 전달하고 결과를 리턴\n",
    "attn_out, attn_states = attn_layer([encoder_outputs, decoder_outputs])\n",
    "\n",
    "# 어텐션의 결과와 디코더의 hidden state들을 연결\n",
    "decoder_concat_input = Concatenate(axis = -1, name='concat_layer')([decoder_outputs, attn_out])\n",
    "\n",
    "# 디코더의 출력층\n",
    "decoder_softmax_layer = Dense(tar_vocab, activation='softmax')\n",
    "decoder_softmax_outputs = decoder_softmax_layer(decoder_concat_input)\n",
    "\n",
    "# 모델 정의\n",
    "model = Model([encoder_inputs, decoder_inputs], decoder_softmax_outputs)\n",
    "model.summary()"
   ]
  },
  {
   "cell_type": "markdown",
   "metadata": {},
   "source": [
    "### 모델 훈련하기"
   ]
  },
  {
   "cell_type": "code",
   "execution_count": 53,
   "metadata": {},
   "outputs": [
    {
     "name": "stdout",
     "output_type": "stream",
     "text": [
      "Epoch 1/50\n",
      "85/85 [==============================] - 31s 367ms/step - loss: 5.9999 - val_loss: 5.4620\n",
      "Epoch 2/50\n",
      "85/85 [==============================] - 30s 353ms/step - loss: 5.5135 - val_loss: 5.3124\n",
      "Epoch 3/50\n",
      "85/85 [==============================] - 31s 362ms/step - loss: 5.3075 - val_loss: 5.0965\n",
      "Epoch 4/50\n",
      "85/85 [==============================] - 32s 372ms/step - loss: 5.1495 - val_loss: 4.9954\n",
      "Epoch 5/50\n",
      "85/85 [==============================] - 30s 357ms/step - loss: 5.0020 - val_loss: 4.8738\n",
      "Epoch 6/50\n",
      "85/85 [==============================] - 30s 348ms/step - loss: 4.8530 - val_loss: 4.8018\n",
      "Epoch 7/50\n",
      "85/85 [==============================] - 30s 349ms/step - loss: 4.7012 - val_loss: 4.7109\n",
      "Epoch 8/50\n",
      "85/85 [==============================] - 30s 349ms/step - loss: 4.5613 - val_loss: 4.6381\n",
      "Epoch 9/50\n",
      "85/85 [==============================] - 30s 355ms/step - loss: 4.4184 - val_loss: 4.5794\n",
      "Epoch 10/50\n",
      "85/85 [==============================] - 31s 368ms/step - loss: 4.2806 - val_loss: 4.4900\n",
      "Epoch 11/50\n",
      "85/85 [==============================] - 32s 373ms/step - loss: 4.1516 - val_loss: 4.4564\n",
      "Epoch 12/50\n",
      "85/85 [==============================] - 32s 375ms/step - loss: 4.0308 - val_loss: 4.4027\n",
      "Epoch 13/50\n",
      "85/85 [==============================] - 32s 371ms/step - loss: 3.9221 - val_loss: 4.3736\n",
      "Epoch 14/50\n",
      "85/85 [==============================] - 30s 354ms/step - loss: 3.8160 - val_loss: 4.3620\n",
      "Epoch 15/50\n",
      "85/85 [==============================] - 30s 351ms/step - loss: 3.7144 - val_loss: 4.3196\n",
      "Epoch 16/50\n",
      "85/85 [==============================] - 30s 348ms/step - loss: 3.6208 - val_loss: 4.3068\n",
      "Epoch 17/50\n",
      "85/85 [==============================] - 31s 371ms/step - loss: 3.5297 - val_loss: 4.2910\n",
      "Epoch 18/50\n",
      "85/85 [==============================] - 31s 368ms/step - loss: 3.4414 - val_loss: 4.2805\n",
      "Epoch 19/50\n",
      "85/85 [==============================] - 31s 367ms/step - loss: 3.3557 - val_loss: 4.2798\n",
      "Epoch 20/50\n",
      "85/85 [==============================] - 31s 368ms/step - loss: 3.2770 - val_loss: 4.2602\n",
      "Epoch 21/50\n",
      "85/85 [==============================] - 32s 377ms/step - loss: 3.1958 - val_loss: 4.2681\n",
      "Epoch 22/50\n",
      "85/85 [==============================] - 31s 368ms/step - loss: 3.1211 - val_loss: 4.2622\n",
      "Epoch 00022: early stopping\n"
     ]
    }
   ],
   "source": [
    "model.compile(optimizer='rmsprop', loss='sparse_categorical_crossentropy')\n",
    "es = EarlyStopping(monitor='val_loss', mode='min', verbose=1, patience = 2)\n",
    "history = model.fit(x = [encoder_input_train, decoder_input_train], y = decoder_target_train, \\\n",
    "          validation_data = ([encoder_input_test, decoder_input_test], decoder_target_test),\n",
    "          batch_size = 256, callbacks=[es], epochs = 50)"
   ]
  },
  {
   "cell_type": "code",
   "execution_count": 55,
   "metadata": {},
   "outputs": [
    {
     "data": {
      "image/png": "[encoded data removed]",
      "text/plain": [
       "<Figure size 432x288 with 1 Axes>"
      ]
     },
     "metadata": {
      "needs_background": "light"
     },
     "output_type": "display_data"
    }
   ],
   "source": [
    "plt.plot(history.history['loss'], label='train')\n",
    "plt.plot(history.history['val_loss'], label='test')\n",
    "plt.legend()\n",
    "plt.show()"
   ]
  },
  {
   "cell_type": "markdown",
   "metadata": {},
   "source": [
    "#### 인퍼런스 모델 구현하기"
   ]
  },
  {
   "cell_type": "code",
   "execution_count": 56,
   "metadata": {},
   "outputs": [],
   "source": [
    "src_index_to_word = src_tokenizer.index_word # 원문 단어 집합에서 정수 -> 단어를 얻음\n",
    "tar_word_to_index = tar_tokenizer.word_index # 요약 단어 집합에서 단어 -> 정수를 얻음\n",
    "tar_index_to_word = tar_tokenizer.index_word # 요약 단어 집합에서 정수 -> 단어를 얻음"
   ]
  },
  {
   "cell_type": "code",
   "execution_count": 57,
   "metadata": {},
   "outputs": [],
   "source": [
    "# 인코더 설계\n",
    "encoder_model = Model(inputs=encoder_inputs, outputs=[encoder_outputs, state_h, state_c])\n",
    "\n",
    "# 이전 시점의 상태들을 저장하는 텐서\n",
    "decoder_state_input_h = Input(shape=(hidden_size,))\n",
    "decoder_state_input_c = Input(shape=(hidden_size,))\n",
    "\n",
    "dec_emb2 = dec_emb_layer(decoder_inputs)\n",
    "# 문장의 다음 단어를 예측하기 위해서 초기 상태(initial_state)를 이전 시점의 상태로 사용. 이는 뒤의 함수 decode_sequence()에 구현\n",
    "# 훈련 과정에서와 달리 LSTM의 리턴하는 은닉 상태와 셀 상태인 state_h와 state_c를 버리지 않음.\n",
    "decoder_outputs2, state_h2, state_c2 = decoder_lstm(dec_emb2, initial_state=[decoder_state_input_h, decoder_state_input_c])"
   ]
  },
  {
   "cell_type": "code",
   "execution_count": 58,
   "metadata": {},
   "outputs": [],
   "source": [
    "# 어텐션 메커니즘을 사용하는 출력층을 설계해 주세요.\n",
    "\n",
    "# 어텐션 함수\n",
    "decoder_hidden_state_input = Input(shape=(text_max_len, hidden_size))\n",
    "attn_out_inf, attn_states_inf = attn_layer([decoder_hidden_state_input, decoder_outputs2])\n",
    "decoder_inf_concat = Concatenate(axis=-1, name='concat')([decoder_outputs2, attn_out_inf])\n",
    "\n",
    "# 디코더의 출력층\n",
    "decoder_outputs2 = decoder_softmax_layer(decoder_inf_concat) \n",
    "\n",
    "# 최종 디코더 모델\n",
    "decoder_model = Model(\n",
    "    [decoder_inputs] + [decoder_hidden_state_input,decoder_state_input_h, decoder_state_input_c],\n",
    "    [decoder_outputs2] + [state_h2, state_c2])"
   ]
  },
  {
   "cell_type": "code",
   "execution_count": 64,
   "metadata": {},
   "outputs": [],
   "source": [
    "#인퍼런스 단계에서 단어 시퀀스를 완성하는 함수를 만들어주세요.\n",
    "\n",
    "def decode_sequence(input_seq):\n",
    "    # 입력으로부터 인코더의 상태를 얻음\n",
    "    e_out, e_h, e_c = encoder_model.predict(input_seq)\n",
    "\n",
    "     # <SOS>에 해당하는 토큰 생성\n",
    "    target_seq = np.zeros((1,1))\n",
    "    target_seq[0, 0] = tar_word_to_index['sostoken']\n",
    "\n",
    "    stop_condition = False\n",
    "    decoded_sentence = ''\n",
    "    while not stop_condition: # stop_condition이 True가 될 때까지 루프 반복\n",
    "\n",
    "        output_tokens, h, c = decoder_model.predict([target_seq] + [e_out, e_h, e_c])\n",
    "        sampled_token_index = np.argmax(output_tokens[0, -1, :])\n",
    "        sampled_token = tar_index_to_word[sampled_token_index]\n",
    "\n",
    "        if(sampled_token!='eostoken'):\n",
    "            decoded_sentence += ' '+sampled_token\n",
    "\n",
    "        #  <eos>에 도달하거나 최대 길이를 넘으면 중단.\n",
    "        if (sampled_token == 'eostoken'  or len(decoded_sentence.split()) >= (headlines_max_len-1)):\n",
    "            stop_condition = True\n",
    "\n",
    "        # 길이가 1인 타겟 시퀀스를 업데이트\n",
    "        target_seq = np.zeros((1,1))\n",
    "        target_seq[0, 0] = sampled_token_index\n",
    "\n",
    "        # 상태를 업데이트 합니다.\n",
    "        e_h, e_c = h, c\n",
    "\n",
    "    return decoded_sentence"
   ]
  },
  {
   "cell_type": "markdown",
   "metadata": {},
   "source": [
    "## Step 4. 실제 결과와 요약문 비교하기 (추상적 요약)\n",
    "\n",
    "원래의 요약문(headlines 열)과 학습을 통해 얻은 추상적 요약의 결과를 비교해보세요."
   ]
  },
  {
   "cell_type": "markdown",
   "metadata": {},
   "source": [
    "### 모델 테스트하기"
   ]
  },
  {
   "cell_type": "code",
   "execution_count": 67,
   "metadata": {},
   "outputs": [],
   "source": [
    "# 원문의 정수 시퀀스를 텍스트 시퀀스로 변환\n",
    "def seq2text(input_seq):\n",
    "    temp=''\n",
    "    for i in input_seq:\n",
    "        if(i!=0):\n",
    "            temp = temp + src_index_to_word[i]+' '\n",
    "    return temp\n",
    "\n",
    "# 요약문의 정수 시퀀스를 텍스트 시퀀스로 변환\n",
    "def seq2headlines(input_seq):\n",
    "    temp=''\n",
    "    for i in input_seq:\n",
    "        if((i!=0 and i!=tar_word_to_index['sostoken']) and i!=tar_word_to_index['eostoken']):\n",
    "            temp = temp + tar_index_to_word[i] + ' '\n",
    "    return temp"
   ]
  },
  {
   "cell_type": "code",
   "execution_count": 68,
   "metadata": {},
   "outputs": [
    {
     "name": "stdout",
     "output_type": "stream",
     "text": [
      "원문 : pope francis replaced conservative german department responsible defending catholic publicly criticised pope earlier succeeded department number two luis francisco notably department deals priests accused child sex abuse among things \n",
      "실제 요약 : pope replaces vatican chief \n",
      "예측 요약 :  former prez appointed as of\n",
      "\n",
      "\n",
      "원문 : bowler mitchell among australian cricketers unemployed contracts expired trying golf posted picture instagram captioned thought would better give another profession go unemployed yet absolute treat top australian cricketers unemployed new deal struck cricket australia players union \n",
      "실제 요약 : australian cricketer tries hand at \n",
      "예측 요약 :  australia to play in\n",
      "\n",
      "\n",
      "원문 : indian air force denied service extension lady officer rank leader since found well suffering officer completed years short service commission officer sought four year extension approached military court stayed iaf order \n",
      "실제 요약 : iaf woman officer denied extension for being \n",
      "예측 요약 :  indians in months after sex\n",
      "\n",
      "\n",
      "원문 : philippines us jointly waters southern philippines near south china sea amid concerns local islamist cells may use maritime routes spread throughout area comes philippines president rodrigo duterte formally ended naval us south china sea avoid china claims waters \n",
      "실제 요약 : us philippines conduct joint naval against militants \n",
      "예측 요약 :  us china to launch military trade\n",
      "\n",
      "\n",
      "원문 : former israeli prime minister released prison parole serving months jail sunday parole board decided cut short month term common practice israel prisoners committed violent crimes resigned country prime minister september facing allegations corruption \n",
      "실제 요약 : former israeli pm released from prison \n",
      "예측 요약 :  former prez duterte passes away\n",
      "\n",
      "\n",
      "원문 : clearing various surrounding gst revenue secretary adhia said generated manually internet required file monthly returns need big infrastructure give free software added clarified new gst rates appear higher earlier rates taxes absorbed gst \n",
      "실제 요약 : government clarifies around gst \n",
      "예측 요약 :  gst growth by gst growth to\n",
      "\n",
      "\n",
      "원문 : billionaire chairman bharti airtel sunil bharti mittal took home salary crore financial year annual package higher previous year mittal drawn salary crore mittal appointed chairman company last year five year term \n",
      "실제 요약 : airtel chairman sunil earned cr salary in \n",
      "예측 요약 :  rcom shares crore on tata\n",
      "\n",
      "\n",
      "원문 : canada saturday celebrated th anniversary day officially became country self governing britain prime minister justin trudeau launched celebrations outside parliament irish rock band performed audience celebrations joined prince charles whose mother uk queen elizabeth ii canada head state \n",
      "실제 요약 : in pictures canada celebrates its th anniversary \n",
      "예측 요약 :  india day day at\n",
      "\n",
      "\n",
      "원문 : microsoft researchers installed computer vision system trigger garden developing ways add artificial intelligence pepper sized chip smallest device group focus single board computer ram \n",
      "실제 요약 : microsoft puts artificial intelligence in \n",
      "예측 요약 :  device to monitor\n",
      "\n",
      "\n",
      "원문 : several men japan marrying virtual reality concept originated video game players develop relationships virtual ceremony involves groom vr bride couple engaging first kiss husband wife \n",
      "실제 요약 : japanese men marry virtual reality \n",
      "예측 요약 :  video of some of\n",
      "\n",
      "\n",
      "원문 : hollywood filmmaker got engaged israeli singer pick los angeles usa friday year old director first met year old israel promote film first marriage two time oscar recipient best original \n",
      "실제 요약 : director gets engaged to israeli singer \n",
      "예측 요약 :  actress apologises for his child\n",
      "\n",
      "\n",
      "원문 : akshaye khanna said terrible feeling appreciation work love attention start away added much say uncomfortable much attention every works akshaye also said feeling acting actors others \n",
      "실제 요약 : for when away \n",
      "예측 요약 :  mahatma gandhi as of\n",
      "\n",
      "\n",
      "원문 : microsoft let users protect certain files ransomware attack upcoming windows update tool allows specific apps access users notify app attempts make changes protected files update comes windows computer systems around world hit ransomware like \n",
      "실제 요약 : windows to protect important files from \n",
      "예측 요약 :  microsoft to launch users for\n",
      "\n",
      "\n",
      "원문 : bjp president amit shah said goa saturday surgical strikes conducted september changed world outlook towards india showing committed self defence speaking strikes terror listing government achievements last three years added except usa \n",
      "실제 요약 : surgical strikes changed world towards india shah \n",
      "예측 요약 :  bjp inaugurates india for surgical strikes\n",
      "\n",
      "\n",
      "원문 : market regulator sebi imposed lakh fine capital three executive directors allegedly violating public holding disclosure norms firm fined lakh directors fined lakh providing false misleading information stock exchanges chairman rajiv penalised lakh failing disclose family shareholding \n",
      "실제 요약 : capital fined for violating norms \n",
      "예측 요약 :  aadhaar aadhaar aadhaar data breach\n",
      "\n",
      "\n",
      "원문 : eighteen time grand slam champion roger federer said men tennis four including rafael nadal djokovic andy murray ready protect years sport managed lift wimbledon title last murray djokovic grand slam year far \n",
      "실제 요약 : four ready to protect tennis federer \n",
      "예측 요약 :  serena williams to open wimbledon\n",
      "\n",
      "\n",
      "원문 : astronomers using chile based observatory detected complex organic molecules around developing star discovery suggests life building blocks produced available incorporated planets form subsequently could help understand life originated earth researchers said \n",
      "실제 요약 : life found around newborn star \n",
      "예측 요약 :  scientists discover new way to\n",
      "\n",
      "\n",
      "원문 : image board class th showing mosque noise pollution source sparked outrage social media image shows train car plane mosque symbols depicting loud sound next man shutting ears board officials available comments publisher apologised image \n",
      "실제 요약 : showing mosque as noise sparks \n",
      "예측 요약 :  man creates flight behind\n",
      "\n",
      "\n",
      "원문 : national security intelligence agency israel established fund provide grants crore startups building innovative spy technologies investment equity free get license use technology without paying seeking technologies fields like robotics \n",
      "실제 요약 : israel intelligence agency funds startups making spy \n",
      "예측 요약 :  us to invest crore to\n",
      "\n",
      "\n",
      "원문 : american researchers created electronics circuit boards come apart automatically put cool liquid electronics made silver polymer warm water cold water electronics used operations chip removed without surgery \n",
      "실제 요약 : scientists make that self when \n",
      "예측 요약 :  scientists create of\n",
      "\n",
      "\n",
      "원문 : russian research centre unveiled high tech combat suit national university science technology increase performance fighting helmet pop display used tasks like examining plan battlefield star wars \n",
      "실제 요약 : russia unveils combat suit which fighter \n",
      "예측 요약 :  launches new internet in\n",
      "\n",
      "\n",
      "원문 : bengaluru based video discovery platform design raised crore series funding lets users touch objects like dress piece furniture accessory streaming video without visual object saved automatically accessed consumer later \n",
      "실제 요약 : in video discovery platform design raises crore \n",
      "예측 요약 :  bengaluru startup raises crore\n",
      "\n",
      "\n",
      "원문 : singh bedi vice president security jet airways arrested ghaziabad police land grabbing case sunday bedi relatives allegedly grabbed square metres municipal corporation land provided rent logistics company municipal corporation lodged complaint june police station \n",
      "실제 요약 : jet airways vice president arrested for land \n",
      "예측 요약 :  former prez duterte arrested in airport\n",
      "\n",
      "\n",
      "원문 : aadhaar issuing authority uidai asked states ensure even private agencies shift government premises external sites september year move affect active enrolment centres across india decision part government effort curb cases overcharging private operators \n",
      "실제 요약 : aadhaar only at government offices from september \n",
      "예측 요약 :  aadhaar for aadhaar linking aadhaar\n",
      "\n",
      "\n",
      "원문 : year old ukrainian model death captured filming friend drinking driving driving speed drinking alcohol bottles bmw car smashed head lamp post video reportedly showed pair high spirits moments accident \n",
      "실제 요약 : year old model death captured on \n",
      "예측 요약 :  man explodes after stealing pocket\n",
      "\n",
      "\n",
      "원문 : robot bar las vegas us robot serve drinks people two robotic arms mix drinks bottles liquor juice suspended ordering customers sent phone scanned system alerted drink ready \n",
      "실제 요약 : bar in vegas has robot \n",
      "예측 요약 :  us man makes with\n",
      "\n",
      "\n",
      "원문 : sri lankan wicketkeeper fined icc attempting stump zimbabwe waiting unusually long time incident occurred seventh zimbabwe record run chase following wide bowl bowl extended period first instance movement \n",
      "실제 요약 : sri lankan keeper fined for late \n"
     ]
    },
    {
     "name": "stdout",
     "output_type": "stream",
     "text": [
      "예측 요약 :  australian club passes away aged\n",
      "\n",
      "\n",
      "원문 : bharatiya janata party chief amit shah said saturday party ban beef state goa law cow slaughter passed congress regime plans ban beef said day trip state \n",
      "실제 요약 : no plan to ban beef in goa bjp \n",
      "예측 요약 :  bjp leader threatens to declare bjp\n",
      "\n",
      "\n",
      "원문 : uttarakhand chief minister trivendra singh rawat sunday rescued man lying unconscious road minister seeing unconscious man immediately went directed officials carry one convoy cars take hospital rawat stayed situation completely taken care \n",
      "실제 요약 : uttarakhand cm rescues man on road \n",
      "예측 요약 :  maharashtra police suspended for protesting in maharashtra\n",
      "\n",
      "\n",
      "원문 : least people killed others injured suicide bomber blew syrian capital sunday reports said bomber one three cars carrying bombs chased syrian authorities bombs destroyed police separate location western \n",
      "실제 요약 : killed injured in suicide bombing in syria \n",
      "예측 요약 :  killed injured in twin suicide in afghanistan\n",
      "\n",
      "\n",
      "원문 : barcelona forward lionel messi got married childhood hometown argentina friday messi met aged nine according friend messi fell love forever first moved barcelona live messi year opened luxury shoe shop along luis suarez wife \n",
      "실제 요약 : who is lionel messi wife \n",
      "예측 요약 :  lionel messi to messi cancer\n",
      "\n",
      "\n",
      "원문 : chinese commerce giant alibaba set launch voice controlled device rival similar devices like amazon echo google home apple targeted chinese market alibaba device support voice controlled shopping alibaba commerce sites alibaba could make official announcement device soon next week \n",
      "실제 요약 : alibaba voice controlled device to rival amazon \n",
      "예측 요약 :  samsung launches billion autonomous smartphone in\n",
      "\n",
      "\n",
      "원문 : dave mcclure co founder silicon valley venture fund startups ousted fund unacceptable sexual towards women apologised saturday post titled sorry said behaviour wrong would like apologise defensive mcclure added \n",
      "실제 요약 : startups founder apologises to women for being \n",
      "예측 요약 :  sues cr for money\n",
      "\n",
      "\n",
      "원문 : japanese government working plan use large cruise ships hotel ships ensure sufficient lodging options guests tokyo olympic games ship could accommodate people used place visitors stay summer olympics rio de \n",
      "실제 요약 : japan considering using ships as hotels for olympics \n",
      "예측 요약 :  chinese bans its first ever\n",
      "\n",
      "\n",
      "원문 : australian government created new information unit tasked defending country military assets cyber attacks launch foreign forces cyber security minister said new unit would help keep pace modern security threats foreign powers investment digital forms war \n",
      "실제 요약 : australia creates cyber unit to battle hackers \n",
      "예측 요약 :  australia to launch military for isis\n",
      "\n",
      "\n",
      "원문 : foreigners banned attending pink dot gay rights rally held hong park singapore saturday taking part year rally freedom love show identity cards prove citizens permanent residents allowed zone notably gay sex illegal conservative singapore \n",
      "실제 요약 : foreigners banned from singapore gay rights rally \n",
      "예측 요약 :  indians rescued in china amid crackdown\n",
      "\n",
      "\n",
      "원문 : governor us state matt signed bill law allows public schools offer courses teach students content characters impact today world however watchdog groups said oversee classes cross constitutional line teaching \n",
      "실제 요약 : governor approves study in public schools \n",
      "예측 요약 :  uk bans not for\n",
      "\n",
      "\n",
      "원문 : pm narendra modi saturday announced government cancelled registration one lakh companies gst rolled speaking chartered modi said shell firms identified post demonetisation data showed three lakh registered companies engaged suspected dealings added \n",
      "실제 요약 : registration of lakh companies cancelled before gst modi \n",
      "예측 요약 :  pm modi announces for gst growth\n",
      "\n",
      "\n",
      "원문 : amid current stand china released map claiming tri junction conflict india bhutan territorial claims map claims indian army crossed border la pass india bhutan consider territory claimed china china marks territory far south india bhutan \n",
      "실제 요약 : china releases indian territory \n",
      "예측 요약 :  india india to world india\n",
      "\n",
      "\n",
      "원문 : goods services tax network information technology india new tax regime capable handling lakh transactions every second amounting crore transactions month network handle users time every second chairman gst network kumar said \n",
      "실제 요약 : how many transactions can the gst network handle \n",
      "예측 요약 :  gst gst rates after fy\n",
      "\n",
      "\n",
      "원문 : hong kong new leader sworn saturday chinese president xi jinping formal ceremony mark th anniversary territory china britain meanwhile thousands took part march demanding genuine democracy protested alleged autonomy freedom \n",
      "실제 요약 : in pictures hong kong th anniversary \n",
      "예측 요약 :  us prez calls of\n",
      "\n",
      "\n",
      "원문 : uttarakhand saturday banned begging making one twenty states two union territories banned practice following high court order state issued notification gives police right arrest people begging streets notably begging ban earlier applicable temple town haridwar \n",
      "실제 요약 : uttarakhand becomes th state to ban \n",
      "예측 요약 :  maharashtra to ban in schools\n",
      "\n",
      "\n",
      "원문 : ukraine saturday said russian security services involved recent ransomware attack hit ukraine spreading around countries attack aimed destroying important data spread panic added ukraine claimed attack hackers attacked ukrainian power grid december \n",
      "실제 요약 : ukraine blames russia for attack \n",
      "예측 요약 :  us to launch military in afghanistan\n",
      "\n",
      "\n",
      "원문 : british photographer documents stories behind people bodies wounds documents come everyday accidents minor procedures others events think important wear pride overcome something survived come side said \n",
      "실제 요약 : photographer project tells stories behind people \n",
      "예측 요약 :  photographer of depression to be\n",
      "\n",
      "\n",
      "원문 : kumar opposition presidential nominee saturday said upcoming election country top constitutional post anybody fighting ideology appealing voice conscience cannot fighter fight sure many join fight said \n",
      "실제 요약 : am not in presidential election kumar \n",
      "예측 요약 :  prez quits as prez kovind\n",
      "\n",
      "\n",
      "원문 : aam aadmi party support upa nominee former lok sabha speaker kumar presidential election per reports official decision regard would reportedly taken aap political affairs committee political party reports claiming aap would take part presidential elections \n",
      "실제 요약 : aap to back kumar in presidential election \n",
      "예측 요약 :  opposition impeachment impeachment motion against cji\n",
      "\n",
      "\n",
      "원문 : reports claiming insulting question tv anchor union minister rajyavardhan singh rathore made former defence minister manohar parrikar plan surgical strikes found false parrikar said started planning mission june felt insulted small terrorist organisation killed soldiers manipur corrected report read \n",
      "실제 요약 : tv did not surgical strikes \n",
      "예측 요약 :  india minister among india\n",
      "\n",
      "\n",
      "원문 : singer composer baba released new music video goods services tax rolled saturday song sung composed written baba ho gaya gst people show gst gst gst lyrics song \n",
      "실제 요약 : baba releases song on gst \n",
      "예측 요약 :  with my project\n",
      "\n",
      "\n",
      "원문 : least people injured saturday mass shooting incident nightclub us state according reports believe incident active shooter terror related incident appears dispute concert police said investigation launched incident \n",
      "실제 요약 : injured in mass shooting at \n",
      "예측 요약 :  gunman killed in shooting at saudi arabia\n",
      "\n",
      "\n",
      "원문 : actress jacqueline fernandez took social media share picture photo shoot women fashion magazine seen posing photo wearing pair jeans american brand lee caught strong mind fragile heart wrote jacqueline alongside photo \n",
      "실제 요약 : jacqueline shares photo from magazine photo shoot \n",
      "예측 요약 :  amitabh bachchan shares pic with her\n",
      "\n",
      "\n"
     ]
    }
   ],
   "source": [
    "#테스트 데이터 약 50개의 샘플에 대해서 실제 요약과 예측된 요약을 비교해보세요.\n",
    "\n",
    "for i in range(50, 100):\n",
    "    print(\"원문 :\", seq2text(encoder_input_test[i]))\n",
    "    print(\"실제 요약 :\", seq2headlines(decoder_input_test[i]))\n",
    "    print(\"예측 요약 :\", decode_sequence(encoder_input_test[i].reshape(1, text_max_len)))\n",
    "    print(\"\\n\")"
   ]
  },
  {
   "cell_type": "markdown",
   "metadata": {},
   "source": [
    "## Step 5. Summa을 이용해서 추출적 요약해보기\n",
    "추상적 요약은 추출적 요약과는 달리 문장의 표현력을 다양하게 가져갈 수 있지만, 추출적 요약에 비해서 난이도가 높아요. 반대로 말하면 추출적 요약은 추상적 요약에 비해 난이도가 낮고 기존 문장에서 문장을 꺼내오는 것이므로 잘못된 요약이 나올 가능성이 낮아요.\n",
    "\n",
    "Summa의 summarize를 사용하여 추출적 요약을 해보세요."
   ]
  },
  {
   "cell_type": "markdown",
   "metadata": {},
   "source": [
    "### summarize 사용하기\n",
    "* Summa의 summarize는 문장 토큰화를 별도로 하지 않더라도 내부적으로 문장 토큰화를 수행\n",
    "* 원문의 0.1%만 요약문으로 선택되도록 문장의 개수 조정"
   ]
  },
  {
   "cell_type": "code",
   "execution_count": 157,
   "metadata": {},
   "outputs": [],
   "source": [
    "import os\n",
    "import csv\n",
    "import requests\n",
    "from summa.summarizer import summarize"
   ]
  },
  {
   "cell_type": "code",
   "execution_count": 155,
   "metadata": {},
   "outputs": [],
   "source": [
    "data = os.getenv('HOME')+'/aiffel/e11.news_summarization/news_summary_text.csv'"
   ]
  },
  {
   "cell_type": "code",
   "execution_count": null,
   "metadata": {},
   "outputs": [],
   "source": [
    "f = open('news_summary_text.csv', 'r', encoding='utf-8-sig')\n",
    "rdr = csv.reader(f)\n",
    "#for line in rdr:\n",
    "#    print(line)\n",
    "#f.close() \n",
    "\n",
    "# 데이터 로딩이 길어서 닫음. CSV 파일 내용 확인 하는 코드"
   ]
  },
  {
   "cell_type": "code",
   "execution_count": 172,
   "metadata": {},
   "outputs": [
    {
     "name": "stdout",
     "output_type": "stream",
     "text": [
      "<class '_io.TextIOWrapper'>\n"
     ]
    }
   ],
   "source": [
    "print(type(f))"
   ]
  },
  {
   "cell_type": "code",
   "execution_count": 200,
   "metadata": {},
   "outputs": [
    {
     "name": "stdout",
     "output_type": "stream",
     "text": [
      "Headlines:\n",
      "[]\n"
     ]
    }
   ],
   "source": [
    "print('Headlines:')\n",
    "print(summarize(data, language='english', ratio=0.5, words=10, split=True))"
   ]
  },
  {
   "cell_type": "markdown",
   "metadata": {},
   "source": [
    "### 두번째 방법"
   ]
  },
  {
   "cell_type": "code",
   "execution_count": 194,
   "metadata": {},
   "outputs": [],
   "source": [
    "csv2 = pd.read_csv('news_summary_text.csv', names = ['text'], encoding=\"utf-8\" )"
   ]
  },
  {
   "cell_type": "code",
   "execution_count": 195,
   "metadata": {},
   "outputs": [
    {
     "name": "stdout",
     "output_type": "stream",
     "text": [
      "0                                                 text\n",
      "1    Saurav Kant, an alumnus of upGrad and IIIT-B's...\n",
      "2    Kunal Shah's credit card bill payment platform...\n",
      "3    New Zealand defeated India by 8 wickets in the...\n",
      "4    With Aegon Life iTerm Insurance plan, customer...\n",
      "Name: text, dtype: object\n"
     ]
    }
   ],
   "source": [
    "data2 = csv2['text']\n",
    "print(data2[:5])"
   ]
  },
  {
   "cell_type": "code",
   "execution_count": 202,
   "metadata": {},
   "outputs": [
    {
     "name": "stdout",
     "output_type": "stream",
     "text": [
      "['text'\n",
      " \"Saurav Kant, an alumnus of upGrad and IIIT-B's PG Program in Machine learning and Artificial Intelligence, was a Sr Systems Engineer at Infosys with almost 5 years of work experience. The program and upGrad's 360-degree career support helped him transition to a Data Scientist at Tech Mahindra with 90% salary hike. upGrad's Online Power Learning has powered 3 lakh+ careers.\"\n",
      " \"Kunal Shah's credit card bill payment platform, CRED, gave users a chance to win free food from Swiggy for one year. Pranav Kaushik, a Delhi techie, bagged this reward after spending 2000 CRED coins. Users get one CRED coin per rupee of bill paid, which can be used to avail rewards from brands like Ixigo, BookMyShow, UberEats, Cult.Fit and more.\"\n",
      " \"New Zealand defeated India by 8 wickets in the fourth ODI at Hamilton on Thursday to win their first match of the five-match ODI series. India lost an international match under Rohit Sharma's captaincy after 12 consecutive victories dating back to March 2018. The match witnessed India getting all out for 92, their seventh lowest total in ODI cricket history.\"\n",
      " 'With Aegon Life iTerm Insurance plan, customers can enjoy tax benefits on your premiums paid and save up to â\\x82¹46,800^ on taxes. The plan provides life cover up to the age of 100 years. Also, customers have options to insure against Critical Illnesses, Disability and Accidental Death Benefit Rider with a life cover up to the age of 80 years.'\n",
      " 'Speaking about the sexual harassment allegations against Rajkumar Hirani, Sonam Kapoor said, \"I\\'ve known Hirani for many years...What if it\\'s not true, the [#MeToo] movement will get derailed.\" \"In the #MeToo movement, I always believe a woman. But in this case, we need to reserve our judgment,\" she added. Hirani has been accused by an assistant who worked in \\'Sanju\\'.'\n",
      " 'Pakistani singer Rahat Fateh Ali Khan has denied receiving any notice from the Enforcement Directorate over allegedly smuggling foreign currency out of India. \"It would have been better if the authorities would have served the notice first if any and then publicised this,\" reads a press release issued on behalf of Rahat. The statement further called the allegation \"bizarre\".'\n",
      " \"India recorded their lowest ODI total in New Zealand after getting all out for 92 runs in 30.5 overs in the fourth ODI at Hamilton on Thursday. Seven of India's batsmen were dismissed for single-digit scores, while their number ten batsman Yuzvendra Chahal top-scored with 18*(37). India's previous lowest ODI total in New Zealand was 108.\"\n",
      " 'Weeks after ex-CBI Director Alok Verma told the Department of Personnel and Training to consider him retired, the Home Ministry asked him to join work on the last day of his fixed tenure as Director on Thursday. The ministry directed him to immediately join as DG, Fire Services, the post he was transferred to after his removal as CBI chief.'\n",
      " 'Andhra Pradesh CM N Chandrababu Naidu has said, \"When I met then US President Bill Clinton, I addressed him as Mr Clinton, not as \\'sir\\'. (PM Narendra) Modi is my junior in politics...I addressed him as sir 10 times.\" \"I did this...to satisfy his ego in the hope that he will do justice to the state,\" he added.']\n"
     ]
    }
   ],
   "source": [
    "data2_col = data2.values\n",
    "print(data2_col[:10])"
   ]
  },
  {
   "cell_type": "code",
   "execution_count": 197,
   "metadata": {},
   "outputs": [],
   "source": [
    "tran_data2_col = str(data2_col)"
   ]
  },
  {
   "cell_type": "code",
   "execution_count": 207,
   "metadata": {},
   "outputs": [
    {
     "name": "stdout",
     "output_type": "stream",
     "text": [
      "Headlines:\n",
      "\"According to reports, a new version of the 1999 science fiction film 'The Matrix' is in development.\n"
     ]
    }
   ],
   "source": [
    "print('Headlines:')\n",
    "print(summarize(tran_data2_col, language='english', ratio=0.1))"
   ]
  },
  {
   "cell_type": "code",
   "execution_count": 211,
   "metadata": {},
   "outputs": [
    {
     "name": "stdout",
     "output_type": "stream",
     "text": [
      "Headlines:\n",
      "\"According to reports, a new version of the 1999 science fiction film 'The Matrix' is in development.\n"
     ]
    }
   ],
   "source": [
    "print('Headlines:')\n",
    "print(summarize(tran_data2_col, language='english', ratio=0.08))"
   ]
  },
  {
   "cell_type": "code",
   "execution_count": 213,
   "metadata": {},
   "outputs": [
    {
     "name": "stdout",
     "output_type": "stream",
     "text": [
      "Headlines:\n",
      "\"Saurav Kant, an alumnus of upGrad and IIIT-B's PG Program in Machine learning and Artificial Intelligence, was a Sr Systems Engineer at Infosys with almost 5 years of work experience.\n",
      "The program and upGrad's 360-degree career support helped him transition to a Data Scientist at Tech Mahindra with 90% salary hike.\n",
      "Pranav Kaushik, a Delhi techie, bagged this reward after spending 2000 CRED coins.\n",
      "Users get one CRED coin per rupee of bill paid, which can be used to avail rewards from brands like Ixigo, BookMyShow, UberEats, Cult.Fit and more.\"\n",
      "\"According to reports, a new version of the 1999 science fiction film 'The Matrix' is in development.\n",
      "Michael B Jordan will reportedly play the lead role in the film.\n",
      "Screenwriter Zak Penn is in talks to write the script of the film, reports added.\n",
      "\"A new music video shows rapper Snoop Dogg aiming a toy gun at a clown character parodying US President Donald Trump.\n",
      "The video also shows a TV airing a news conference with the headline 'Ronald Klump wants to deport all doggs' airing live from 'The Clown House'.\n"
     ]
    }
   ],
   "source": [
    "print('Headlines:')\n",
    "print(summarize(tran_data2_col, language='english', ratio=0.6))"
   ]
  },
  {
   "cell_type": "code",
   "execution_count": 214,
   "metadata": {},
   "outputs": [
    {
     "name": "stdout",
     "output_type": "stream",
     "text": [
      "Headlines:\n",
      "\"According to reports, a new version of the 1999 science fiction film 'The Matrix' is in development.\n"
     ]
    }
   ],
   "source": [
    "print('Headlines:')\n",
    "print(summarize(tran_data2_col, language='english', words=10))"
   ]
  },
  {
   "cell_type": "code",
   "execution_count": 221,
   "metadata": {},
   "outputs": [
    {
     "name": "stdout",
     "output_type": "stream",
     "text": [
      "Headlines:\n",
      "\"According to reports, a new version of the 1999 science fiction film 'The Matrix' is in development.\n"
     ]
    }
   ],
   "source": [
    "print('Headlines:')\n",
    "print(summarize(tran_data2_col, language='english', words=9))"
   ]
  },
  {
   "cell_type": "markdown",
   "metadata": {},
   "source": [
    "## 총평"
   ]
  },
  {
   "cell_type": "markdown",
   "metadata": {},
   "source": [
    "분석단계, 정제단계, 정규화와 불용어 제거, 데이터셋 분리, 인코딩 과정이 빠짐없이 체계적으로 진행하였다.\n",
    "모델학습이 안정적으로 수렴되었음을 그래프를 통해 확인하였으나, 실제 요약문과 예측 요약문이 유사하다고 판단하기 어려워 보인다. \n",
    "\n",
    "추출적 모델은 다른 모델을 고려해보야 한다. 뉴스 데이터의 경우 헤드라인을 추출하기 어렵다. \n",
    "데이터 전처리 없이 원문을 넣으면 된다고 했으나, 원문 전체를 읽어오지 못했다. \n",
    "추출적 요약 모델은 ratio=0.4이상의 요약문 적정해 보인다. 0.1 이하의 헤드라인과 같은 짧은 요약은 추출해 내지 못했다. \n",
    "\n",
    "Summa.summarize에 데이터를 넣기가 생각보다 어려웠지만, 저렇게라도 성공해서 눈물날 뻔 했다. 다른 모델도 해보면, 좀 더 확실한 비교가 될 수 있을것같아서, 학습의욕이 마구마구 생기는 task였다. ^^\n"
   ]
  }
 ],
 "metadata": {
  "kernelspec": {
   "display_name": "Python 3",
   "language": "python",
   "name": "python3"
  },
  "language_info": {
   "codemirror_mode": {
    "name": "ipython",
    "version": 3
   },
   "file_extension": ".py",
   "mimetype": "text/x-python",
   "name": "python",
   "nbconvert_exporter": "python",
   "pygments_lexer": "ipython3",
   "version": "3.7.9"
  }
 },
 "nbformat": 4,
 "nbformat_minor": 4
}
