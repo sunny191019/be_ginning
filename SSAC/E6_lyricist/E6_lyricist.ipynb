{
 "cells": [
  {
   "cell_type": "markdown",
   "metadata": {},
   "source": [
    "## 6-7. 프로젝트: 멋진 작사가 만들기"
   ]
  },
  {
   "cell_type": "markdown",
   "metadata": {},
   "source": [
    "### 실습\n",
    "*  데이터 다듬기\n",
    "*  인공지능 학습시키기\n",
    "*  잘 만들어졌는지 평가하기"
   ]
  },
  {
   "cell_type": "markdown",
   "metadata": {},
   "source": [
    "### 1. 데이터 읽어오기"
   ]
  },
  {
   "cell_type": "code",
   "execution_count": 48,
   "metadata": {},
   "outputs": [
    {
     "name": "stdout",
     "output_type": "stream",
     "text": [
      "데이터 크기: 187088\n",
      "Examples:\n",
      " ['\\ufeffEighteen years eighteen years', 'She got one of your kids got you for eighteen years', 'I know somebody paying child support for one of his kids']\n"
     ]
    }
   ],
   "source": [
    "import re                  # 정규표현식을 위한 Regex 지원 모듈 (문장 데이터를 정돈하기 위해) \n",
    "import numpy as np         # 변환된 문장 데이터(행렬)을 편하게 처리하기 위해\n",
    "import tensorflow as tf    # 대망의 텐서플로우!\n",
    "import glob                # glob 모듈을 사용하면 파일을 읽어오는 작업을 하기가 아주 용이해요.\n",
    "import os\n",
    "\n",
    "txt_file_path = os.getenv('HOME')+'/aiffel/e6.lyricist/data/lyrics/*'\n",
    "\n",
    "txt_list = glob.glob(txt_file_path)\n",
    "\n",
    "raw_corpus = []\n",
    "\n",
    "# 여러개의 txt 파일을 모두 읽어서 raw_corpus 에 담습니다.\n",
    "for txt_file in txt_list:\n",
    "    with open(txt_file, \"r\") as f:\n",
    "        raw = f.read().splitlines()\n",
    "        raw_corpus.extend(raw)\n",
    "\n",
    "print(\"데이터 크기:\", len(raw_corpus))\n",
    "print(\"Examples:\\n\", raw_corpus[:3])"
   ]
  },
  {
   "cell_type": "code",
   "execution_count": 49,
   "metadata": {
    "scrolled": true
   },
   "outputs": [
    {
     "name": "stdout",
     "output_type": "stream",
     "text": [
      "﻿Eighteen years eighteen years\n",
      "She got one of your kids got you for eighteen years\n",
      "I know somebody paying child support for one of his kids\n",
      "His baby mama car and crib is bigger than his\n",
      "You will see him on TV any given Sunday\n",
      "Win the Super Bowl and drive off in a Hyundai\n",
      "She was supposed to buy your shorty Tyco with your money\n",
      "She went to the doctor got lipo with your money\n",
      "She walking around looking like Michael with your money\n",
      "Shouldve got that insured Geico for your money\n"
     ]
    }
   ],
   "source": [
    "for idx, sentence in enumerate(raw_corpus):\n",
    "    if len(sentence) == 0: continue   # 길이가 0인 문장은 건너뜁니다.\n",
    "    if sentence[-1] == \":\": continue  # 문장의 끝이 : 인 문장은 건너뜁니다.\n",
    "\n",
    "    if idx > 9: break   # 일단 문장 10개만 확인해 볼 겁니다.\n",
    "        \n",
    "    print(sentence)"
   ]
  },
  {
   "cell_type": "markdown",
   "metadata": {},
   "source": [
    "### 2.데이터 정제"
   ]
  },
  {
   "cell_type": "code",
   "execution_count": 50,
   "metadata": {},
   "outputs": [
    {
     "name": "stdout",
     "output_type": "stream",
     "text": [
      "<start> this is sample sentence . <end>\n"
     ]
    }
   ],
   "source": [
    "#데이터셋 정제\n",
    "def preprocess_sentence(sentence):\n",
    "    sentence = sentence.lower().strip()       # 소문자로 바꾸고 양쪽 공백을 삭제\n",
    "  \n",
    "    # 아래 3단계를 거쳐 sentence는 스페이스 1개를 delimeter로 하는 소문자 단어 시퀀스로 바뀝니다.\n",
    "    sentence = re.sub(r\"([?.!,¿])\", r\" \\1 \", sentence)        # 패턴의 특수문자를 만나면 특수문자 양쪽에 공백을 추가\n",
    "    sentence = re.sub(r'[\" \"]+', \" \", sentence)                  # 공백 패턴을 만나면 스페이스 1개로 치환\n",
    "    sentence = re.sub(r\"[^a-zA-Z?.!,¿]+\", \" \", sentence)  # a-zA-Z?.!,¿ 패턴을 제외한 모든 문자(공백문자까지도)를 스페이스 1개로 치환\n",
    "\n",
    "    sentence = sentence.strip()\n",
    "\n",
    "    sentence = '<start> ' + sentence + ' <end>'      # 이전 스텝에서 본 것처럼 문장 앞뒤로 <start>와 <end>를 단어처럼 붙여 줍니다\n",
    "    \n",
    "    return sentence\n",
    "\n",
    "print(preprocess_sentence(\"This @_is ;;;sample        sentence.\"))   # 이 문장이 어떻게 필터링되는지 확인해 보세요.\n"
   ]
  },
  {
   "cell_type": "code",
   "execution_count": 51,
   "metadata": {},
   "outputs": [
    {
     "name": "stdout",
     "output_type": "stream",
     "text": [
      "187088\n"
     ]
    },
    {
     "data": {
      "text/plain": [
       "['<start> eighteen years eighteen years <end>',\n",
       " '<start> she got one of your kids got you for eighteen years <end>',\n",
       " '<start> i know somebody paying child support for one of his kids <end>',\n",
       " '<start> his baby mama car and crib is bigger than his <end>',\n",
       " '<start> you will see him on tv any given sunday <end>',\n",
       " '<start> win the super bowl and drive off in a hyundai <end>',\n",
       " '<start> she was supposed to buy your shorty tyco with your money <end>',\n",
       " '<start> she went to the doctor got lipo with your money <end>',\n",
       " '<start> she walking around looking like michael with your money <end>',\n",
       " '<start> shouldve got that insured geico for your money <end>']"
      ]
     },
     "execution_count": 51,
     "metadata": {},
     "output_type": "execute_result"
    }
   ],
   "source": [
    "corpus = []\n",
    "\n",
    "for sentence in raw_corpus:\n",
    "    corpus.append(preprocess_sentence(sentence))\n",
    "print(len(corpus)) \n",
    "\n",
    "corpus[:10]"
   ]
  },
  {
   "cell_type": "markdown",
   "metadata": {},
   "source": [
    "#### 토큰화"
   ]
  },
  {
   "cell_type": "code",
   "execution_count": 52,
   "metadata": {},
   "outputs": [
    {
     "name": "stdout",
     "output_type": "stream",
     "text": [
      "[[   2 2424  433 ...    0    0    0]\n",
      " [   2   44   37 ...    3    0    0]\n",
      " [   2    4   34 ...    3    0    0]\n",
      " ...\n",
      " [   2  233    1 ...    0    0    0]\n",
      " [   2   10  500 ...    0    0    0]\n",
      " [   2  121   19 ...    0    0    0]] <keras_preprocessing.text.Tokenizer object at 0x7f671c9ad890>\n"
     ]
    }
   ],
   "source": [
    "def tokenize(corpus):\n",
    "    # 텐서플로우에서 제공하는 Tokenizer 패키지를 생성\n",
    "    tokenizer = tf.keras.preprocessing.text.Tokenizer(\n",
    "        num_words=12000,  # 단어장 크기  \n",
    "        filters=' ',    # 별도로 전처리 로직을 추가할 수 있습니다. 이번에는 사용하지 않겠습니다.\n",
    "        oov_token=\"<unk>\"  # out-of-vocabulary, 사전에 없었던 단어는 어떤 토큰으로 대체할지\n",
    "    )\n",
    "    \n",
    "    corpus = [x for x in corpus if len(x.split()) <= 15]\n",
    "\n",
    "    tokenizer.fit_on_texts(corpus)   # 우리가 구축한 corpus로부터 Tokenizer가 사전을 자동구축하게 됩니다.\n",
    "\n",
    "    # 이후 tokenizer를 활용하여 모델에 입력할 데이터셋을 구축하게 됩니다.\n",
    "    tensor = tokenizer.texts_to_sequences(corpus)   # tokenizer는 구축한 사전으로부터 corpus를 해석해 Tensor로 변환합니다.\n",
    "\n",
    "    # 입력 데이터의 시퀀스 길이를 일정하게 맞추기 위한 padding  메소드를 제공합니다.\n",
    "    # maxlen의 디폴트값은 None입니다. 이 경우 corpus의 가장 긴 문장을 기준으로 시퀀스 길이가 맞춰집니다.\n",
    "    tensor = tf.keras.preprocessing.sequence.pad_sequences(tensor, padding='post')  \n",
    "\n",
    "    print(tensor,tokenizer)\n",
    "    return tensor, tokenizer\n",
    "\n",
    "tensor, tokenizer = tokenize(corpus)"
   ]
  },
  {
   "cell_type": "code",
   "execution_count": 53,
   "metadata": {},
   "outputs": [
    {
     "name": "stdout",
     "output_type": "stream",
     "text": [
      "1 : <unk>\n",
      "2 : <start>\n",
      "3 : <end>\n",
      "4 : i\n",
      "5 : ,\n",
      "6 : the\n",
      "7 : you\n",
      "8 : and\n",
      "9 : a\n",
      "10 : to\n"
     ]
    }
   ],
   "source": [
    "for idx in tokenizer.index_word:\n",
    "    print(idx, \":\", tokenizer.index_word[idx])\n",
    "\n",
    "    if idx >= 10: break"
   ]
  },
  {
   "cell_type": "code",
   "execution_count": 54,
   "metadata": {
    "scrolled": true
   },
   "outputs": [
    {
     "name": "stdout",
     "output_type": "stream",
     "text": [
      "[   2 2424  433 2424  433    3    0    0    0    0    0    0    0    0]\n",
      "[2424  433 2424  433    3    0    0    0    0    0    0    0    0    0]\n"
     ]
    }
   ],
   "source": [
    "src_input = tensor[:, :-1]  # tensor에서 마지막 토큰을 잘라내서 소스 문장을 생성합니다. 마지막 토큰은 <end>가 아니라 <pad>일 가능성이 높습니다.\n",
    "tgt_input = tensor[:, 1:]    # tensor에서 <start>를 잘라내서 타겟 문장을 생성합니다.\n",
    "\n",
    "print(src_input[0])\n",
    "print(tgt_input[0])"
   ]
  },
  {
   "cell_type": "code",
   "execution_count": 55,
   "metadata": {},
   "outputs": [
    {
     "data": {
      "text/plain": [
       "<BatchDataset shapes: ((256, 14), (256, 14)), types: (tf.int32, tf.int32)>"
      ]
     },
     "execution_count": 55,
     "metadata": {},
     "output_type": "execute_result"
    }
   ],
   "source": [
    "#tf.data.Dataset.from_tensor_slices() 메소드를 이용해 tf.data.Dataset객체를 생성할 것입니다.\n",
    "\n",
    "BUFFER_SIZE = len(src_input)\n",
    "BATCH_SIZE = 256\n",
    "steps_per_epoch = len(src_input) // BATCH_SIZE\n",
    "\n",
    "VOCAB_SIZE = tokenizer.num_words + 1    # tokenizer가 구축한 단어사전, 여기 포함되지 않은 0:<pad>를 포함하여 7001개\n",
    "\n",
    "dataset = tf.data.Dataset.from_tensor_slices((src_input, tgt_input)).shuffle(BUFFER_SIZE)\n",
    "dataset = dataset.batch(BATCH_SIZE, drop_remainder=True)\n",
    "dataset"
   ]
  },
  {
   "cell_type": "markdown",
   "metadata": {},
   "source": [
    "### 3. 평가 데이터셋 분리"
   ]
  },
  {
   "cell_type": "code",
   "execution_count": 56,
   "metadata": {},
   "outputs": [],
   "source": [
    "from sklearn.model_selection import train_test_split\n",
    "\n",
    "enc_train, enc_val, dec_train, dec_val = train_test_split(src_input, tgt_input, test_size = 0.2, shuffle = True, random_state = 30)"
   ]
  },
  {
   "cell_type": "code",
   "execution_count": 57,
   "metadata": {},
   "outputs": [
    {
     "name": "stdout",
     "output_type": "stream",
     "text": [
      "Source Train: (133863, 14)\n",
      "Target Train: (133863, 14)\n"
     ]
    }
   ],
   "source": [
    "print(\"Source Train:\", enc_train.shape)\n",
    "print(\"Target Train:\", dec_train.shape)"
   ]
  },
  {
   "cell_type": "markdown",
   "metadata": {},
   "source": [
    "### 4.인공지능 만들기"
   ]
  },
  {
   "cell_type": "code",
   "execution_count": 58,
   "metadata": {},
   "outputs": [],
   "source": [
    "#모델에는 1개의 Embedding 레이어, 2개의 LSTM 레이어, 1개의 Dense 레이어로 구성\n",
    "\n",
    "class TextGenerator(tf.keras.Model):\n",
    "    def __init__(self, vocab_size, embedding_size, hidden_size):\n",
    "        super(TextGenerator, self).__init__()\n",
    "        \n",
    "        self.embedding = tf.keras.layers.Embedding(vocab_size, embedding_size)\n",
    "        self.rnn_1 = tf.keras.layers.LSTM(hidden_size, return_sequences=True)\n",
    "        self.rnn_2 = tf.keras.layers.LSTM(hidden_size, return_sequences=True)\n",
    "        self.linear = tf.keras.layers.Dense(vocab_size)\n",
    "        \n",
    "    def call(self, x):\n",
    "        out = self.embedding(x)\n",
    "        out = self.rnn_1(out)\n",
    "        out = self.rnn_2(out)\n",
    "        out = self.linear(out)\n",
    "        \n",
    "        return out\n",
    "    \n",
    "embedding_size = 256\n",
    "hidden_size = 1024\n",
    "model = TextGenerator(tokenizer.num_words + 1, embedding_size , hidden_size)"
   ]
  },
  {
   "cell_type": "code",
   "execution_count": 59,
   "metadata": {},
   "outputs": [
    {
     "data": {
      "text/plain": [
       "<tf.Tensor: shape=(256, 14, 12001), dtype=float32, numpy=\n",
       "array([[[ 3.05832400e-05,  6.58686040e-05, -1.22613992e-05, ...,\n",
       "         -6.23611686e-06,  9.34785130e-05, -4.33518981e-05],\n",
       "        [ 3.43226100e-04, -3.31389965e-05, -2.83583031e-05, ...,\n",
       "          4.25766993e-05,  2.06908633e-04, -6.13380907e-05],\n",
       "        [ 8.68272327e-04, -1.18595155e-04,  1.55964313e-04, ...,\n",
       "          8.49534190e-05,  1.92536434e-04, -3.43159714e-04],\n",
       "        ...,\n",
       "        [-8.67093098e-04, -4.66616504e-04, -5.73375844e-04, ...,\n",
       "          7.11285102e-04, -2.18296261e-03,  6.92112444e-05],\n",
       "        [-1.27605803e-03, -6.86682528e-04, -8.29066790e-04, ...,\n",
       "          1.00520754e-03, -2.68615247e-03,  1.61742733e-04],\n",
       "        [-1.58462080e-03, -9.13657481e-04, -1.07705477e-03, ...,\n",
       "          1.31682388e-03, -3.13556660e-03,  1.97160203e-04]],\n",
       "\n",
       "       [[ 3.05832400e-05,  6.58686040e-05, -1.22613992e-05, ...,\n",
       "         -6.23611686e-06,  9.34785130e-05, -4.33518981e-05],\n",
       "        [ 1.14522329e-04,  2.25281430e-04, -3.64789012e-05, ...,\n",
       "          5.00036658e-05,  5.02525691e-05, -2.02066556e-04],\n",
       "        [ 2.20905524e-04,  5.37585234e-04, -1.67619990e-04, ...,\n",
       "          2.39428973e-05, -2.84209731e-04, -2.89252814e-04],\n",
       "        ...,\n",
       "        [-2.02336395e-03, -4.53776709e-04, -7.92917795e-04, ...,\n",
       "          8.68420873e-04, -2.91914283e-03, -1.44198246e-04],\n",
       "        [-2.21763458e-03, -7.37819704e-04, -1.03488122e-03, ...,\n",
       "          1.21039327e-03, -3.33628501e-03, -7.18953015e-05],\n",
       "        [-2.33218237e-03, -9.99960001e-04, -1.26056187e-03, ...,\n",
       "          1.54894113e-03, -3.69493780e-03, -4.90828170e-05]],\n",
       "\n",
       "       [[ 3.05832400e-05,  6.58686040e-05, -1.22613992e-05, ...,\n",
       "         -6.23611686e-06,  9.34785130e-05, -4.33518981e-05],\n",
       "        [ 2.47134565e-04,  2.34407635e-04,  3.09324059e-06, ...,\n",
       "          7.37679002e-05,  1.83090247e-04, -3.68983718e-04],\n",
       "        [ 4.49710322e-04,  4.42373566e-04, -2.05507997e-04, ...,\n",
       "          1.05720006e-04,  2.71613710e-04, -5.84807422e-04],\n",
       "        ...,\n",
       "        [-1.32508890e-03, -1.49597996e-03, -6.32099982e-04, ...,\n",
       "          8.64938047e-05, -1.91106461e-03, -7.68564278e-05],\n",
       "        [-1.59726769e-03, -1.61612278e-03, -9.07179026e-04, ...,\n",
       "          4.46814549e-04, -2.43887631e-03, -3.80389683e-05],\n",
       "        [-1.78541243e-03, -1.73611334e-03, -1.15867448e-03, ...,\n",
       "          8.27444717e-04, -2.90839281e-03, -4.14657516e-05]],\n",
       "\n",
       "       ...,\n",
       "\n",
       "       [[ 3.05832400e-05,  6.58686040e-05, -1.22613992e-05, ...,\n",
       "         -6.23611686e-06,  9.34785130e-05, -4.33518981e-05],\n",
       "        [ 1.85536555e-04,  7.03990372e-06, -1.01801474e-04, ...,\n",
       "         -7.58482156e-06,  2.52611440e-04,  1.26215309e-04],\n",
       "        [ 3.48347239e-04,  1.22192505e-04, -1.30285451e-04, ...,\n",
       "          6.69247947e-06,  2.89200660e-04,  7.70731785e-05],\n",
       "        ...,\n",
       "        [ 1.42846827e-03,  3.54426418e-04,  9.34102136e-05, ...,\n",
       "         -9.17043479e-04, -1.87790329e-06,  4.97285044e-04],\n",
       "        [ 1.29861757e-03,  1.85507815e-04,  9.48107481e-05, ...,\n",
       "         -1.05228659e-03,  1.53181085e-04,  3.71551432e-04],\n",
       "        [ 8.73525627e-04, -3.40599836e-05, -6.90214656e-05, ...,\n",
       "         -9.76968324e-04, -3.92427974e-05,  4.19930468e-04]],\n",
       "\n",
       "       [[ 3.05832400e-05,  6.58686040e-05, -1.22613992e-05, ...,\n",
       "         -6.23611686e-06,  9.34785130e-05, -4.33518981e-05],\n",
       "        [-5.73408324e-05,  3.39713035e-04,  1.02037440e-04, ...,\n",
       "          8.94574841e-05, -2.86475242e-05, -1.07170614e-04],\n",
       "        [-1.93419328e-04,  7.27129169e-04,  4.28291205e-05, ...,\n",
       "          1.67213613e-04, -6.63831670e-05, -2.68801959e-04],\n",
       "        ...,\n",
       "        [-2.54159817e-03, -1.85970166e-05,  3.96427989e-04, ...,\n",
       "          2.89111456e-04, -2.33024475e-03, -4.85412253e-04],\n",
       "        [-2.76173512e-03, -3.27320362e-04,  1.60407290e-04, ...,\n",
       "          6.65965199e-04, -2.84345797e-03, -3.89720488e-04],\n",
       "        [-2.89297104e-03, -6.17306272e-04, -1.00954501e-04, ...,\n",
       "          1.06458180e-03, -3.29497620e-03, -3.36914847e-04]],\n",
       "\n",
       "       [[ 3.05832400e-05,  6.58686040e-05, -1.22613992e-05, ...,\n",
       "         -6.23611686e-06,  9.34785130e-05, -4.33518981e-05],\n",
       "        [ 1.14522329e-04,  2.25281430e-04, -3.64789012e-05, ...,\n",
       "          5.00036658e-05,  5.02525691e-05, -2.02066556e-04],\n",
       "        [-8.31247453e-05,  2.86699884e-04, -1.43455822e-04, ...,\n",
       "          7.04384438e-05,  2.89894706e-05, -4.93166503e-04],\n",
       "        ...,\n",
       "        [-7.28161074e-04, -7.63830903e-04,  5.66476047e-05, ...,\n",
       "          1.43267835e-05, -6.53958588e-04, -2.17855762e-04],\n",
       "        [-1.13892544e-03, -9.81854973e-04, -1.27838692e-04, ...,\n",
       "          2.56800209e-04, -1.20486168e-03, -4.32990055e-05],\n",
       "        [-1.49062509e-03, -1.19052012e-03, -3.62296822e-04, ...,\n",
       "          5.68427844e-04, -1.78600091e-03,  8.13579827e-05]]],\n",
       "      dtype=float32)>"
      ]
     },
     "execution_count": 59,
     "metadata": {},
     "output_type": "execute_result"
    }
   ],
   "source": [
    "for src_sample, tgt_sample in dataset.take(1): break\n",
    "model(src_sample)\n"
   ]
  },
  {
   "cell_type": "code",
   "execution_count": 60,
   "metadata": {},
   "outputs": [
    {
     "name": "stdout",
     "output_type": "stream",
     "text": [
      "Model: \"text_generator_3\"\n",
      "_________________________________________________________________\n",
      "Layer (type)                 Output Shape              Param #   \n",
      "=================================================================\n",
      "embedding_3 (Embedding)      multiple                  3072256   \n",
      "_________________________________________________________________\n",
      "lstm_6 (LSTM)                multiple                  5246976   \n",
      "_________________________________________________________________\n",
      "lstm_7 (LSTM)                multiple                  8392704   \n",
      "_________________________________________________________________\n",
      "dense_3 (Dense)              multiple                  12301025  \n",
      "=================================================================\n",
      "Total params: 29,012,961\n",
      "Trainable params: 29,012,961\n",
      "Non-trainable params: 0\n",
      "_________________________________________________________________\n"
     ]
    }
   ],
   "source": [
    "model.summary()"
   ]
  },
  {
   "cell_type": "code",
   "execution_count": 62,
   "metadata": {},
   "outputs": [
    {
     "name": "stdout",
     "output_type": "stream",
     "text": [
      "Epoch 1/10\n",
      "653/653 [==============================] - 92s 140ms/step - loss: 2.5487 - val_loss: 2.4235\n",
      "Epoch 2/10\n",
      "653/653 [==============================] - 91s 140ms/step - loss: 2.3913 - val_loss: 2.2807\n",
      "Epoch 3/10\n",
      "653/653 [==============================] - 93s 143ms/step - loss: 2.2625 - val_loss: 2.1548\n",
      "Epoch 4/10\n",
      "653/653 [==============================] - 91s 140ms/step - loss: 2.1448 - val_loss: 2.0375\n",
      "Epoch 5/10\n",
      "653/653 [==============================] - 92s 140ms/step - loss: 2.0388 - val_loss: 1.9387\n",
      "Epoch 6/10\n",
      "653/653 [==============================] - 91s 140ms/step - loss: 1.9443 - val_loss: 1.8454\n",
      "Epoch 7/10\n",
      "653/653 [==============================] - 91s 140ms/step - loss: 1.8582 - val_loss: 1.7622\n",
      "Epoch 8/10\n",
      "653/653 [==============================] - 91s 140ms/step - loss: 1.7785 - val_loss: 1.6871\n",
      "Epoch 9/10\n",
      "653/653 [==============================] - 91s 140ms/step - loss: 1.7045 - val_loss: 1.6141\n",
      "Epoch 10/10\n",
      "653/653 [==============================] - 91s 139ms/step - loss: 1.6350 - val_loss: 1.5456\n",
      "[2.423475503921509, 2.2807464599609375, 2.1547765731811523, 2.037471294403076, 1.938650131225586, 1.8453866243362427, 1.7622463703155518, 1.6871494054794312, 1.614059329032898, 1.5456215143203735]\n"
     ]
    }
   ],
   "source": [
    "optimizer = tf.keras.optimizers.Adam()\n",
    "loss = tf.keras.losses.SparseCategoricalCrossentropy(\n",
    "    from_logits=True,\n",
    "    reduction='none'\n",
    ")\n",
    "\n",
    "model.compile(loss=loss, optimizer=optimizer)\n",
    "hist = model.fit(dataset, epochs=10,validation_data=(enc_val, dec_val))\n",
    "print(hist.history['val_loss'])"
   ]
  },
  {
   "cell_type": "markdown",
   "metadata": {},
   "source": [
    "###  5.평가하기"
   ]
  },
  {
   "cell_type": "code",
   "execution_count": 63,
   "metadata": {},
   "outputs": [],
   "source": [
    "def generate_text(model, tokenizer, init_sentence=\"<start>\", max_len=20):\n",
    "    # 테스트를 위해서 입력받은 init_sentence도 일단 텐서로 변환합니다.\n",
    "    test_input = tokenizer.texts_to_sequences([init_sentence])\n",
    "    test_tensor = tf.convert_to_tensor(test_input, dtype=tf.int64)\n",
    "    end_token = tokenizer.word_index[\"<end>\"]\n",
    "\n",
    "    # 텍스트를 실제로 생성할때는 루프를 돌면서 단어 하나씩 생성해야 합니다. \n",
    "    while True:\n",
    "        predict = model(test_tensor)  # 입력받은 문장의 텐서를 입력합니다. \n",
    "        predict_word = tf.argmax(tf.nn.softmax(predict, axis=-1), axis=-1)[:, -1]   # 우리 모델이 예측한 마지막 단어가 바로 새롭게 생성한 단어가 됩니다. \n",
    "\n",
    "        # 우리 모델이 새롭게 예측한 단어를 입력 문장의 뒤에 붙여 줍니다. \n",
    "        test_tensor = tf.concat([test_tensor, \n",
    "                                                                 tf.expand_dims(predict_word, axis=0)], axis=-1)\n",
    "\n",
    "        # 우리 모델이 <end>를 예측했거나, max_len에 도달하지 않았다면  while 루프를 또 돌면서 다음 단어를 예측해야 합니다.\n",
    "        if predict_word.numpy()[0] == end_token: break\n",
    "        if test_tensor.shape[1] >= max_len: break\n",
    "\n",
    "    generated = \"\"\n",
    "    # 생성된 tensor 안에 있는 word index를 tokenizer.index_word 사전을 통해 실제 단어로 하나씩 변환합니다. \n",
    "    for word_index in test_tensor[0].numpy():\n",
    "        generated += tokenizer.index_word[word_index] + \" \"\n",
    "\n",
    "    return generated   # 이것이 최종적으로 모델이 생성한 자연어 문장입니다."
   ]
  },
  {
   "cell_type": "code",
   "execution_count": 67,
   "metadata": {},
   "outputs": [
    {
     "data": {
      "text/plain": [
       "'<start> i love you , i love you <end> '"
      ]
     },
     "execution_count": 67,
     "metadata": {},
     "output_type": "execute_result"
    }
   ],
   "source": [
    "generate_text(model, tokenizer, init_sentence=\"<start> i love\")"
   ]
  },
  {
   "cell_type": "markdown",
   "metadata": {},
   "source": [
    "### 총평"
   ]
  },
  {
   "cell_type": "markdown",
   "metadata": {},
   "source": [
    "* val_loss가 2.2 이하여야 한다고 했는데, 3번째 EPOCH 에서 2.2 이하  수준으로 확인되었다. \n",
    "\n",
    "* 텍스트 마이닝 동영상 강의 자료가 빅데이터 R 분야가 많이 있어서, (대부분 영어 강의이거나) 강의가 없는 것이 아쉬웠다. \n",
    "\n",
    "* 지금까지 한 exploration 중에서 주석이 가장 꼼꼼하게 달린 친절한 노드였다. 강의가 없는 자기주도 학습이라면 이 정도 주석은 있어야, 구글링을 해도 시간 낭비가 덜하다. \n",
    "\n",
    "* LSTM모델을 두 번쨰 실습해 봤으니, 연휴 기간동안 비교해보고 꼼꼼히 다시 공부해 봐야 겠다. "
   ]
  }
 ],
 "metadata": {
  "kernelspec": {
   "display_name": "Python 3",
   "language": "python",
   "name": "python3"
  },
  "language_info": {
   "codemirror_mode": {
    "name": "ipython",
    "version": 3
   },
   "file_extension": ".py",
   "mimetype": "text/x-python",
   "name": "python",
   "nbconvert_exporter": "python",
   "pygments_lexer": "ipython3",
   "version": "3.7.9"
  }
 },
 "nbformat": 4,
 "nbformat_minor": 4
}
