{
 "cells": [
  {
   "cell_type": "markdown",
   "metadata": {},
   "source": [
    "## E4-11. 프로젝트 : 네이버 영화리뷰 감성분석 도전하기\n",
    "\n",
    "### 1) 데이터 준비와 확인\n",
    "\n",
    "----"
   ]
  },
  {
   "cell_type": "code",
   "execution_count": 37,
   "metadata": {},
   "outputs": [
    {
     "data": {
      "text/html": [
       "<div>\n",
       "<style scoped>\n",
       "    .dataframe tbody tr th:only-of-type {\n",
       "        vertical-align: middle;\n",
       "    }\n",
       "\n",
       "    .dataframe tbody tr th {\n",
       "        vertical-align: top;\n",
       "    }\n",
       "\n",
       "    .dataframe thead th {\n",
       "        text-align: right;\n",
       "    }\n",
       "</style>\n",
       "<table border=\"1\" class=\"dataframe\">\n",
       "  <thead>\n",
       "    <tr style=\"text-align: right;\">\n",
       "      <th></th>\n",
       "      <th>id</th>\n",
       "      <th>document</th>\n",
       "      <th>label</th>\n",
       "    </tr>\n",
       "  </thead>\n",
       "  <tbody>\n",
       "    <tr>\n",
       "      <th>0</th>\n",
       "      <td>9976970</td>\n",
       "      <td>아 더빙.. 진짜 짜증나네요 목소리</td>\n",
       "      <td>0</td>\n",
       "    </tr>\n",
       "    <tr>\n",
       "      <th>1</th>\n",
       "      <td>3819312</td>\n",
       "      <td>흠...포스터보고 초딩영화줄....오버연기조차 가볍지 않구나</td>\n",
       "      <td>1</td>\n",
       "    </tr>\n",
       "    <tr>\n",
       "      <th>2</th>\n",
       "      <td>10265843</td>\n",
       "      <td>너무재밓었다그래서보는것을추천한다</td>\n",
       "      <td>0</td>\n",
       "    </tr>\n",
       "    <tr>\n",
       "      <th>3</th>\n",
       "      <td>9045019</td>\n",
       "      <td>교도소 이야기구먼 ..솔직히 재미는 없다..평점 조정</td>\n",
       "      <td>0</td>\n",
       "    </tr>\n",
       "    <tr>\n",
       "      <th>4</th>\n",
       "      <td>6483659</td>\n",
       "      <td>사이몬페그의 익살스런 연기가 돋보였던 영화!스파이더맨에서 늙어보이기만 했던 커스틴 ...</td>\n",
       "      <td>1</td>\n",
       "    </tr>\n",
       "  </tbody>\n",
       "</table>\n",
       "</div>"
      ],
      "text/plain": [
       "         id                                           document  label\n",
       "0   9976970                                아 더빙.. 진짜 짜증나네요 목소리      0\n",
       "1   3819312                  흠...포스터보고 초딩영화줄....오버연기조차 가볍지 않구나      1\n",
       "2  10265843                                  너무재밓었다그래서보는것을추천한다      0\n",
       "3   9045019                      교도소 이야기구먼 ..솔직히 재미는 없다..평점 조정      0\n",
       "4   6483659  사이몬페그의 익살스런 연기가 돋보였던 영화!스파이더맨에서 늙어보이기만 했던 커스틴 ...      1"
      ]
     },
     "execution_count": 37,
     "metadata": {},
     "output_type": "execute_result"
    }
   ],
   "source": [
    "import pandas as pd\n",
    "import urllib.request\n",
    "%matplotlib inline\n",
    "import matplotlib.pyplot as plt\n",
    "import re\n",
    "from konlpy.tag import Okt\n",
    "from tensorflow import keras\n",
    "from tensorflow.keras.preprocessing.text import Tokenizer\n",
    "import numpy as np\n",
    "from tensorflow.keras.preprocessing.sequence import pad_sequences\n",
    "from collections import Counter\n",
    "\n",
    "# 데이터를 읽어봅시다. \n",
    "train_data = pd.read_table('~/aiffel/sentiment_classification/ratings_train.txt')\n",
    "test_data = pd.read_table('~/aiffel/sentiment_classification/ratings_test.txt')\n",
    "\n",
    "train_data.head()"
   ]
  },
  {
   "cell_type": "markdown",
   "metadata": {},
   "source": [
    "### 2) 데이터로더 구성\n",
    "\n",
    "실습때 다루었던 IMDB 데이터셋은 텍스트를 가공하여 imdb.data_loader() 메소드를 호출하면 숫자 인덱스로 변환된 텍스트와 word_to_index 딕셔너리까지 친절하게 제공합니다. 그러나 이번에 다루게 될 nsmc 데이터셋은 전혀 가공되지 않은 텍스트 파일로 이루어져 있습니다. 이것을 읽어서 imdb.data_loader()와 동일하게 동작하는 자신만의 data_loader를 만들어 보는 것으로 시작합니다. data_loader 안에서는 다음을 수행해야 합니다.\n",
    "\n",
    "* 데이터의 중복 제거\n",
    "* NaN 결측치 제거\n",
    "* 한국어 토크나이저로 토큰화\n",
    "* 불용어(Stopwords) 제거\n",
    "* 사전word_to_index 구성\n",
    "* 텍스트 스트링을 사전 인덱스 스트링으로 변환\n",
    "* X_train, y_train, X_test, y_test, word_to_index 리턴\n"
   ]
  },
  {
   "cell_type": "code",
   "execution_count": 38,
   "metadata": {},
   "outputs": [],
   "source": [
    "from konlpy.tag import Mecab\n",
    "tokenizer = Mecab()\n",
    "stopwords = ['의','가','이','은','들','는','좀','잘','걍','과','도','를','으로','자','에','와','한','하다']\n",
    "\n",
    "\n",
    "def load_data(train_data, test_data, num_words=10000):    \n",
    "    train_data.drop_duplicates(subset=['document'], inplace=True) # 중복제거\n",
    "    train_data = train_data.dropna(how = 'any') # nan 제거\n",
    "    test_data.drop_duplicates(subset=['document'], inplace=True) # 중복제거\n",
    "    test_data = test_data.dropna(how = 'any') #na 제거\n",
    "\n",
    "    X_train = []\n",
    "    for sentence in train_data['document']:\n",
    "        temp_X = tokenizer.morphs(sentence) # 토큰화\n",
    "        temp_X = [word for word in temp_X if not word in stopwords] # 불용어 제거\n",
    "        X_train.append(temp_X)\n",
    "\n",
    "    X_test = []\n",
    "    for sentence in test_data['document']:\n",
    "        temp_X = tokenizer.morphs(sentence) # 토큰화\n",
    "        temp_X = [word for word in temp_X if not word in stopwords] # 불용어 제거\n",
    "        X_test.append(temp_X)\n",
    "\n",
    "    words = np.concatenate(X_train).tolist()\n",
    "    counter = Counter(words)\n",
    "    counter = counter.most_common(10000-4)\n",
    "    vocab = ['<PAD>', '<BOS>', '<UNK>', '<UNUSED>'] + [key for key, _ in counter]\n",
    "    word_to_index = {word:index for index, word in enumerate(vocab)}\n",
    "\n",
    "    def wordlist_to_indexlist(wordlist):\n",
    "        return [word_to_index[word] if word in word_to_index else word_to_index['<UNK>'] for word in wordlist]\n",
    "\n",
    "    X_train = list(map(wordlist_to_indexlist, X_train))\n",
    "    X_test = list(map(wordlist_to_indexlist, X_test))\n",
    "\n",
    "    return X_train, np.array(list(train_data['label'])), X_test, np.array(list(test_data['label'])), word_to_index\n"
   ]
  },
  {
   "cell_type": "code",
   "execution_count": 39,
   "metadata": {},
   "outputs": [
    {
     "name": "stdout",
     "output_type": "stream",
     "text": [
      "146182\n"
     ]
    }
   ],
   "source": [
    "#### 데이터 로더 고고 \n",
    "X_train, y_train, X_test, y_test, word_to_index = load_data(train_data, test_data)\n",
    "print(len(X_train))"
   ]
  },
  {
   "cell_type": "code",
   "execution_count": 40,
   "metadata": {},
   "outputs": [
    {
     "name": "stdout",
     "output_type": "stream",
     "text": [
      "10000\n"
     ]
    }
   ],
   "source": [
    "# 워드 익덱서 생성\n",
    "index_to_word = {index:word for word, index in word_to_index.items()}\n",
    "print(len(index_to_word))\n"
   ]
  },
  {
   "cell_type": "code",
   "execution_count": 41,
   "metadata": {},
   "outputs": [],
   "source": [
    "# 문장 1개를 활용할 딕셔너리와 함께 주면, 단어 인덱스 리스트 벡터로 변환해 주는 함수입니다. \n",
    "# 단, 모든 문장은 <BOS>로 시작하는 것으로 합니다. \n",
    "def get_encoded_sentence(sentence, word_to_index):\n",
    "    return [word_to_index['<BOS>']]+[word_to_index[word] if word in word_to_index else word_to_index['<UNK>'] for word in sentence.split()]\n",
    "\n",
    "# 여러 개의 문장 리스트를 한꺼번에 단어 인덱스 리스트 벡터로 encode해 주는 함수입니다. \n",
    "def get_encoded_sentences(sentences, word_to_index):\n",
    "    return [get_encoded_sentence(sentence, word_to_index) for sentence in sentences]\n",
    "\n",
    "# 숫자 벡터로 encode된 문장을 원래대로 decode하는 함수입니다. \n",
    "def get_decoded_sentence(encoded_sentence, index_to_word):\n",
    "    return ' '.join(index_to_word[index] if index in index_to_word else '<UNK>' for index in encoded_sentence[1:])  #[1:]를 통해 <BOS>를 제외\n",
    "\n",
    "# 여러개의 숫자 벡터로 encode된 문장을 한꺼번에 원래대로 decode하는 함수입니다. \n",
    "def get_decoded_sentences(encoded_sentences, index_to_word):\n",
    "    return [get_decoded_sentence(encoded_sentence, index_to_word) for encoded_sentence in encoded_sentences]"
   ]
  },
  {
   "cell_type": "code",
   "execution_count": 42,
   "metadata": {},
   "outputs": [
    {
     "name": "stdout",
     "output_type": "stream",
     "text": [
      "10000\n"
     ]
    }
   ],
   "source": [
    "# 들어왔늕비 확인\n",
    "print(len(word_to_index))"
   ]
  },
  {
   "cell_type": "markdown",
   "metadata": {},
   "source": [
    "### 3) 모델구성을 위한 데이터 분석 및 가공\n",
    "----\n",
    "\n",
    "* 데이터셋 내 문장 길이 분포\n",
    "* 적절한 최대 문장 길이 지정\n",
    "* keras.preprocessing.sequence.pad_sequences 을 활용한 패딩 추가"
   ]
  },
  {
   "cell_type": "code",
   "execution_count": 43,
   "metadata": {},
   "outputs": [
    {
     "name": "stdout",
     "output_type": "stream",
     "text": [
      "문장길이 평균 :  15.969355837799927\n",
      "문장길이 최대 :  116\n",
      "문장길이 표준편차 :  12.843536204665021\n"
     ]
    }
   ],
   "source": [
    "# 데이터셋 내 문장 길이 분포\n",
    "total_data_text = list(X_train) + list(X_test)\n",
    "\n",
    "num_tokens = [len(tokens) for tokens in total_data_text]\n",
    "num_tokens = np.array(num_tokens)\n",
    "\n",
    "print('문장길이 평균 : ', np.mean(num_tokens))\n",
    "print('문장길이 최대 : ', np.max(num_tokens))\n",
    "print('문장길이 표준편차 : ', np.std(num_tokens))"
   ]
  },
  {
   "cell_type": "code",
   "execution_count": 44,
   "metadata": {},
   "outputs": [
    {
     "name": "stdout",
     "output_type": "stream",
     "text": [
      "pad_sequences maxlen :  48\n",
      "전체 문장의 0.9548784420929768%가 maxlen 설정값 이내에 포함됩니다. \n"
     ]
    }
   ],
   "source": [
    "# 적절한 최대 문장 길이 지정\n",
    "max_tokens = np.mean(num_tokens) + 2.5 * np.std(num_tokens)\n",
    "maxlen = int(max_tokens)\n",
    "print('pad_sequences maxlen : ', maxlen)\n",
    "print('전체 문장의 {}%가 maxlen 설정값 이내에 포함됩니다. '.format(np.sum(num_tokens < max_tokens) / len(num_tokens)))"
   ]
  },
  {
   "cell_type": "code",
   "execution_count": 45,
   "metadata": {},
   "outputs": [],
   "source": [
    "# keras.preprocessing.sequence.pad_sequences 을 활용한 패딩 추가\n",
    "X_train = keras.preprocessing.sequence.pad_sequences(X_train,\n",
    "                                                        value=word_to_index[\"<PAD>\"],\n",
    "                                                        padding='pre',\n",
    "                                                        maxlen=maxlen)\n",
    "\n",
    "X_test = keras.preprocessing.sequence.pad_sequences(X_test,\n",
    "                                                       value=word_to_index[\"<PAD>\"],\n",
    "                                                       padding='pre',\n",
    "                                                       maxlen=maxlen)"
   ]
  },
  {
   "cell_type": "code",
   "execution_count": 46,
   "metadata": {},
   "outputs": [
    {
     "name": "stdout",
     "output_type": "stream",
     "text": [
      "(146182, 48)\n",
      "(49157, 48)\n"
     ]
    }
   ],
   "source": [
    "# 중간 점검\n",
    "print(X_train.shape)\n",
    "print(X_test.shape)"
   ]
  },
  {
   "cell_type": "markdown",
   "metadata": {},
   "source": [
    "### 4) 모델구성 및 validation set 구성\n",
    "----\n",
    "* 모델은 3가지 이상 다양하게 구성하여 실험해 보세요. "
   ]
  },
  {
   "cell_type": "code",
   "execution_count": 47,
   "metadata": {},
   "outputs": [
    {
     "name": "stdout",
     "output_type": "stream",
     "text": [
      "(30000, 48)\n",
      "(30000,)\n",
      "(116182, 48)\n",
      "(116182,)\n"
     ]
    }
   ],
   "source": [
    "# validation set 30000건 분리\n",
    "x_val = X_train[:30000]   \n",
    "y_val = y_train[:30000]\n",
    "\n",
    "# validation set을 제외한 나머지\n",
    "partial_x_train = X_train[30000:]  \n",
    "partial_y_train = y_train[30000:]\n",
    "\n",
    "print(x_val.shape)\n",
    "print(y_val.shape)\n",
    "print(partial_x_train.shape)\n",
    "print(partial_y_train.shape)"
   ]
  },
  {
   "cell_type": "markdown",
   "metadata": {},
   "source": [
    "###  LSTM 모델\n"
   ]
  },
  {
   "cell_type": "code",
   "execution_count": 48,
   "metadata": {},
   "outputs": [
    {
     "name": "stdout",
     "output_type": "stream",
     "text": [
      "Model: \"sequential_3\"\n",
      "_________________________________________________________________\n",
      "Layer (type)                 Output Shape              Param #   \n",
      "=================================================================\n",
      "embedding_3 (Embedding)      (None, None, 128)         1280000   \n",
      "_________________________________________________________________\n",
      "lstm_3 (LSTM)                (None, 128)               131584    \n",
      "_________________________________________________________________\n",
      "dense_3 (Dense)              (None, 1)                 129       \n",
      "=================================================================\n",
      "Total params: 1,411,713\n",
      "Trainable params: 1,411,713\n",
      "Non-trainable params: 0\n",
      "_________________________________________________________________\n"
     ]
    }
   ],
   "source": [
    "vocab_size = 10000\n",
    "word_vector_dim = 128\n",
    "\n",
    "LSTM_ = keras.Sequential()\n",
    "LSTM_.add(keras.layers.Embedding(vocab_size, word_vector_dim, input_shape=(None,)))\n",
    "LSTM_.add(keras.layers.LSTM(128))\n",
    "LSTM_.add(keras.layers.Dense(1, activation='sigmoid'))\n",
    "LSTM_.summary()"
   ]
  },
  {
   "cell_type": "markdown",
   "metadata": {},
   "source": [
    "### 5) 모델 훈련 개시\n",
    "\n",
    "----"
   ]
  },
  {
   "cell_type": "code",
   "execution_count": 49,
   "metadata": {},
   "outputs": [
    {
     "name": "stdout",
     "output_type": "stream",
     "text": [
      "Epoch 1/10\n",
      "1816/1816 [==============================] - ETA: 0s - loss: 0.3756 - accuracy: 0.8327\n",
      "Epoch 00001: saving model to best_model.h5\n",
      "1816/1816 [==============================] - 22s 12ms/step - loss: 0.3756 - accuracy: 0.8327 - val_loss: 0.3234 - val_accuracy: 0.8600\n",
      "Epoch 2/10\n",
      "1815/1816 [============================>.] - ETA: 0s - loss: 0.2869 - accuracy: 0.8785\n",
      "Epoch 00002: saving model to best_model.h5\n",
      "1816/1816 [==============================] - 21s 12ms/step - loss: 0.2869 - accuracy: 0.8785 - val_loss: 0.3178 - val_accuracy: 0.8660\n",
      "Epoch 3/10\n",
      "1813/1816 [============================>.] - ETA: 0s - loss: 0.2443 - accuracy: 0.8980\n",
      "Epoch 00003: saving model to best_model.h5\n",
      "1816/1816 [==============================] - 22s 12ms/step - loss: 0.2442 - accuracy: 0.8980 - val_loss: 0.3201 - val_accuracy: 0.8633\n",
      "Epoch 4/10\n",
      "1814/1816 [============================>.] - ETA: 0s - loss: 0.2082 - accuracy: 0.9153\n",
      "Epoch 00004: saving model to best_model.h5\n",
      "1816/1816 [==============================] - 22s 12ms/step - loss: 0.2081 - accuracy: 0.9153 - val_loss: 0.3480 - val_accuracy: 0.8617\n",
      "Epoch 5/10\n",
      "1816/1816 [==============================] - ETA: 0s - loss: 0.1738 - accuracy: 0.9297\n",
      "Epoch 00005: saving model to best_model.h5\n",
      "1816/1816 [==============================] - 21s 12ms/step - loss: 0.1738 - accuracy: 0.9297 - val_loss: 0.3825 - val_accuracy: 0.8593\n",
      "Epoch 6/10\n",
      "1813/1816 [============================>.] - ETA: 0s - loss: 0.1416 - accuracy: 0.9440\n",
      "Epoch 00006: saving model to best_model.h5\n",
      "1816/1816 [==============================] - 21s 12ms/step - loss: 0.1416 - accuracy: 0.9440 - val_loss: 0.4636 - val_accuracy: 0.8545\n",
      "Epoch 7/10\n",
      "1815/1816 [============================>.] - ETA: 0s - loss: 0.1145 - accuracy: 0.9551\n",
      "Epoch 00007: saving model to best_model.h5\n",
      "1816/1816 [==============================] - 21s 12ms/step - loss: 0.1145 - accuracy: 0.9551 - val_loss: 0.5070 - val_accuracy: 0.8543\n",
      "Epoch 00007: early stopping\n"
     ]
    }
   ],
   "source": [
    "from tensorflow.keras.callbacks import EarlyStopping, ModelCheckpoint\n",
    "\n",
    "\n",
    "LSTM_.compile(optimizer='adam',\n",
    "              loss='binary_crossentropy',\n",
    "              metrics=['accuracy'])\n",
    "\n",
    "early = EarlyStopping(monitor='val_loss', mode='min', verbose=1, patience=5)\n",
    "check = ModelCheckpoint('best_model.h5', monitor='val_acc', mode='max', verbose=1, save_bast_only=True)\n",
    "\n",
    "LSTM_history = LSTM_.fit(partial_x_train,\n",
    "                    partial_y_train,\n",
    "                    epochs=10,\n",
    "                    callbacks=[early, check],\n",
    "                    batch_size=64,\n",
    "                    validation_data=(x_val, y_val),\n",
    "                    verbose=1)"
   ]
  },
  {
   "cell_type": "markdown",
   "metadata": {},
   "source": [
    "#### 학습 결과 평가"
   ]
  },
  {
   "cell_type": "code",
   "execution_count": 50,
   "metadata": {},
   "outputs": [
    {
     "name": "stdout",
     "output_type": "stream",
     "text": [
      "1537/1537 - 2s - loss: 0.5077 - accuracy: 0.8537\n",
      "[0.50767582654953, 0.8537136316299438]\n"
     ]
    }
   ],
   "source": [
    "from tensorflow.keras.models import load_model\n",
    "\n",
    "loaded_model = load_model('best_model.h5')\n",
    "results = loaded_model.evaluate(X_test,  y_test, verbose=2)\n",
    "\n",
    "print(results)"
   ]
  },
  {
   "cell_type": "markdown",
   "metadata": {},
   "source": [
    "### 6) Loss, Accuracy 그래프 시각화\n",
    "\n",
    "----"
   ]
  },
  {
   "cell_type": "code",
   "execution_count": 51,
   "metadata": {},
   "outputs": [
    {
     "data": {
      "image/png": "[encoded data removed]",
      "text/plain": [
       "<Figure size 432x288 with 1 Axes>"
      ]
     },
     "metadata": {
      "needs_background": "light"
     },
     "output_type": "display_data"
    }
   ],
   "source": [
    "LSTM_history_dict = LSTM_history.history\n",
    "\n",
    "# Loss 시각화\n",
    "acc = LSTM_history_dict['accuracy']\n",
    "val_acc = LSTM_history_dict['val_accuracy']\n",
    "loss = LSTM_history_dict['loss']\n",
    "val_loss = LSTM_history_dict['val_loss']\n",
    "\n",
    "epochs = range(1, len(acc) + 1)\n",
    "\n",
    "plt.plot(epochs, loss, 'bo', label='Training loss')\n",
    "plt.plot(epochs, val_loss, 'b', label='Validation loss')\n",
    "plt.title('Training and validation loss')\n",
    "plt.xlabel('Epochs')\n",
    "plt.ylabel('Loss')\n",
    "plt.legend()\n",
    "\n",
    "plt.show()"
   ]
  },
  {
   "cell_type": "code",
   "execution_count": 52,
   "metadata": {},
   "outputs": [
    {
     "data": {
      "image/png": "[encoded data removed]",
      "text/plain": [
       "<Figure size 432x288 with 1 Axes>"
      ]
     },
     "metadata": {
      "needs_background": "light"
     },
     "output_type": "display_data"
    }
   ],
   "source": [
    "plt.clf()\n",
    "\n",
    "# Accuracy 시각화\n",
    "plt.plot(epochs, acc, 'bo', label='Training acc')\n",
    "plt.plot(epochs, val_acc, 'b', label='Validation acc')\n",
    "plt.title('Training and validation accuracy')\n",
    "plt.xlabel('Epochs')\n",
    "plt.ylabel('Accuracy')\n",
    "plt.legend()\n",
    "\n",
    "plt.show()"
   ]
  },
  {
   "cell_type": "markdown",
   "metadata": {},
   "source": [
    "### 7) 학습된 Embedding 레이어 분석"
   ]
  },
  {
   "cell_type": "code",
   "execution_count": 53,
   "metadata": {},
   "outputs": [
    {
     "name": "stdout",
     "output_type": "stream",
     "text": [
      "(10000, 128)\n"
     ]
    }
   ],
   "source": [
    "embedding_layer = LSTM_.layers[0]\n",
    "weights = embedding_layer.get_weights()[0]\n",
    "print(weights.shape)"
   ]
  },
  {
   "cell_type": "code",
   "execution_count": 54,
   "metadata": {},
   "outputs": [],
   "source": [
    "import os\n",
    "\n",
    "\n",
    "word2vec_file_path = os.getenv('HOME')+'/aiffel/sentiment_classification/LSTMword2vec.txt'\n",
    "f = open(word2vec_file_path, 'w')\n",
    "f.write('{} {}\\n'.format(vocab_size-4, word_vector_dim))\n",
    "\n",
    "vectors = LSTM_.get_weights()[0]\n",
    "for i in range(4,vocab_size):\n",
    "    f.write('{} {}\\n'.format(index_to_word[i], ' '.join(map(str, list(vectors[i, :])))))\n",
    "f.close()"
   ]
  },
  {
   "cell_type": "code",
   "execution_count": 55,
   "metadata": {},
   "outputs": [
    {
     "data": {
      "text/plain": [
       "array([ 0.08166385,  0.07750016, -0.1929764 ,  0.21227041,  0.22081979,\n",
       "       -0.1270282 ,  0.07777802, -0.03886495,  0.10711926,  0.1086327 ,\n",
       "        0.07433277,  0.20146139, -0.15135328, -0.04153663,  0.08853237,\n",
       "       -0.11937775, -0.16758087,  0.07579927, -0.04263296, -0.05509213,\n",
       "        0.09258738, -0.20187002,  0.15028998,  0.20730753, -0.21824442,\n",
       "       -0.1618825 ,  0.12715685,  0.15797414, -0.15811062, -0.18406853,\n",
       "        0.03977313, -0.09915809, -0.05907794, -0.11846054, -0.1313797 ,\n",
       "        0.03252379,  0.24850765, -0.16899502,  0.07483245,  0.05853071,\n",
       "        0.12110513,  0.15608633, -0.14141943, -0.07097395,  0.1662939 ,\n",
       "       -0.08901749, -0.21230313, -0.04352921, -0.08263081,  0.04728197,\n",
       "        0.09503671, -0.10668519, -0.1398077 , -0.19615018,  0.11276732,\n",
       "       -0.21525818,  0.00669413, -0.08148985,  0.00368618,  0.14818224,\n",
       "       -0.05702329, -0.20334783, -0.14596055, -0.17372492, -0.15188287,\n",
       "        0.22200593,  0.20193192,  0.07257949,  0.23271216, -0.09110031,\n",
       "        0.01332745, -0.12922847, -0.03406968, -0.21163341, -0.14531603,\n",
       "        0.06088945, -0.10483067, -0.03790074,  0.09887388, -0.04108142,\n",
       "       -0.15748286, -0.10742029,  0.09749988, -0.11735601,  0.04406449,\n",
       "        0.07584799, -0.18967171,  0.10058335,  0.1295414 ,  0.16374786,\n",
       "       -0.05675085,  0.18888812,  0.12899894, -0.11922453,  0.15211858,\n",
       "        0.13490213,  0.19393866, -0.07640978,  0.00887962,  0.08801032,\n",
       "        0.1560272 , -0.27121437,  0.02280983, -0.28457832,  0.2716995 ,\n",
       "        0.11063661, -0.10224029, -0.09483846,  0.16843073,  0.20110975,\n",
       "       -0.1421328 , -0.10795589,  0.11926317,  0.18708086,  0.03346394,\n",
       "       -0.10564795, -0.07348671, -0.14170922, -0.15559824, -0.24401323,\n",
       "        0.16195504, -0.10785884, -0.06256954,  0.07668619, -0.2038399 ,\n",
       "       -0.09767661,  0.1740146 ,  0.15691057], dtype=float32)"
      ]
     },
     "execution_count": 55,
     "metadata": {},
     "output_type": "execute_result"
    }
   ],
   "source": [
    "import gensim\n",
    "from gensim.models import KeyedVectors\n",
    "from gensim.models.keyedvectors import Word2VecKeyedVectors\n",
    "\n",
    "word_vectors = Word2VecKeyedVectors.load_word2vec_format(word2vec_file_path, binary=False)\n",
    "vector = word_vectors['교도소']\n",
    "vector\n"
   ]
  },
  {
   "cell_type": "code",
   "execution_count": 56,
   "metadata": {},
   "outputs": [
    {
     "data": {
      "text/plain": [
       "[('괜한', 0.8381674289703369),\n",
       " ('요세', 0.8348638415336609),\n",
       " ('늑대소년', 0.8321824669837952),\n",
       " ('i', 0.8273573517799377),\n",
       " ('일리', 0.8268836140632629),\n",
       " ('반대편', 0.8268546462059021),\n",
       " ('스웨덴', 0.8233925700187683),\n",
       " ('자전거', 0.8202304840087891),\n",
       " ('찾아봐도', 0.819800078868866),\n",
       " ('버틀러', 0.8193870782852173)]"
      ]
     },
     "execution_count": 56,
     "metadata": {},
     "output_type": "execute_result"
    }
   ],
   "source": [
    "#워드벡터 체크\n",
    "word_vectors.similar_by_word(\"교도소\")"
   ]
  },
  {
   "cell_type": "markdown",
   "metadata": {},
   "source": [
    "### 8) 한국어 Word2Vec 임베딩 활용하여 성능개선"
   ]
  },
  {
   "cell_type": "code",
   "execution_count": 57,
   "metadata": {},
   "outputs": [
    {
     "name": "stderr",
     "output_type": "stream",
     "text": [
      "/home/ssac15/Downloads/downloads/envs/aiffel/lib/python3.7/site-packages/ipykernel_launcher.py:8: DeprecationWarning: Call to deprecated `__getitem__` (Method will be removed in 4.0.0, use self.wv.__getitem__() instead).\n",
      "  \n"
     ]
    },
    {
     "data": {
      "text/plain": [
       "array([-9.13806677e-01,  1.89747643e+00, -1.35349739e+00, -8.21963474e-02,\n",
       "        3.06313992e-01, -2.16287136e+00, -4.84139442e-01, -9.96844709e-01,\n",
       "        1.56637728e+00, -5.81057727e-01,  2.05528307e+00,  1.44684649e+00,\n",
       "        2.08032146e-01, -5.49121380e-01,  4.94153053e-01, -9.72271800e-01,\n",
       "       -9.58574176e-01, -2.82881916e-01,  2.36805201e-01,  1.73390627e+00,\n",
       "       -9.32426929e-01,  6.15882099e-01,  1.00543487e+00, -8.79442990e-02,\n",
       "       -1.03616977e+00, -2.93409181e+00,  6.14461184e-01,  1.22445667e+00,\n",
       "       -8.06004167e-01,  4.41187590e-01,  3.80589575e-01, -2.49958962e-01,\n",
       "       -2.38243192e-01, -1.00419128e+00,  8.50401521e-01, -5.12514353e-01,\n",
       "        3.24396998e-01,  1.31700248e-01,  9.82230902e-01,  7.60160536e-02,\n",
       "        4.09986854e-01,  1.78525969e-01, -1.54977202e+00, -2.37669468e-01,\n",
       "       -2.38106702e-03, -1.65516227e-01,  7.06166089e-01,  4.03973848e-01,\n",
       "       -5.40422387e-02, -1.23820528e-01,  2.55524069e-01,  1.82339594e-01,\n",
       "        8.59276533e-01, -3.88412416e-01, -1.32472724e-01,  1.88163295e-01,\n",
       "        1.71263683e+00,  8.49995434e-01, -1.41564941e+00, -7.11029768e-01,\n",
       "       -1.37536138e-01, -3.35290998e-01,  3.12326759e-01, -2.91737407e-01,\n",
       "        6.12913609e-01,  5.70309401e-01, -3.04970175e-01, -8.04734647e-01,\n",
       "       -4.03468043e-01, -2.57286042e-01, -6.53918743e-01, -3.52389753e-01,\n",
       "       -5.49938858e-01, -1.66217133e-01, -5.17401457e-01,  4.16066706e-01,\n",
       "        1.98325300e+00, -4.09948766e-01,  3.19811136e-01, -1.26836449e-01,\n",
       "        2.15790614e-01,  2.72974551e-01,  1.13594449e+00, -2.54418761e-01,\n",
       "       -1.51164785e-01, -6.93878293e-01, -7.18083441e-01,  4.82732981e-01,\n",
       "        1.51044428e-01,  6.16806507e-01, -1.27608025e+00,  6.90141439e-01,\n",
       "        1.57896817e+00, -1.36901271e+00,  1.15191543e+00,  6.34521246e-01,\n",
       "        9.24382329e-01,  1.11145782e+00,  4.50476676e-01, -1.18730497e+00,\n",
       "        9.40584719e-01, -5.05329669e-01,  1.05839930e-01,  5.41171234e-04,\n",
       "        2.28747912e-02,  1.41499192e-01,  6.37330353e-01,  3.54270458e-01,\n",
       "       -2.62087643e-01, -5.73733926e-01,  1.64210439e+00,  7.40766346e-01,\n",
       "        2.45447183e+00,  5.69685102e-01, -6.62478030e-01, -1.85614020e-01,\n",
       "        4.15561318e-01, -2.16108672e-02,  8.54382932e-01, -6.35526478e-02,\n",
       "        6.43518448e-01,  7.21935213e-01, -4.43675369e-03,  1.01025033e+00,\n",
       "        3.06145489e-01, -1.85362905e-01, -1.11555874e+00,  1.98062527e+00,\n",
       "        1.19285297e+00, -1.92374364e-01,  9.37887207e-02, -5.43358028e-01,\n",
       "        1.13981657e-01, -1.17044699e+00,  1.16566755e-01, -5.80471337e-01,\n",
       "        8.91969562e-01, -1.23387836e-02, -7.90030777e-01, -2.15210512e-01,\n",
       "       -4.45691943e-01, -5.26689768e-01, -2.04922825e-01,  1.41382432e+00,\n",
       "        1.11139393e+00, -5.31573951e-01, -6.56007707e-01,  1.16795599e-02,\n",
       "        4.27591652e-01,  2.58151740e-01, -8.36095452e-01,  1.17841564e-01,\n",
       "        3.80907714e-01,  3.09893221e-01, -9.82762799e-02,  5.60285509e-01,\n",
       "       -8.00811231e-01,  1.20070505e+00,  7.34926045e-01, -1.39631307e+00,\n",
       "       -4.35125798e-01,  6.88460886e-01,  3.98505628e-02, -3.28717917e-01,\n",
       "        1.00219226e+00, -1.80494106e+00,  1.28120393e-01, -6.51737154e-02,\n",
       "        6.68988526e-01,  4.23726916e-01, -4.18442249e-01, -4.57475871e-01,\n",
       "       -1.63952506e+00, -1.54652372e-01,  1.05675244e+00, -3.91255021e-01,\n",
       "        2.82091498e-01, -4.33699518e-01,  2.60264039e-01, -5.82169831e-01,\n",
       "       -2.84356475e-01, -6.24816641e-02, -7.38030206e-03, -1.25921798e+00,\n",
       "        6.52215630e-02,  1.70499146e-01,  7.25870013e-01,  5.57152182e-02,\n",
       "        1.55285895e-01, -6.36594594e-01, -1.70215040e-01, -1.16419291e+00,\n",
       "       -1.44912446e+00,  8.37670088e-01,  1.88656792e-01,  1.82126153e+00,\n",
       "       -3.95134240e-01, -1.25013411e+00, -1.96684841e-02,  4.34947498e-02],\n",
       "      dtype=float32)"
      ]
     },
     "execution_count": 57,
     "metadata": {},
     "output_type": "execute_result"
    }
   ],
   "source": [
    "import gensim\n",
    "\n",
    "#바이너리 파일 읽을려고 하다가 실패하고 TSV로 태세 전환\n",
    "word2vec_path = os.getenv('HOME')+'/aiffel/sentiment_classification/ko.bin' #\n",
    "\n",
    "#노드 샘플코드는 훼이크... 였음.\n",
    "word_vectors = gensim.models.Word2Vec.load(word2vec_path)\n",
    "vector = word_vectors['교도소']\n",
    "vector\n"
   ]
  },
  {
   "cell_type": "code",
   "execution_count": 58,
   "metadata": {},
   "outputs": [
    {
     "name": "stderr",
     "output_type": "stream",
     "text": [
      "/home/ssac15/Downloads/downloads/envs/aiffel/lib/python3.7/site-packages/ipykernel_launcher.py:1: DeprecationWarning: Call to deprecated `similar_by_word` (Method will be removed in 4.0.0, use self.wv.similar_by_word() instead).\n",
      "  \"\"\"Entry point for launching an IPython kernel.\n"
     ]
    },
    {
     "data": {
      "text/plain": [
       "[('슬픔', 0.7216662764549255),\n",
       " ('행복', 0.6759077906608582),\n",
       " ('절망', 0.6468985080718994),\n",
       " ('기쁨', 0.6458413600921631),\n",
       " ('이별', 0.63347989320755),\n",
       " ('추억', 0.6320936679840088),\n",
       " ('인생', 0.6216273903846741),\n",
       " ('애정', 0.6206068992614746),\n",
       " ('연인', 0.6186062693595886),\n",
       " ('유혹', 0.5965287685394287)]"
      ]
     },
     "execution_count": 58,
     "metadata": {},
     "output_type": "execute_result"
    }
   ],
   "source": [
    "word_vectors.similar_by_word(\"사랑\")\n"
   ]
  },
  {
   "cell_type": "code",
   "execution_count": 59,
   "metadata": {},
   "outputs": [
    {
     "name": "stderr",
     "output_type": "stream",
     "text": [
      "/home/ssac15/Downloads/downloads/envs/aiffel/lib/python3.7/site-packages/ipykernel_launcher.py:7: DeprecationWarning: Call to deprecated `__contains__` (Method will be removed in 4.0.0, use self.wv.__contains__() instead).\n",
      "  import sys\n",
      "/home/ssac15/Downloads/downloads/envs/aiffel/lib/python3.7/site-packages/ipykernel_launcher.py:8: DeprecationWarning: Call to deprecated `__getitem__` (Method will be removed in 4.0.0, use self.wv.__getitem__() instead).\n",
      "  \n"
     ]
    }
   ],
   "source": [
    "vocab_size = 10000\n",
    "word_vector_dim = 200  #128 SHAPE에서 200으로 조정\n",
    "\n",
    "embedding_matrix = np.random.rand(vocab_size, word_vector_dim)\n",
    "\n",
    "for i in range(4,vocab_size):\n",
    "    if index_to_word[i] in word_vectors:\n",
    "        embedding_matrix[i] = word_vectors[index_to_word[i]]\n",
    "        \n",
    "\n",
    "#DeprecationWaring은 무시하자.. 곧 없어진다는 경고 인듯.. 에러는 아님."
   ]
  },
  {
   "cell_type": "markdown",
   "metadata": {},
   "source": [
    "## 1차 LSTM 모델\n"
   ]
  },
  {
   "cell_type": "code",
   "execution_count": 60,
   "metadata": {},
   "outputs": [
    {
     "name": "stdout",
     "output_type": "stream",
     "text": [
      "Model: \"sequential_4\"\n",
      "_________________________________________________________________\n",
      "Layer (type)                 Output Shape              Param #   \n",
      "=================================================================\n",
      "embedding_4 (Embedding)      (None, 48, 200)           2000000   \n",
      "_________________________________________________________________\n",
      "lstm_4 (LSTM)                (None, 16)                13888     \n",
      "_________________________________________________________________\n",
      "dense_4 (Dense)              (None, 8)                 136       \n",
      "_________________________________________________________________\n",
      "dense_5 (Dense)              (None, 1)                 9         \n",
      "=================================================================\n",
      "Total params: 2,014,033\n",
      "Trainable params: 2,014,033\n",
      "Non-trainable params: 0\n",
      "_________________________________________________________________\n"
     ]
    }
   ],
   "source": [
    "from tensorflow.keras.initializers import Constant\n",
    "\n",
    "vocab_size = 10000  \n",
    "word_vector_dim = 200 \n",
    "\n",
    "# 모델 구성\n",
    "model = keras.Sequential()\n",
    "model.add(keras.layers.Embedding(vocab_size, \n",
    "                                 word_vector_dim, \n",
    "                                 embeddings_initializer=Constant(embedding_matrix),  # 카피한 임베딩을 여기서 활용\n",
    "                                 input_length=maxlen, \n",
    "                                 trainable=True))   # trainable을 True로 주면 Fine-tuning\n",
    "model.add(keras.layers.LSTM(16,dropout=0.7))\n",
    "model.add(keras.layers.Dense(8, activation='relu'))\n",
    "model.add(keras.layers.Dense(1, activation='sigmoid'))\n",
    "\n",
    "model.summary()\n"
   ]
  },
  {
   "cell_type": "code",
   "execution_count": 61,
   "metadata": {},
   "outputs": [
    {
     "name": "stdout",
     "output_type": "stream",
     "text": [
      "Epoch 1/20\n",
      "227/227 [==============================] - 6s 27ms/step - loss: 0.6642 - accuracy: 0.5863 - val_loss: 0.5508 - val_accuracy: 0.7259\n",
      "Epoch 2/20\n",
      "227/227 [==============================] - 6s 27ms/step - loss: 0.5620 - accuracy: 0.7132 - val_loss: 0.4731 - val_accuracy: 0.7846\n",
      "Epoch 3/20\n",
      "227/227 [==============================] - 7s 29ms/step - loss: 0.5036 - accuracy: 0.7566 - val_loss: 0.4317 - val_accuracy: 0.8103\n",
      "Epoch 4/20\n",
      "227/227 [==============================] - 7s 29ms/step - loss: 0.4656 - accuracy: 0.7815 - val_loss: 0.4295 - val_accuracy: 0.8120\n",
      "Epoch 5/20\n",
      "227/227 [==============================] - 6s 28ms/step - loss: 0.4394 - accuracy: 0.7978 - val_loss: 0.3829 - val_accuracy: 0.8326\n",
      "Epoch 6/20\n",
      "227/227 [==============================] - 6s 26ms/step - loss: 0.4214 - accuracy: 0.8081 - val_loss: 0.3733 - val_accuracy: 0.8367\n",
      "Epoch 7/20\n",
      "227/227 [==============================] - 6s 27ms/step - loss: 0.4048 - accuracy: 0.8174 - val_loss: 0.3713 - val_accuracy: 0.8398\n",
      "Epoch 8/20\n",
      "227/227 [==============================] - 6s 26ms/step - loss: 0.3935 - accuracy: 0.8233 - val_loss: 0.3577 - val_accuracy: 0.8456\n",
      "Epoch 9/20\n",
      "227/227 [==============================] - 6s 27ms/step - loss: 0.3850 - accuracy: 0.8284 - val_loss: 0.3544 - val_accuracy: 0.8466\n",
      "Epoch 10/20\n",
      "227/227 [==============================] - 7s 30ms/step - loss: 0.3765 - accuracy: 0.8315 - val_loss: 0.3470 - val_accuracy: 0.8507\n",
      "Epoch 11/20\n",
      "227/227 [==============================] - 6s 28ms/step - loss: 0.3700 - accuracy: 0.8355 - val_loss: 0.3465 - val_accuracy: 0.8506\n",
      "Epoch 12/20\n",
      "227/227 [==============================] - 6s 27ms/step - loss: 0.3653 - accuracy: 0.8382 - val_loss: 0.3439 - val_accuracy: 0.8529\n",
      "Epoch 13/20\n",
      "227/227 [==============================] - 6s 28ms/step - loss: 0.3575 - accuracy: 0.8417 - val_loss: 0.3428 - val_accuracy: 0.8516\n",
      "Epoch 14/20\n",
      "227/227 [==============================] - 6s 27ms/step - loss: 0.3534 - accuracy: 0.8447 - val_loss: 0.3425 - val_accuracy: 0.8531\n",
      "Epoch 15/20\n",
      "227/227 [==============================] - 6s 26ms/step - loss: 0.3491 - accuracy: 0.8474 - val_loss: 0.3366 - val_accuracy: 0.8557\n",
      "Epoch 16/20\n",
      "227/227 [==============================] - 6s 26ms/step - loss: 0.3453 - accuracy: 0.8498 - val_loss: 0.3370 - val_accuracy: 0.8565\n",
      "Epoch 17/20\n",
      "227/227 [==============================] - 7s 31ms/step - loss: 0.3426 - accuracy: 0.8511 - val_loss: 0.3393 - val_accuracy: 0.8539\n",
      "Epoch 18/20\n",
      "227/227 [==============================] - 6s 27ms/step - loss: 0.3385 - accuracy: 0.8529 - val_loss: 0.3355 - val_accuracy: 0.8564\n",
      "Epoch 19/20\n",
      "227/227 [==============================] - 6s 26ms/step - loss: 0.3346 - accuracy: 0.8550 - val_loss: 0.3345 - val_accuracy: 0.8558\n",
      "Epoch 20/20\n",
      "227/227 [==============================] - 6s 26ms/step - loss: 0.3323 - accuracy: 0.8559 - val_loss: 0.3337 - val_accuracy: 0.8574\n"
     ]
    }
   ],
   "source": [
    "\n",
    "model.compile(optimizer='adam',\n",
    "              loss='binary_crossentropy',\n",
    "              metrics=['accuracy'])\n",
    "              \n",
    "epochs=20 \n",
    "\n",
    "history_w2v = model.fit(partial_x_train,\n",
    "                    partial_y_train,\n",
    "                    epochs=epochs,\n",
    "                    batch_size=512,\n",
    "                    validation_data=(x_val, y_val),\n",
    "                    verbose=1)\n"
   ]
  },
  {
   "cell_type": "code",
   "execution_count": 62,
   "metadata": {},
   "outputs": [
    {
     "name": "stdout",
     "output_type": "stream",
     "text": [
      "1537/1537 - 3s - loss: 0.3446 - accuracy: 0.8531\n",
      "[0.3446183204650879, 0.8531439900398254]\n"
     ]
    }
   ],
   "source": [
    "\n",
    "# model evaluation\n",
    "results = model.evaluate(X_test,  y_test, verbose=2)\n",
    "\n",
    "print(results)"
   ]
  },
  {
   "cell_type": "code",
   "execution_count": null,
   "metadata": {},
   "outputs": [],
   "source": []
  },
  {
   "cell_type": "markdown",
   "metadata": {},
   "source": [
    "\n",
    "# 2차 글로벌 맥스 풀링 모델 "
   ]
  },
  {
   "cell_type": "code",
   "execution_count": 63,
   "metadata": {},
   "outputs": [],
   "source": [
    "from tensorflow.keras.initializers import Constant\n",
    "\n",
    "\n",
    "GMP_model_ko = keras.Sequential()\n",
    "GMP_model_ko.add(keras.layers.Embedding(vocab_size, \n",
    "                                 word_vector_dim, \n",
    "                                 embeddings_initializer=Constant(embedding_matrix),\n",
    "                                 input_length=maxlen, \n",
    "                                 trainable=True))\n",
    "GMP_model_ko.add(keras.layers.GlobalMaxPooling1D())\n",
    "GMP_model_ko.add(keras.layers.Dense(8, activation='relu'))\n",
    "GMP_model_ko.add(keras.layers.Dense(1, activation='sigmoid'))"
   ]
  },
  {
   "cell_type": "code",
   "execution_count": 64,
   "metadata": {},
   "outputs": [
    {
     "name": "stdout",
     "output_type": "stream",
     "text": [
      "Model: \"sequential_5\"\n",
      "_________________________________________________________________\n",
      "Layer (type)                 Output Shape              Param #   \n",
      "=================================================================\n",
      "embedding_5 (Embedding)      (None, 48, 200)           2000000   \n",
      "_________________________________________________________________\n",
      "global_max_pooling1d (Global (None, 200)               0         \n",
      "_________________________________________________________________\n",
      "dense_6 (Dense)              (None, 8)                 1608      \n",
      "_________________________________________________________________\n",
      "dense_7 (Dense)              (None, 1)                 9         \n",
      "=================================================================\n",
      "Total params: 2,001,617\n",
      "Trainable params: 2,001,617\n",
      "Non-trainable params: 0\n",
      "_________________________________________________________________\n"
     ]
    }
   ],
   "source": [
    "GMP_model_ko.summary()\n"
   ]
  },
  {
   "cell_type": "markdown",
   "metadata": {},
   "source": [
    "## 훈련 고고"
   ]
  },
  {
   "cell_type": "code",
   "execution_count": 65,
   "metadata": {},
   "outputs": [],
   "source": [
    "GMP_model_ko.compile(optimizer='adam',\n",
    "              loss='binary_crossentropy',\n",
    "              metrics=['accuracy'])"
   ]
  },
  {
   "cell_type": "code",
   "execution_count": 66,
   "metadata": {},
   "outputs": [
    {
     "name": "stdout",
     "output_type": "stream",
     "text": [
      "Epoch 1/20\n",
      "227/227 [==============================] - 6s 24ms/step - loss: 0.6483 - accuracy: 0.6192 - val_loss: 0.5828 - val_accuracy: 0.6977\n",
      "Epoch 2/20\n",
      "227/227 [==============================] - 7s 29ms/step - loss: 0.5497 - accuracy: 0.7214 - val_loss: 0.5175 - val_accuracy: 0.7461\n",
      "Epoch 3/20\n",
      "227/227 [==============================] - 6s 26ms/step - loss: 0.4929 - accuracy: 0.7626 - val_loss: 0.4796 - val_accuracy: 0.7697\n",
      "Epoch 4/20\n",
      "227/227 [==============================] - 6s 28ms/step - loss: 0.4536 - accuracy: 0.7878 - val_loss: 0.4513 - val_accuracy: 0.7869\n",
      "Epoch 5/20\n",
      "227/227 [==============================] - 6s 26ms/step - loss: 0.4237 - accuracy: 0.8056 - val_loss: 0.4384 - val_accuracy: 0.7945\n",
      "Epoch 6/20\n",
      "227/227 [==============================] - 6s 28ms/step - loss: 0.4008 - accuracy: 0.8189 - val_loss: 0.4228 - val_accuracy: 0.8033\n",
      "Epoch 7/20\n",
      "227/227 [==============================] - 6s 24ms/step - loss: 0.3800 - accuracy: 0.8307 - val_loss: 0.4121 - val_accuracy: 0.8095\n",
      "Epoch 8/20\n",
      "227/227 [==============================] - 5s 24ms/step - loss: 0.3627 - accuracy: 0.8397 - val_loss: 0.4073 - val_accuracy: 0.8121\n",
      "Epoch 9/20\n",
      "227/227 [==============================] - 5s 24ms/step - loss: 0.3481 - accuracy: 0.8484 - val_loss: 0.4006 - val_accuracy: 0.8171\n",
      "Epoch 10/20\n",
      "227/227 [==============================] - 5s 24ms/step - loss: 0.3338 - accuracy: 0.8561 - val_loss: 0.3976 - val_accuracy: 0.8203\n",
      "Epoch 11/20\n",
      "227/227 [==============================] - 6s 24ms/step - loss: 0.3200 - accuracy: 0.8623 - val_loss: 0.3974 - val_accuracy: 0.8212\n",
      "Epoch 12/20\n",
      "227/227 [==============================] - 5s 24ms/step - loss: 0.3087 - accuracy: 0.8696 - val_loss: 0.3951 - val_accuracy: 0.8249\n",
      "Epoch 13/20\n",
      "227/227 [==============================] - 6s 26ms/step - loss: 0.2964 - accuracy: 0.8759 - val_loss: 0.3963 - val_accuracy: 0.8254\n",
      "Epoch 14/20\n",
      "227/227 [==============================] - 6s 26ms/step - loss: 0.2864 - accuracy: 0.8808 - val_loss: 0.3954 - val_accuracy: 0.8269\n",
      "Epoch 15/20\n",
      "227/227 [==============================] - 5s 24ms/step - loss: 0.2744 - accuracy: 0.8877 - val_loss: 0.3982 - val_accuracy: 0.8281\n",
      "Epoch 16/20\n",
      "227/227 [==============================] - 5s 24ms/step - loss: 0.2636 - accuracy: 0.8917 - val_loss: 0.4016 - val_accuracy: 0.8288\n",
      "Epoch 17/20\n",
      "227/227 [==============================] - 5s 24ms/step - loss: 0.2536 - accuracy: 0.8973 - val_loss: 0.4013 - val_accuracy: 0.8289\n",
      "Epoch 18/20\n",
      "227/227 [==============================] - 5s 24ms/step - loss: 0.2435 - accuracy: 0.9022 - val_loss: 0.4053 - val_accuracy: 0.8306\n",
      "Epoch 19/20\n",
      "227/227 [==============================] - 5s 24ms/step - loss: 0.2346 - accuracy: 0.9064 - val_loss: 0.4109 - val_accuracy: 0.8300\n",
      "Epoch 20/20\n",
      "227/227 [==============================] - 5s 24ms/step - loss: 0.2237 - accuracy: 0.9118 - val_loss: 0.4169 - val_accuracy: 0.8301\n"
     ]
    }
   ],
   "source": [
    "history = GMP_model_ko.fit(partial_x_train,\n",
    "                    partial_y_train,\n",
    "                    epochs=20,\n",
    "                    batch_size=512,\n",
    "                    validation_data=(x_val, y_val),\n",
    "                    verbose=1)"
   ]
  },
  {
   "cell_type": "code",
   "execution_count": 67,
   "metadata": {},
   "outputs": [
    {
     "name": "stdout",
     "output_type": "stream",
     "text": [
      "1537/1537 - 2s - loss: 0.4287 - accuracy: 0.8245\n",
      "[0.4287342429161072, 0.8245417475700378]\n"
     ]
    }
   ],
   "source": [
    "results = GMP_model_ko.evaluate(X_test,  y_test, verbose=2)\n",
    "\n",
    "print(results)"
   ]
  },
  {
   "cell_type": "markdown",
   "metadata": {},
   "source": [
    "# 3차 CONV 1D  모델 "
   ]
  },
  {
   "cell_type": "code",
   "execution_count": 68,
   "metadata": {},
   "outputs": [],
   "source": [
    "vocab_size = 10000\n",
    "word_vector_dim = 200\n",
    "\n",
    "conv1d_model = keras.Sequential()\n",
    "conv1d_model.add(keras.layers.Embedding(vocab_size, word_vector_dim, embeddings_initializer=Constant(embedding_matrix), input_shape=(None,)))\n",
    "conv1d_model.add(keras.layers.Conv1D(64, 7, activation='relu'))\n",
    "conv1d_model.add(keras.layers.MaxPooling1D(5))\n",
    "conv1d_model.add(keras.layers.Conv1D(64, 7, activation='relu'))\n",
    "conv1d_model.add(keras.layers.GlobalMaxPooling1D())\n",
    "conv1d_model.add(keras.layers.Dense(128, activation='relu'))\n",
    "conv1d_model.add(keras.layers.Dense(1, activation='sigmoid'))\n"
   ]
  },
  {
   "cell_type": "code",
   "execution_count": 69,
   "metadata": {},
   "outputs": [
    {
     "name": "stdout",
     "output_type": "stream",
     "text": [
      "Model: \"sequential_6\"\n",
      "_________________________________________________________________\n",
      "Layer (type)                 Output Shape              Param #   \n",
      "=================================================================\n",
      "embedding_6 (Embedding)      (None, None, 200)         2000000   \n",
      "_________________________________________________________________\n",
      "conv1d (Conv1D)              (None, None, 64)          89664     \n",
      "_________________________________________________________________\n",
      "max_pooling1d (MaxPooling1D) (None, None, 64)          0         \n",
      "_________________________________________________________________\n",
      "conv1d_1 (Conv1D)            (None, None, 64)          28736     \n",
      "_________________________________________________________________\n",
      "global_max_pooling1d_1 (Glob (None, 64)                0         \n",
      "_________________________________________________________________\n",
      "dense_8 (Dense)              (None, 128)               8320      \n",
      "_________________________________________________________________\n",
      "dense_9 (Dense)              (None, 1)                 129       \n",
      "=================================================================\n",
      "Total params: 2,126,849\n",
      "Trainable params: 2,126,849\n",
      "Non-trainable params: 0\n",
      "_________________________________________________________________\n"
     ]
    }
   ],
   "source": [
    "conv1d_model.summary()\n"
   ]
  },
  {
   "cell_type": "markdown",
   "metadata": {},
   "source": [
    "## 마지막 훈련 고고"
   ]
  },
  {
   "cell_type": "code",
   "execution_count": 70,
   "metadata": {},
   "outputs": [
    {
     "name": "stdout",
     "output_type": "stream",
     "text": [
      "Epoch 1/20\n",
      "227/227 [==============================] - 14s 61ms/step - loss: 0.5563 - accuracy: 0.7018 - val_loss: 0.4659 - val_accuracy: 0.7727\n",
      "Epoch 2/20\n",
      "227/227 [==============================] - 6s 28ms/step - loss: 0.4152 - accuracy: 0.8061 - val_loss: 0.4132 - val_accuracy: 0.8089\n",
      "Epoch 3/20\n",
      "227/227 [==============================] - 6s 27ms/step - loss: 0.3496 - accuracy: 0.8421 - val_loss: 0.4027 - val_accuracy: 0.8138\n",
      "Epoch 4/20\n",
      "227/227 [==============================] - 6s 27ms/step - loss: 0.3022 - accuracy: 0.8682 - val_loss: 0.4082 - val_accuracy: 0.8150\n",
      "Epoch 5/20\n",
      "227/227 [==============================] - 6s 27ms/step - loss: 0.2614 - accuracy: 0.8879 - val_loss: 0.4384 - val_accuracy: 0.8126\n",
      "Epoch 6/20\n",
      "227/227 [==============================] - 6s 27ms/step - loss: 0.2246 - accuracy: 0.9050 - val_loss: 0.4729 - val_accuracy: 0.8098\n",
      "Epoch 7/20\n",
      "227/227 [==============================] - 6s 27ms/step - loss: 0.1915 - accuracy: 0.9197 - val_loss: 0.5310 - val_accuracy: 0.8060\n",
      "Epoch 8/20\n",
      "227/227 [==============================] - 6s 27ms/step - loss: 0.1625 - accuracy: 0.9324 - val_loss: 0.5807 - val_accuracy: 0.8075\n",
      "Epoch 9/20\n",
      "227/227 [==============================] - 6s 27ms/step - loss: 0.1406 - accuracy: 0.9413 - val_loss: 0.7023 - val_accuracy: 0.7987\n",
      "Epoch 10/20\n",
      "227/227 [==============================] - 6s 27ms/step - loss: 0.1247 - accuracy: 0.9476 - val_loss: 0.7469 - val_accuracy: 0.8008\n",
      "Epoch 11/20\n",
      "227/227 [==============================] - 6s 28ms/step - loss: 0.1136 - accuracy: 0.9517 - val_loss: 0.7951 - val_accuracy: 0.8012\n",
      "Epoch 12/20\n",
      "227/227 [==============================] - 6s 27ms/step - loss: 0.0958 - accuracy: 0.9593 - val_loss: 0.8917 - val_accuracy: 0.8009\n",
      "Epoch 13/20\n",
      "227/227 [==============================] - 6s 27ms/step - loss: 0.0910 - accuracy: 0.9610 - val_loss: 0.8713 - val_accuracy: 0.8021\n",
      "Epoch 14/20\n",
      "227/227 [==============================] - 6s 27ms/step - loss: 0.0857 - accuracy: 0.9629 - val_loss: 0.9703 - val_accuracy: 0.7995\n",
      "Epoch 15/20\n",
      "227/227 [==============================] - 6s 27ms/step - loss: 0.0819 - accuracy: 0.9644 - val_loss: 1.0685 - val_accuracy: 0.8025\n",
      "Epoch 16/20\n",
      "227/227 [==============================] - 6s 28ms/step - loss: 0.0751 - accuracy: 0.9668 - val_loss: 1.0496 - val_accuracy: 0.7978\n",
      "Epoch 17/20\n",
      "227/227 [==============================] - 6s 27ms/step - loss: 0.0682 - accuracy: 0.9692 - val_loss: 1.1156 - val_accuracy: 0.7980\n",
      "Epoch 18/20\n",
      "227/227 [==============================] - 6s 27ms/step - loss: 0.0650 - accuracy: 0.9707 - val_loss: 1.1509 - val_accuracy: 0.7963\n",
      "Epoch 19/20\n",
      "227/227 [==============================] - 6s 27ms/step - loss: 0.0615 - accuracy: 0.9723 - val_loss: 1.2325 - val_accuracy: 0.7979\n",
      "Epoch 20/20\n",
      "227/227 [==============================] - 6s 27ms/step - loss: 0.0637 - accuracy: 0.9714 - val_loss: 1.1880 - val_accuracy: 0.8008\n"
     ]
    }
   ],
   "source": [
    "# Train\n",
    "conv1d_model.compile(optimizer='adam',\n",
    "              loss='binary_crossentropy',\n",
    "              metrics=['accuracy'])\n",
    "\n",
    "conv1d_history = conv1d_model.fit(partial_x_train,\n",
    "                    partial_y_train,\n",
    "                    epochs=20,\n",
    "                    batch_size=512,\n",
    "                    validation_data=(x_val, y_val),\n",
    "                    verbose=1)"
   ]
  },
  {
   "cell_type": "code",
   "execution_count": 71,
   "metadata": {},
   "outputs": [
    {
     "name": "stdout",
     "output_type": "stream",
     "text": [
      "1537/1537 - 4s - loss: 1.2066 - accuracy: 0.7964\n",
      "[1.2065595388412476, 0.7964074015617371]\n"
     ]
    }
   ],
   "source": [
    "results = conv1d_model.evaluate(X_test,  y_test, verbose=2)\n",
    "\n",
    "print(results)"
   ]
  },
  {
   "cell_type": "markdown",
   "metadata": {},
   "source": [
    "----\n",
    "\n",
    "## 총평\n",
    "\n",
    "### 1. LSTM으로 최초 진행\n",
    "1537/1537 - 2s - loss: 0.5077 - accuracy: 0.8537\n",
    "[0.50767582654953, 0.8537136316299438]\n",
    "\n",
    "\n",
    "###  2. 한글 word2vec 임베딩 확인\n",
    "\n",
    "\n",
    "### 1. LSTM 개선  진행 !!  accuracy: 0.8531\n",
    "1537/1537 - 3s - loss: 0.3446 - accuracy: 0.8531\n",
    "[0.3446183204650879, 0.8531439900398254]\n",
    "\n",
    "\n",
    "\n",
    "### 2. 글로벌 맥스풀링 모델 진행\n",
    "\n",
    "1537/1537 - 2s - loss: 0.4287 - accuracy: 0.8245\n",
    "[0.4287342429161072, 0.8245417475700378]\n",
    "\n",
    "\n",
    "### 3. Conv1D  모델 진헹\n",
    "1537/1537 - 4s - loss: 1.2066 - accuracy: 0.7964\n",
    "[1.2065595388412476, 0.7964074015617371]\n",
    "\n",
    "----\n",
    "\n",
    "#### 중간 중간에 동작하지 않는 코드 들이 있어서(라이브러리 , 워드2벡 임배딩 활용 등)어려웠으나, 슬랙에 올라온 답변을 통해 해결할 수 있었다. \n",
    "#### E3 카메라 스티커 이후 Exploration 난이도가 확 높아진 느낌이었다.  \n",
    "#### 루브릭 평가 기준인 85% 이상은 워드임베딩레이어를 활용한 LSTM 개선 모델에서 성공하였다.\n",
    "\n",
    "#### 지금까지 수행한 Exploration중에 가장 어려웠지만, 개인적으론 가장 흥미로웠다. \n",
    "#### 확실히 첫 과제 (E1)때보다  나아진 것 같다. 지금 아니면 언제 해 보겠냐는 마음으로 끝까지 했다.  (재미있지만.. 잠 좀 푹 자고 싶다. ) "
   ]
  }
 ],
 "metadata": {
  "kernelspec": {
   "display_name": "aiffel",
   "language": "python",
   "name": "aiffel"
  },
  "language_info": {
   "codemirror_mode": {
    "name": "ipython",
    "version": 3
   },
   "file_extension": ".py",
   "mimetype": "text/x-python",
   "name": "python",
   "nbconvert_exporter": "python",
   "pygments_lexer": "ipython3",
   "version": "3.7.9"
  }
 },
 "nbformat": 4,
 "nbformat_minor": 4
}
